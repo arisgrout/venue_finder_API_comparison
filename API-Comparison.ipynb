{
 "cells": [
  {
   "cell_type": "markdown",
   "id": "distant-product",
   "metadata": {},
   "source": [
    "# Mini-Project II"
   ]
  },
  {
   "cell_type": "markdown",
   "id": "needed-pottery",
   "metadata": {},
   "source": [
    "### High Level\n",
    "\n",
    "1. Build a SQLite database of restaurants, bars and various points of interest (POIs) in the ___ area\n",
    "2. Discern which API (Foursquare or Yelp) has better coverage over the selected area.\n",
    "\n",
    "### Low Level\n",
    "1. Pull data about various POIs in the ___ area via API (Foursquare and Yelp).\n",
    "2. Create SQLite database and store the data about the POIs\n",
    "3. Explore the data using SQL or Pandas and discern which API has better coverage of the area.\n",
    "4. Choose the top 10 POIs based on the popularity (number of reviews or average rating) (Yelp, Foursquare)."
   ]
  },
  {
   "cell_type": "code",
   "execution_count": 3,
   "id": "future-vacuum",
   "metadata": {},
   "outputs": [],
   "source": [
    "import numpy as np\n",
    "import pandas as pd\n",
    "import requests as re\n",
    "import os\n",
    "import sqlite3\n",
    "import foursquare as fsq\n",
    "import json\n",
    "from IPython.display import JSON #JSON(response.json())"
   ]
  },
  {
   "cell_type": "markdown",
   "id": "governmental-burner",
   "metadata": {},
   "source": [
    "### API Setup"
   ]
  },
  {
   "cell_type": "code",
   "execution_count": 2,
   "id": "sorted-cotton",
   "metadata": {},
   "outputs": [],
   "source": [
    "# set API keys\n",
    "yelp_id = os.environ[\"YELP_ID\"]\n",
    "yelp_key = os.environ[\"YELP_KEY\"]\n",
    "fsq_id = os.environ[\"FOURSQUARE_CLIENT_ID\"]\n",
    "fsq_secret = os.environ[\"FOURSQUARE_CLIENT_SECRET\"]"
   ]
  },
  {
   "cell_type": "markdown",
   "id": "bibliographic-chassis",
   "metadata": {},
   "source": [
    "#### Test: Yelp API connection\n",
    "https://github.com/mLewisLogic/foursquare"
   ]
  },
  {
   "cell_type": "code",
   "execution_count": 3,
   "id": "prompt-essay",
   "metadata": {},
   "outputs": [],
   "source": [
    "test_url = 'https://api.yelp.com/v3/autocomplete?text=del&latitude=37.786882&longitude=-122.399972'\n",
    "test_yelp = re.get(test_url, headers={'Authorization':f'Bearer {yelp_key}'})"
   ]
  },
  {
   "cell_type": "code",
   "execution_count": 4,
   "id": "novel-creation",
   "metadata": {},
   "outputs": [
    {
     "data": {
      "text/plain": [
       "<Response [200]>"
      ]
     },
     "execution_count": 4,
     "metadata": {},
     "output_type": "execute_result"
    }
   ],
   "source": [
    "test_yelp"
   ]
  },
  {
   "cell_type": "markdown",
   "id": "british-football",
   "metadata": {},
   "source": [
    "#### Test: Foursquare API client connection\n",
    "https://github.com/mLewisLogic/foursquare"
   ]
  },
  {
   "cell_type": "code",
   "execution_count": 5,
   "id": "successful-president",
   "metadata": {},
   "outputs": [],
   "source": [
    "# Construct the client object\n",
    "client = fsq.Foursquare(client_id=fsq_id, client_secret=fsq_secret)"
   ]
  },
  {
   "cell_type": "code",
   "execution_count": 6,
   "id": "dirty-parade",
   "metadata": {
    "collapsed": true,
    "jupyter": {
     "outputs_hidden": true
    }
   },
   "outputs": [
    {
     "data": {
      "text/plain": [
       "{'venues': [{'id': '4a118d01f964a52023771fe3',\n",
       "   'name': 'Kam Hing Coffee Shop 金興',\n",
       "   'location': {'address': '118 Baxter St',\n",
       "    'crossStreet': 'btwn Hester and Canal St',\n",
       "    'lat': 40.71801668499095,\n",
       "    'lng': -73.99920951068383,\n",
       "    'labeledLatLngs': [{'label': 'display',\n",
       "      'lat': 40.71801668499095,\n",
       "      'lng': -73.99920951068383}],\n",
       "    'distance': 669,\n",
       "    'postalCode': '10013',\n",
       "    'cc': 'US',\n",
       "    'city': 'New York',\n",
       "    'state': 'NY',\n",
       "    'country': 'United States',\n",
       "    'formattedAddress': ['118 Baxter St (btwn Hester and Canal St)',\n",
       "     'New York, NY 10013',\n",
       "     'United States']},\n",
       "   'categories': [{'id': '4bf58dd8d48988d1e0931735',\n",
       "     'name': 'Coffee Shop',\n",
       "     'pluralName': 'Coffee Shops',\n",
       "     'shortName': 'Coffee Shop',\n",
       "     'icon': {'prefix': 'https://ss3.4sqi.net/img/categories_v2/food/coffeeshop_',\n",
       "      'suffix': '.png'},\n",
       "     'primary': True}],\n",
       "   'delivery': {'id': '2461479',\n",
       "    'url': 'https://www.seamless.com/menu/new-kam-hing-118-baxter-st-new-york/2461479?affiliate=1131&utm_source=foursquare-affiliate-network&utm_medium=affiliate&utm_campaign=1131&utm_content=2461479',\n",
       "    'provider': {'name': 'seamless',\n",
       "     'icon': {'prefix': 'https://fastly.4sqi.net/img/general/cap/',\n",
       "      'sizes': [40, 50],\n",
       "      'name': '/delivery_provider_seamless_20180129.png'}}},\n",
       "   'venuePage': {'id': '53113426'},\n",
       "   'referralId': 'v-1615591251',\n",
       "   'hasPerk': False},\n",
       "  {'id': '546cb126498eabb0f206d61f',\n",
       "   'name': 'Partners Coffee Roasters',\n",
       "   'location': {'address': '44 Charles St',\n",
       "    'crossStreet': 'at 7th Ave S',\n",
       "    'lat': 40.73491348804492,\n",
       "    'lng': -74.00205073261284,\n",
       "    'labeledLatLngs': [{'label': 'display',\n",
       "      'lat': 40.73491348804492,\n",
       "      'lng': -74.00205073261284},\n",
       "     {'label': 'entrance', 'lat': 40.734954, 'lng': -74.002239}],\n",
       "    'distance': 1295,\n",
       "    'postalCode': '10014',\n",
       "    'cc': 'US',\n",
       "    'neighborhood': 'West Village',\n",
       "    'city': 'New York',\n",
       "    'state': 'NY',\n",
       "    'country': 'United States',\n",
       "    'formattedAddress': ['44 Charles St (at 7th Ave S)',\n",
       "     'New York, NY 10014',\n",
       "     'United States']},\n",
       "   'categories': [{'id': '4bf58dd8d48988d1e0931735',\n",
       "     'name': 'Coffee Shop',\n",
       "     'pluralName': 'Coffee Shops',\n",
       "     'shortName': 'Coffee Shop',\n",
       "     'icon': {'prefix': 'https://ss3.4sqi.net/img/categories_v2/food/coffeeshop_',\n",
       "      'suffix': '.png'},\n",
       "     'primary': True}],\n",
       "   'delivery': {'id': '2097617',\n",
       "    'url': 'https://www.seamless.com/menu/partners-coffee-44-charles-street-new-york/2097617?affiliate=1131&utm_source=foursquare-affiliate-network&utm_medium=affiliate&utm_campaign=1131&utm_content=2097617',\n",
       "    'provider': {'name': 'seamless',\n",
       "     'icon': {'prefix': 'https://fastly.4sqi.net/img/general/cap/',\n",
       "      'sizes': [40, 50],\n",
       "      'name': '/delivery_provider_seamless_20180129.png'}}},\n",
       "   'referralId': 'v-1615591251',\n",
       "   'hasPerk': False},\n",
       "  {'id': '583af456ce593d41644bd7a6',\n",
       "   'name': 'Kaigo Coffee Room',\n",
       "   'location': {'address': '120 Lafayette St Frnt C',\n",
       "    'lat': 40.71863256946489,\n",
       "    'lng': -74.00036738038041,\n",
       "    'labeledLatLngs': [{'label': 'display',\n",
       "      'lat': 40.71863256946489,\n",
       "      'lng': -74.00036738038041}],\n",
       "    'distance': 565,\n",
       "    'postalCode': '10013',\n",
       "    'cc': 'US',\n",
       "    'city': 'New York',\n",
       "    'state': 'NY',\n",
       "    'country': 'United States',\n",
       "    'formattedAddress': ['120 Lafayette St Frnt C',\n",
       "     'New York, NY 10013',\n",
       "     'United States']},\n",
       "   'categories': [{'id': '4bf58dd8d48988d1e0931735',\n",
       "     'name': 'Coffee Shop',\n",
       "     'pluralName': 'Coffee Shops',\n",
       "     'shortName': 'Coffee Shop',\n",
       "     'icon': {'prefix': 'https://ss3.4sqi.net/img/categories_v2/food/coffeeshop_',\n",
       "      'suffix': '.png'},\n",
       "     'primary': True}],\n",
       "   'referralId': 'v-1615591251',\n",
       "   'hasPerk': False},\n",
       "  {'id': '56054685498e21a5e4c9d5b2',\n",
       "   'name': 'Coffee Project New York',\n",
       "   'location': {'address': '239 E 5th St',\n",
       "    'crossStreet': 'btwn 2nd Ave & Bowery',\n",
       "    'lat': 40.727153,\n",
       "    'lng': -73.989527,\n",
       "    'labeledLatLngs': [{'label': 'display',\n",
       "      'lat': 40.727153,\n",
       "      'lng': -73.989527},\n",
       "     {'label': 'entrance', 'lat': 40.726978, 'lng': -73.989232}],\n",
       "    'distance': 1214,\n",
       "    'postalCode': '10003',\n",
       "    'cc': 'US',\n",
       "    'city': 'New York',\n",
       "    'state': 'NY',\n",
       "    'country': 'United States',\n",
       "    'formattedAddress': ['239 E 5th St (btwn 2nd Ave & Bowery)',\n",
       "     'New York, NY 10003',\n",
       "     'United States']},\n",
       "   'categories': [{'id': '4bf58dd8d48988d1e0931735',\n",
       "     'name': 'Coffee Shop',\n",
       "     'pluralName': 'Coffee Shops',\n",
       "     'shortName': 'Coffee Shop',\n",
       "     'icon': {'prefix': 'https://ss3.4sqi.net/img/categories_v2/food/coffeeshop_',\n",
       "      'suffix': '.png'},\n",
       "     'primary': True}],\n",
       "   'delivery': {'id': '2078420',\n",
       "    'url': 'https://www.seamless.com/menu/coffee-project-new-york-239-east-5th-street-new-york/2078420?affiliate=1131&utm_source=foursquare-affiliate-network&utm_medium=affiliate&utm_campaign=1131&utm_content=2078420',\n",
       "    'provider': {'name': 'seamless',\n",
       "     'icon': {'prefix': 'https://fastly.4sqi.net/img/general/cap/',\n",
       "      'sizes': [40, 50],\n",
       "      'name': '/delivery_provider_seamless_20180129.png'}}},\n",
       "   'venuePage': {'id': '146524785'},\n",
       "   'referralId': 'v-1615591251',\n",
       "   'hasPerk': False},\n",
       "  {'id': '4a534cc4f964a5202cb21fe3',\n",
       "   'name': 'Third Rail Coffee',\n",
       "   'location': {'address': '240 Sullivan St',\n",
       "    'crossStreet': 'btwn Bleecker & W 3rd St',\n",
       "    'lat': 40.729931452115565,\n",
       "    'lng': -73.99951321584003,\n",
       "    'labeledLatLngs': [{'label': 'display',\n",
       "      'lat': 40.729931452115565,\n",
       "      'lng': -73.99951321584003}],\n",
       "    'distance': 794,\n",
       "    'postalCode': '10012',\n",
       "    'cc': 'US',\n",
       "    'city': 'New York',\n",
       "    'state': 'NY',\n",
       "    'country': 'United States',\n",
       "    'formattedAddress': ['240 Sullivan St (btwn Bleecker & W 3rd St)',\n",
       "     'New York, NY 10012',\n",
       "     'United States']},\n",
       "   'categories': [{'id': '4bf58dd8d48988d1e0931735',\n",
       "     'name': 'Coffee Shop',\n",
       "     'pluralName': 'Coffee Shops',\n",
       "     'shortName': 'Coffee Shop',\n",
       "     'icon': {'prefix': 'https://ss3.4sqi.net/img/categories_v2/food/coffeeshop_',\n",
       "      'suffix': '.png'},\n",
       "     'primary': True}],\n",
       "   'delivery': {'id': '2089262',\n",
       "    'url': 'https://www.seamless.com/menu/third-rail-coffee-240-sullivan-street-new-york/2089262?affiliate=1131&utm_source=foursquare-affiliate-network&utm_medium=affiliate&utm_campaign=1131&utm_content=2089262',\n",
       "    'provider': {'name': 'seamless',\n",
       "     'icon': {'prefix': 'https://fastly.4sqi.net/img/general/cap/',\n",
       "      'sizes': [40, 50],\n",
       "      'name': '/delivery_provider_seamless_20180129.png'}}},\n",
       "   'venuePage': {'id': '86408938'},\n",
       "   'referralId': 'v-1615591251',\n",
       "   'hasPerk': False},\n",
       "  {'id': '512f8233e4b04458d4385195',\n",
       "   'name': 'Stumptown Coffee Roasters',\n",
       "   'location': {'address': '30 W 8th St',\n",
       "    'crossStreet': 'at MacDougal St',\n",
       "    'lat': 40.732797,\n",
       "    'lng': -73.997971,\n",
       "    'labeledLatLngs': [{'label': 'display',\n",
       "      'lat': 40.732797,\n",
       "      'lng': -73.997971}],\n",
       "    'distance': 1139,\n",
       "    'postalCode': '10011',\n",
       "    'cc': 'US',\n",
       "    'city': 'New York',\n",
       "    'state': 'NY',\n",
       "    'country': 'United States',\n",
       "    'formattedAddress': ['30 W 8th St (at MacDougal St)',\n",
       "     'New York, NY 10011',\n",
       "     'United States']},\n",
       "   'categories': [{'id': '4bf58dd8d48988d1e0931735',\n",
       "     'name': 'Coffee Shop',\n",
       "     'pluralName': 'Coffee Shops',\n",
       "     'shortName': 'Coffee Shop',\n",
       "     'icon': {'prefix': 'https://ss3.4sqi.net/img/categories_v2/food/coffeeshop_',\n",
       "      'suffix': '.png'},\n",
       "     'primary': True}],\n",
       "   'delivery': {'id': '2085343',\n",
       "    'url': 'https://www.seamless.com/menu/stumptown-coffee-roasters-30-west-8th-street-new-york/2085343?affiliate=1131&utm_source=foursquare-affiliate-network&utm_medium=affiliate&utm_campaign=1131&utm_content=2085343',\n",
       "    'provider': {'name': 'seamless',\n",
       "     'icon': {'prefix': 'https://fastly.4sqi.net/img/general/cap/',\n",
       "      'sizes': [40, 50],\n",
       "      'name': '/delivery_provider_seamless_20180129.png'}}},\n",
       "   'referralId': 'v-1615591251',\n",
       "   'hasPerk': False},\n",
       "  {'id': '5abfe6bbc0af5705a1bcacdb',\n",
       "   'name': 'COFFEE & CREAM by Oddfellows',\n",
       "   'location': {'address': '55 E Houston St',\n",
       "    'crossStreet': 'at Mott St',\n",
       "    'lat': 40.724707325648026,\n",
       "    'lng': -73.99428101796822,\n",
       "    'labeledLatLngs': [{'label': 'display',\n",
       "      'lat': 40.724707325648026,\n",
       "      'lng': -73.99428101796822}],\n",
       "    'distance': 752,\n",
       "    'postalCode': '10012',\n",
       "    'cc': 'US',\n",
       "    'city': 'New York',\n",
       "    'state': 'NY',\n",
       "    'country': 'United States',\n",
       "    'formattedAddress': ['55 E Houston St (at Mott St)',\n",
       "     'New York, NY 10012',\n",
       "     'United States']},\n",
       "   'categories': [{'id': '4bf58dd8d48988d1c9941735',\n",
       "     'name': 'Ice Cream Shop',\n",
       "     'pluralName': 'Ice Cream Shops',\n",
       "     'shortName': 'Ice Cream',\n",
       "     'icon': {'prefix': 'https://ss3.4sqi.net/img/categories_v2/food/icecream_',\n",
       "      'suffix': '.png'},\n",
       "     'primary': True}],\n",
       "   'referralId': 'v-1615591251',\n",
       "   'hasPerk': False},\n",
       "  {'id': '491ada01f964a52072521fe3',\n",
       "   'name': 'Think Coffee',\n",
       "   'location': {'address': '1 Bleecker St',\n",
       "    'crossStreet': 'at Bowery',\n",
       "    'lat': 40.72526643084157,\n",
       "    'lng': -73.99234118219594,\n",
       "    'labeledLatLngs': [{'label': 'display',\n",
       "      'lat': 40.72526643084157,\n",
       "      'lng': -73.99234118219594}],\n",
       "    'distance': 925,\n",
       "    'postalCode': '10012',\n",
       "    'cc': 'US',\n",
       "    'city': 'New York',\n",
       "    'state': 'NY',\n",
       "    'country': 'United States',\n",
       "    'formattedAddress': ['1 Bleecker St (at Bowery)',\n",
       "     'New York, NY 10012',\n",
       "     'United States']},\n",
       "   'categories': [{'id': '4bf58dd8d48988d1e0931735',\n",
       "     'name': 'Coffee Shop',\n",
       "     'pluralName': 'Coffee Shops',\n",
       "     'shortName': 'Coffee Shop',\n",
       "     'icon': {'prefix': 'https://ss3.4sqi.net/img/categories_v2/food/coffeeshop_',\n",
       "      'suffix': '.png'},\n",
       "     'primary': True}],\n",
       "   'delivery': {'id': '2079666',\n",
       "    'url': 'https://www.seamless.com/menu/think-coffee-bowery-1-bleecker-street-new-york/2079666?affiliate=1131&utm_source=foursquare-affiliate-network&utm_medium=affiliate&utm_campaign=1131&utm_content=2079666',\n",
       "    'provider': {'name': 'seamless',\n",
       "     'icon': {'prefix': 'https://fastly.4sqi.net/img/general/cap/',\n",
       "      'sizes': [40, 50],\n",
       "      'name': '/delivery_provider_seamless_20180129.png'}}},\n",
       "   'referralId': 'v-1615591251',\n",
       "   'hasPerk': False},\n",
       "  {'id': '580039c2d67c45aa557e1e46',\n",
       "   'name': 'Gregorys Coffee',\n",
       "   'location': {'address': '649 Broadway',\n",
       "    'crossStreet': 'at Bleecker St',\n",
       "    'lat': 40.7268895,\n",
       "    'lng': -73.995828,\n",
       "    'labeledLatLngs': [{'label': 'display',\n",
       "      'lat': 40.7268895,\n",
       "      'lng': -73.995828}],\n",
       "    'distance': 725,\n",
       "    'postalCode': '10012',\n",
       "    'cc': 'US',\n",
       "    'city': 'New York',\n",
       "    'state': 'NY',\n",
       "    'country': 'United States',\n",
       "    'formattedAddress': ['649 Broadway (at Bleecker St)',\n",
       "     'New York, NY 10012',\n",
       "     'United States']},\n",
       "   'categories': [{'id': '4bf58dd8d48988d1e0931735',\n",
       "     'name': 'Coffee Shop',\n",
       "     'pluralName': 'Coffee Shops',\n",
       "     'shortName': 'Coffee Shop',\n",
       "     'icon': {'prefix': 'https://ss3.4sqi.net/img/categories_v2/food/coffeeshop_',\n",
       "      'suffix': '.png'},\n",
       "     'primary': True}],\n",
       "   'delivery': {'id': '1089564',\n",
       "    'url': 'https://www.seamless.com/menu/gregorys-coffee-649-broadway-new-york/1089564?affiliate=1131&utm_source=foursquare-affiliate-network&utm_medium=affiliate&utm_campaign=1131&utm_content=1089564',\n",
       "    'provider': {'name': 'seamless',\n",
       "     'icon': {'prefix': 'https://fastly.4sqi.net/img/general/cap/',\n",
       "      'sizes': [40, 50],\n",
       "      'name': '/delivery_provider_seamless_20180129.png'}}},\n",
       "   'venuePage': {'id': '433964722'},\n",
       "   'referralId': 'v-1615591251',\n",
       "   'hasPerk': False},\n",
       "  {'id': '4876216df964a52011511fe3',\n",
       "   'name': \"Jack's Stir Brew Coffee\",\n",
       "   'location': {'address': '138 W 10th St',\n",
       "    'crossStreet': 'btwn Greenwich Ave & Waverly Pl',\n",
       "    'lat': 40.73451,\n",
       "    'lng': -74.00062,\n",
       "    'labeledLatLngs': [{'label': 'display',\n",
       "      'lat': 40.73451,\n",
       "      'lng': -74.00062}],\n",
       "    'distance': 1263,\n",
       "    'postalCode': '10014',\n",
       "    'cc': 'US',\n",
       "    'city': 'New York',\n",
       "    'state': 'NY',\n",
       "    'country': 'United States',\n",
       "    'formattedAddress': ['138 W 10th St (btwn Greenwich Ave & Waverly Pl)',\n",
       "     'New York, NY 10014',\n",
       "     'United States']},\n",
       "   'categories': [{'id': '4bf58dd8d48988d1e0931735',\n",
       "     'name': 'Coffee Shop',\n",
       "     'pluralName': 'Coffee Shops',\n",
       "     'shortName': 'Coffee Shop',\n",
       "     'icon': {'prefix': 'https://ss3.4sqi.net/img/categories_v2/food/coffeeshop_',\n",
       "      'suffix': '.png'},\n",
       "     'primary': True}],\n",
       "   'delivery': {'id': '2086988',\n",
       "    'url': 'https://www.seamless.com/menu/jacks-stir-brew-coffee-140-west-10th-street-new-york/2086988?affiliate=1131&utm_source=foursquare-affiliate-network&utm_medium=affiliate&utm_campaign=1131&utm_content=2086988',\n",
       "    'provider': {'name': 'seamless',\n",
       "     'icon': {'prefix': 'https://fastly.4sqi.net/img/general/cap/',\n",
       "      'sizes': [40, 50],\n",
       "      'name': '/delivery_provider_seamless_20180129.png'}}},\n",
       "   'venuePage': {'id': '161474147'},\n",
       "   'referralId': 'v-1615591251',\n",
       "   'hasPerk': False},\n",
       "  {'id': '4aabd45bf964a5204d5a20e3',\n",
       "   'name': \"McNulty's Tea & Coffee Co\",\n",
       "   'location': {'address': '109 Christopher St',\n",
       "    'crossStreet': 'btwn Bleecker & W Hudson St.',\n",
       "    'lat': 40.733294099833444,\n",
       "    'lng': -74.00520280831209,\n",
       "    'labeledLatLngs': [{'label': 'display',\n",
       "      'lat': 40.733294099833444,\n",
       "      'lng': -74.00520280831209}],\n",
       "    'distance': 1127,\n",
       "    'postalCode': '10014',\n",
       "    'cc': 'US',\n",
       "    'city': 'New York',\n",
       "    'state': 'NY',\n",
       "    'country': 'United States',\n",
       "    'formattedAddress': ['109 Christopher St (btwn Bleecker & W Hudson St.)',\n",
       "     'New York, NY 10014',\n",
       "     'United States']},\n",
       "   'categories': [{'id': '4bf58dd8d48988d1f5941735',\n",
       "     'name': 'Gourmet Shop',\n",
       "     'pluralName': 'Gourmet Shops',\n",
       "     'shortName': 'Gourmet',\n",
       "     'icon': {'prefix': 'https://ss3.4sqi.net/img/categories_v2/shops/food_gourmet_',\n",
       "      'suffix': '.png'},\n",
       "     'primary': True}],\n",
       "   'delivery': {'id': '2081264',\n",
       "    'url': 'https://www.seamless.com/menu/mc-nultys-tea--coffee-company-109-christopher-street-new-york/2081264?affiliate=1131&utm_source=foursquare-affiliate-network&utm_medium=affiliate&utm_campaign=1131&utm_content=2081264',\n",
       "    'provider': {'name': 'seamless',\n",
       "     'icon': {'prefix': 'https://fastly.4sqi.net/img/general/cap/',\n",
       "      'sizes': [40, 50],\n",
       "      'name': '/delivery_provider_seamless_20180129.png'}}},\n",
       "   'venuePage': {'id': '593517048'},\n",
       "   'referralId': 'v-1615591251',\n",
       "   'hasPerk': False},\n",
       "  {'id': '55e9f118498eda28f897f9e3',\n",
       "   'name': 'Kobrick Coffee Co.',\n",
       "   'location': {'address': '24 9th Ave',\n",
       "    'crossStreet': 'btwn W 13th & 14th St',\n",
       "    'lat': 40.74033655451874,\n",
       "    'lng': -74.00569308386368,\n",
       "    'labeledLatLngs': [{'label': 'display',\n",
       "      'lat': 40.74033655451874,\n",
       "      'lng': -74.00569308386368},\n",
       "     {'label': 'entrance', 'lat': 40.740329, 'lng': -74.005607}],\n",
       "    'distance': 1910,\n",
       "    'postalCode': '10014',\n",
       "    'cc': 'US',\n",
       "    'neighborhood': 'Meatpacking District',\n",
       "    'city': 'New York',\n",
       "    'state': 'NY',\n",
       "    'country': 'United States',\n",
       "    'formattedAddress': ['24 9th Ave (btwn W 13th & 14th St)',\n",
       "     'New York, NY 10014',\n",
       "     'United States']},\n",
       "   'categories': [{'id': '4bf58dd8d48988d1e0931735',\n",
       "     'name': 'Coffee Shop',\n",
       "     'pluralName': 'Coffee Shops',\n",
       "     'shortName': 'Coffee Shop',\n",
       "     'icon': {'prefix': 'https://ss3.4sqi.net/img/categories_v2/food/coffeeshop_',\n",
       "      'suffix': '.png'},\n",
       "     'primary': True}],\n",
       "   'delivery': {'id': '2033642',\n",
       "    'url': 'https://www.seamless.com/menu/kobrick-coffee-24-9th-ave-new-york/2033642?affiliate=1131&utm_source=foursquare-affiliate-network&utm_medium=affiliate&utm_campaign=1131&utm_content=2033642',\n",
       "    'provider': {'name': 'seamless',\n",
       "     'icon': {'prefix': 'https://fastly.4sqi.net/img/general/cap/',\n",
       "      'sizes': [40, 50],\n",
       "      'name': '/delivery_provider_seamless_20180129.png'}}},\n",
       "   'venuePage': {'id': '141608237'},\n",
       "   'referralId': 'v-1615591251',\n",
       "   'hasPerk': False},\n",
       "  {'id': '44dc96e4f964a520b0361fe3',\n",
       "   'name': 'Think Coffee',\n",
       "   'location': {'address': '248 Mercer St',\n",
       "    'crossStreet': 'btwn W 3rd & W 4th St',\n",
       "    'lat': 40.72830485635694,\n",
       "    'lng': -73.99551044983527,\n",
       "    'labeledLatLngs': [{'label': 'display',\n",
       "      'lat': 40.72830485635694,\n",
       "      'lng': -73.99551044983527}],\n",
       "    'distance': 842,\n",
       "    'postalCode': '10012',\n",
       "    'cc': 'US',\n",
       "    'city': 'New York',\n",
       "    'state': 'NY',\n",
       "    'country': 'United States',\n",
       "    'formattedAddress': ['248 Mercer St (btwn W 3rd & W 4th St)',\n",
       "     'New York, NY 10012',\n",
       "     'United States']},\n",
       "   'categories': [{'id': '4bf58dd8d48988d1e0931735',\n",
       "     'name': 'Coffee Shop',\n",
       "     'pluralName': 'Coffee Shops',\n",
       "     'shortName': 'Coffee Shop',\n",
       "     'icon': {'prefix': 'https://ss3.4sqi.net/img/categories_v2/food/coffeeshop_',\n",
       "      'suffix': '.png'},\n",
       "     'primary': True}],\n",
       "   'delivery': {'id': '2404537',\n",
       "    'url': 'https://www.seamless.com/menu/think-coffee-248-mercer-st-new-york/2404537?affiliate=1131&utm_source=foursquare-affiliate-network&utm_medium=affiliate&utm_campaign=1131&utm_content=2404537',\n",
       "    'provider': {'name': 'seamless',\n",
       "     'icon': {'prefix': 'https://fastly.4sqi.net/img/general/cap/',\n",
       "      'sizes': [40, 50],\n",
       "      'name': '/delivery_provider_seamless_20180129.png'}}},\n",
       "   'referralId': 'v-1615591251',\n",
       "   'hasPerk': False},\n",
       "  {'id': '4d10b43ccf09a14316c72d0f',\n",
       "   'name': 'Special $1 Coffee & Doughnut Cart',\n",
       "   'location': {'address': 'Broadway',\n",
       "    'crossStreet': 'at Prince',\n",
       "    'lat': 40.7242519070605,\n",
       "    'lng': -73.9977089326415,\n",
       "    'labeledLatLngs': [{'label': 'display',\n",
       "      'lat': 40.7242519070605,\n",
       "      'lng': -73.9977089326415}],\n",
       "    'distance': 458,\n",
       "    'cc': 'US',\n",
       "    'city': 'New York',\n",
       "    'state': 'NY',\n",
       "    'country': 'United States',\n",
       "    'formattedAddress': ['Broadway (at Prince)',\n",
       "     'New York, NY',\n",
       "     'United States']},\n",
       "   'categories': [{'id': '4bf58dd8d48988d1cb941735',\n",
       "     'name': 'Food Truck',\n",
       "     'pluralName': 'Food Trucks',\n",
       "     'shortName': 'Food Truck',\n",
       "     'icon': {'prefix': 'https://ss3.4sqi.net/img/categories_v2/food/streetfood_',\n",
       "      'suffix': '.png'},\n",
       "     'primary': True}],\n",
       "   'referralId': 'v-1615591251',\n",
       "   'hasPerk': False},\n",
       "  {'id': '4f22b060e4b02a95fc886761',\n",
       "   'name': 'Caffe Vita Coffee Roasting Co.',\n",
       "   'location': {'address': '124 Ludlow St',\n",
       "    'crossStreet': 'btwn Rivington St & Delancey St',\n",
       "    'lat': 40.71975181143025,\n",
       "    'lng': -73.98852856288337,\n",
       "    'labeledLatLngs': [{'label': 'display',\n",
       "      'lat': 40.71975181143025,\n",
       "      'lng': -73.98852856288337}],\n",
       "    'distance': 1283,\n",
       "    'postalCode': '10002',\n",
       "    'cc': 'US',\n",
       "    'city': 'New York',\n",
       "    'state': 'NY',\n",
       "    'country': 'United States',\n",
       "    'formattedAddress': ['124 Ludlow St (btwn Rivington St & Delancey St)',\n",
       "     'New York, NY 10002',\n",
       "     'United States']},\n",
       "   'categories': [{'id': '4bf58dd8d48988d1e0931735',\n",
       "     'name': 'Coffee Shop',\n",
       "     'pluralName': 'Coffee Shops',\n",
       "     'shortName': 'Coffee Shop',\n",
       "     'icon': {'prefix': 'https://ss3.4sqi.net/img/categories_v2/food/coffeeshop_',\n",
       "      'suffix': '.png'},\n",
       "     'primary': True}],\n",
       "   'delivery': {'id': '2476899',\n",
       "    'url': 'https://www.seamless.com/menu/caffe-vita-124-ludlow-street-new-york/2476899?affiliate=1131&utm_source=foursquare-affiliate-network&utm_medium=affiliate&utm_campaign=1131&utm_content=2476899',\n",
       "    'provider': {'name': 'seamless',\n",
       "     'icon': {'prefix': 'https://fastly.4sqi.net/img/general/cap/',\n",
       "      'sizes': [40, 50],\n",
       "      'name': '/delivery_provider_seamless_20180129.png'}}},\n",
       "   'referralId': 'v-1615591251',\n",
       "   'hasPerk': False},\n",
       "  {'id': '5b8e66ac234724002c927c4b',\n",
       "   'name': 'Brooklyn Bagel & Coffee Company',\n",
       "   'location': {'address': '63 E 8th St',\n",
       "    'crossStreet': 'Mercer Street',\n",
       "    'lat': 40.730912575619136,\n",
       "    'lng': -73.9932591437105,\n",
       "    'labeledLatLngs': [{'label': 'display',\n",
       "      'lat': 40.730912575619136,\n",
       "      'lng': -73.9932591437105}],\n",
       "    'distance': 1180,\n",
       "    'postalCode': '10003',\n",
       "    'cc': 'US',\n",
       "    'city': 'New York',\n",
       "    'state': 'NY',\n",
       "    'country': 'United States',\n",
       "    'formattedAddress': ['63 E 8th St (Mercer Street)',\n",
       "     'New York, NY 10003',\n",
       "     'United States']},\n",
       "   'categories': [{'id': '4bf58dd8d48988d179941735',\n",
       "     'name': 'Bagel Shop',\n",
       "     'pluralName': 'Bagel Shops',\n",
       "     'shortName': 'Bagels',\n",
       "     'icon': {'prefix': 'https://ss3.4sqi.net/img/categories_v2/food/bagels_',\n",
       "      'suffix': '.png'},\n",
       "     'primary': True}],\n",
       "   'referralId': 'v-1615591251',\n",
       "   'hasPerk': False},\n",
       "  {'id': '4bae332df964a52045913be3',\n",
       "   'name': 'WFM Coffee Bar',\n",
       "   'location': {'address': '95 E Houston St',\n",
       "    'crossStreet': 'At Bowery',\n",
       "    'lat': 40.72362664050156,\n",
       "    'lng': -73.9912908164529,\n",
       "    'labeledLatLngs': [{'label': 'display',\n",
       "      'lat': 40.72362664050156,\n",
       "      'lng': -73.9912908164529}],\n",
       "    'distance': 988,\n",
       "    'postalCode': '10002',\n",
       "    'cc': 'US',\n",
       "    'neighborhood': 'Lower East Side',\n",
       "    'city': 'New York',\n",
       "    'state': 'NY',\n",
       "    'country': 'United States',\n",
       "    'formattedAddress': ['95 E Houston St (At Bowery)',\n",
       "     'New York, NY 10002',\n",
       "     'United States']},\n",
       "   'categories': [{'id': '4bf58dd8d48988d1e0931735',\n",
       "     'name': 'Coffee Shop',\n",
       "     'pluralName': 'Coffee Shops',\n",
       "     'shortName': 'Coffee Shop',\n",
       "     'icon': {'prefix': 'https://ss3.4sqi.net/img/categories_v2/food/coffeeshop_',\n",
       "      'suffix': '.png'},\n",
       "     'primary': True}],\n",
       "   'referralId': 'v-1615591251',\n",
       "   'hasPerk': False},\n",
       "  {'id': '56f78e36498e40280bfc3fc1',\n",
       "   'name': \"Dunkin' Iced Coffee Lounge at Z100\",\n",
       "   'location': {'lat': 40.7200005,\n",
       "    'lng': -74.0045606,\n",
       "    'labeledLatLngs': [{'label': 'display',\n",
       "      'lat': 40.7200005,\n",
       "      'lng': -74.0045606}],\n",
       "    'distance': 390,\n",
       "    'cc': 'US',\n",
       "    'city': 'New York',\n",
       "    'state': 'NY',\n",
       "    'country': 'United States',\n",
       "    'formattedAddress': ['New York, NY', 'United States']},\n",
       "   'categories': [{'id': '4bf58dd8d48988d1e5931735',\n",
       "     'name': 'Music Venue',\n",
       "     'pluralName': 'Music Venues',\n",
       "     'shortName': 'Music Venue',\n",
       "     'icon': {'prefix': 'https://ss3.4sqi.net/img/categories_v2/arts_entertainment/musicvenue_',\n",
       "      'suffix': '.png'},\n",
       "     'primary': True}],\n",
       "   'referralId': 'v-1615591251',\n",
       "   'hasPerk': False},\n",
       "  {'id': '4a667506f964a52093c81fe3',\n",
       "   'name': 'West Side Coffee Shop',\n",
       "   'location': {'address': '323 Church St',\n",
       "    'crossStreet': 'at Canal St.',\n",
       "    'lat': 40.72017383765389,\n",
       "    'lng': -74.00391535258366,\n",
       "    'labeledLatLngs': [{'label': 'display',\n",
       "      'lat': 40.72017383765389,\n",
       "      'lng': -74.00391535258366},\n",
       "     {'label': 'entrance', 'lat': 40.72009, 'lng': -74.003687}],\n",
       "    'distance': 356,\n",
       "    'postalCode': '10013',\n",
       "    'cc': 'US',\n",
       "    'city': 'New York',\n",
       "    'state': 'NY',\n",
       "    'country': 'United States',\n",
       "    'formattedAddress': ['323 Church St (at Canal St.)',\n",
       "     'New York, NY 10013',\n",
       "     'United States']},\n",
       "   'categories': [{'id': '4bf58dd8d48988d1be941735',\n",
       "     'name': 'Latin American Restaurant',\n",
       "     'pluralName': 'Latin American Restaurants',\n",
       "     'shortName': 'Latin American',\n",
       "     'icon': {'prefix': 'https://ss3.4sqi.net/img/categories_v2/food/latinamerican_',\n",
       "      'suffix': '.png'},\n",
       "     'primary': True}],\n",
       "   'delivery': {'id': '2076627',\n",
       "    'url': 'https://www.seamless.com/menu/westside-coffee-shop--restaurant-323-church-street-new-york/2076627?affiliate=1131&utm_source=foursquare-affiliate-network&utm_medium=affiliate&utm_campaign=1131&utm_content=2076627',\n",
       "    'provider': {'name': 'seamless',\n",
       "     'icon': {'prefix': 'https://fastly.4sqi.net/img/general/cap/',\n",
       "      'sizes': [40, 50],\n",
       "      'name': '/delivery_provider_seamless_20180129.png'}}},\n",
       "   'referralId': 'v-1615591251',\n",
       "   'hasPerk': False},\n",
       "  {'id': '4eb92d8af790d87d04498393',\n",
       "   'name': 'Coffee Wagon',\n",
       "   'location': {'address': 'Hudson and King',\n",
       "    'lat': 40.72823110830968,\n",
       "    'lng': -74.00578312188485,\n",
       "    'labeledLatLngs': [{'label': 'display',\n",
       "      'lat': 40.72823110830968,\n",
       "      'lng': -74.00578312188485}],\n",
       "    'distance': 597,\n",
       "    'postalCode': '10014',\n",
       "    'cc': 'US',\n",
       "    'city': 'New York',\n",
       "    'state': 'NY',\n",
       "    'country': 'United States',\n",
       "    'formattedAddress': ['Hudson and King',\n",
       "     'New York, NY 10014',\n",
       "     'United States']},\n",
       "   'categories': [{'id': '4bf58dd8d48988d1cb941735',\n",
       "     'name': 'Food Truck',\n",
       "     'pluralName': 'Food Trucks',\n",
       "     'shortName': 'Food Truck',\n",
       "     'icon': {'prefix': 'https://ss3.4sqi.net/img/categories_v2/food/streetfood_',\n",
       "      'suffix': '.png'},\n",
       "     'primary': True}],\n",
       "   'referralId': 'v-1615591251',\n",
       "   'hasPerk': False},\n",
       "  {'id': '5703f9a5cd1014db975d2d21',\n",
       "   'name': 'About Coffee',\n",
       "   'location': {'address': '71 Sullivan St',\n",
       "    'crossStreet': 'btwn Spring & Broome St',\n",
       "    'lat': 40.724445530905136,\n",
       "    'lng': -74.00389283895491,\n",
       "    'labeledLatLngs': [{'label': 'display',\n",
       "      'lat': 40.724445530905136,\n",
       "      'lng': -74.00389283895491}],\n",
       "    'distance': 148,\n",
       "    'postalCode': '10012',\n",
       "    'cc': 'US',\n",
       "    'city': 'New York',\n",
       "    'state': 'NY',\n",
       "    'country': 'United States',\n",
       "    'formattedAddress': ['71 Sullivan St (btwn Spring & Broome St)',\n",
       "     'New York, NY 10012',\n",
       "     'United States']},\n",
       "   'categories': [{'id': '4bf58dd8d48988d1e0931735',\n",
       "     'name': 'Coffee Shop',\n",
       "     'pluralName': 'Coffee Shops',\n",
       "     'shortName': 'Coffee Shop',\n",
       "     'icon': {'prefix': 'https://ss3.4sqi.net/img/categories_v2/food/coffeeshop_',\n",
       "      'suffix': '.png'},\n",
       "     'primary': True}],\n",
       "   'delivery': {'id': '2098947',\n",
       "    'url': 'https://www.seamless.com/menu/about-coffee-71-sullivan-street-new-york/2098947?affiliate=1131&utm_source=foursquare-affiliate-network&utm_medium=affiliate&utm_campaign=1131&utm_content=2098947',\n",
       "    'provider': {'name': 'seamless',\n",
       "     'icon': {'prefix': 'https://fastly.4sqi.net/img/general/cap/',\n",
       "      'sizes': [40, 50],\n",
       "      'name': '/delivery_provider_seamless_20180129.png'}}},\n",
       "   'referralId': 'v-1615591251',\n",
       "   'hasPerk': False},\n",
       "  {'id': '5dba113267232c000803cb37',\n",
       "   'name': 'For Five Coffee Roasters',\n",
       "   'location': {'lat': 40.71224,\n",
       "    'lng': -74.014915,\n",
       "    'labeledLatLngs': [{'label': 'display',\n",
       "      'lat': 40.71224,\n",
       "      'lng': -74.014915}],\n",
       "    'distance': 1589,\n",
       "    'postalCode': '10280',\n",
       "    'cc': 'US',\n",
       "    'city': 'New York',\n",
       "    'state': 'NY',\n",
       "    'country': 'United States',\n",
       "    'formattedAddress': ['New York, NY 10280', 'United States']},\n",
       "   'categories': [{'id': '4bf58dd8d48988d1e0931735',\n",
       "     'name': 'Coffee Shop',\n",
       "     'pluralName': 'Coffee Shops',\n",
       "     'shortName': 'Coffee Shop',\n",
       "     'icon': {'prefix': 'https://ss3.4sqi.net/img/categories_v2/food/coffeeshop_',\n",
       "      'suffix': '.png'},\n",
       "     'primary': True}],\n",
       "   'delivery': {'id': '2368674',\n",
       "    'url': 'https://www.grubhub.com/restaurant/for-five-coffee-roasters----brookfield-place-225-liberty-st-new-york/2368674?affiliate=1131&utm_source=foursquare-affiliate-network&utm_medium=affiliate&utm_campaign=1131&utm_content=2368674',\n",
       "    'provider': {'name': 'grubhub',\n",
       "     'icon': {'prefix': 'https://fastly.4sqi.net/img/general/cap/',\n",
       "      'sizes': [40, 50],\n",
       "      'name': '/delivery_provider_grubhub_20180129.png'}}},\n",
       "   'referralId': 'v-1615591251',\n",
       "   'hasPerk': False},\n",
       "  {'id': '49c406a8f964a5208d561fe3',\n",
       "   'name': 'Brooklyn Bagel & Coffee Co.',\n",
       "   'location': {'address': '286 8th Ave',\n",
       "    'crossStreet': 'btwn W 24th & W 25th St',\n",
       "    'lat': 40.746119,\n",
       "    'lng': -73.9977,\n",
       "    'labeledLatLngs': [{'label': 'entrance',\n",
       "      'lat': 40.746175,\n",
       "      'lng': -73.997639},\n",
       "     {'label': 'display', 'lat': 40.746119, 'lng': -73.9977}],\n",
       "    'distance': 2579,\n",
       "    'postalCode': '10001',\n",
       "    'cc': 'US',\n",
       "    'city': 'New York',\n",
       "    'state': 'NY',\n",
       "    'country': 'United States',\n",
       "    'formattedAddress': ['286 8th Ave (btwn W 24th & W 25th St)',\n",
       "     'New York, NY 10001',\n",
       "     'United States']},\n",
       "   'categories': [{'id': '4bf58dd8d48988d179941735',\n",
       "     'name': 'Bagel Shop',\n",
       "     'pluralName': 'Bagel Shops',\n",
       "     'shortName': 'Bagels',\n",
       "     'icon': {'prefix': 'https://ss3.4sqi.net/img/categories_v2/food/bagels_',\n",
       "      'suffix': '.png'},\n",
       "     'primary': True}],\n",
       "   'referralId': 'v-1615591251',\n",
       "   'hasPerk': False},\n",
       "  {'id': '4ae33a3df964a520f99121e3',\n",
       "   'name': 'Think Coffee',\n",
       "   'location': {'address': '123 4th Ave',\n",
       "    'crossStreet': 'btwn 12th & 13th St',\n",
       "    'lat': 40.733042228370216,\n",
       "    'lng': -73.99001062032393,\n",
       "    'labeledLatLngs': [{'label': 'display',\n",
       "      'lat': 40.733042228370216,\n",
       "      'lng': -73.99001062032393},\n",
       "     {'label': 'entrance', 'lat': 40.733004, 'lng': -73.989791}],\n",
       "    'distance': 1541,\n",
       "    'postalCode': '10003',\n",
       "    'cc': 'US',\n",
       "    'city': 'New York',\n",
       "    'state': 'NY',\n",
       "    'country': 'United States',\n",
       "    'formattedAddress': ['123 4th Ave (btwn 12th & 13th St)',\n",
       "     'New York, NY 10003',\n",
       "     'United States']},\n",
       "   'categories': [{'id': '4bf58dd8d48988d1e0931735',\n",
       "     'name': 'Coffee Shop',\n",
       "     'pluralName': 'Coffee Shops',\n",
       "     'shortName': 'Coffee Shop',\n",
       "     'icon': {'prefix': 'https://ss3.4sqi.net/img/categories_v2/food/coffeeshop_',\n",
       "      'suffix': '.png'},\n",
       "     'primary': True}],\n",
       "   'delivery': {'id': '2096573',\n",
       "    'url': 'https://www.seamless.com/menu/think-coffee-llc-123-4th-avenue-new-york/2096573?affiliate=1131&utm_source=foursquare-affiliate-network&utm_medium=affiliate&utm_campaign=1131&utm_content=2096573',\n",
       "    'provider': {'name': 'seamless',\n",
       "     'icon': {'prefix': 'https://fastly.4sqi.net/img/general/cap/',\n",
       "      'sizes': [40, 50],\n",
       "      'name': '/delivery_provider_seamless_20180129.png'}}},\n",
       "   'referralId': 'v-1615591251',\n",
       "   'hasPerk': False},\n",
       "  {'id': '4adc63d5f964a520fd2b21e3',\n",
       "   'name': 'Counter Culture Coffee NYC',\n",
       "   'location': {'address': '376 Broome St',\n",
       "    'crossStreet': 'Mott Street',\n",
       "    'lat': 40.720490000000005,\n",
       "    'lng': -73.996236,\n",
       "    'labeledLatLngs': [{'label': 'display',\n",
       "      'lat': 40.720490000000005,\n",
       "      'lng': -73.996236}],\n",
       "    'distance': 650,\n",
       "    'postalCode': '10013',\n",
       "    'cc': 'US',\n",
       "    'city': 'New York',\n",
       "    'state': 'NY',\n",
       "    'country': 'United States',\n",
       "    'formattedAddress': ['376 Broome St (Mott Street)',\n",
       "     'New York, NY 10013',\n",
       "     'United States']},\n",
       "   'categories': [{'id': '4bf58dd8d48988d124941735',\n",
       "     'name': 'Office',\n",
       "     'pluralName': 'Offices',\n",
       "     'shortName': 'Office',\n",
       "     'icon': {'prefix': 'https://ss3.4sqi.net/img/categories_v2/building/default_',\n",
       "      'suffix': '.png'},\n",
       "     'primary': True}],\n",
       "   'venuePage': {'id': '35001956'},\n",
       "   'referralId': 'v-1615591251',\n",
       "   'hasPerk': False},\n",
       "  {'id': '4f6b2599e4b0743010918ecd',\n",
       "   'name': \"Peter & Jenny's Adorable Coffee Cart\",\n",
       "   'location': {'crossStreet': 'Houston & Broadway',\n",
       "    'lat': 40.72522206126652,\n",
       "    'lng': -73.99685117353619,\n",
       "    'labeledLatLngs': [{'label': 'display',\n",
       "      'lat': 40.72522206126652,\n",
       "      'lng': -73.99685117353619}],\n",
       "    'distance': 561,\n",
       "    'postalCode': '10012',\n",
       "    'cc': 'US',\n",
       "    'city': 'New York',\n",
       "    'state': 'NY',\n",
       "    'country': 'United States',\n",
       "    'formattedAddress': ['New York, NY 10012', 'United States']},\n",
       "   'categories': [{'id': '4bf58dd8d48988d1e0931735',\n",
       "     'name': 'Coffee Shop',\n",
       "     'pluralName': 'Coffee Shops',\n",
       "     'shortName': 'Coffee Shop',\n",
       "     'icon': {'prefix': 'https://ss3.4sqi.net/img/categories_v2/food/coffeeshop_',\n",
       "      'suffix': '.png'},\n",
       "     'primary': True}],\n",
       "   'referralId': 'v-1615591251',\n",
       "   'hasPerk': False},\n",
       "  {'id': '4cd167456200b1f7d09fd928',\n",
       "   'name': 'Coffee Cart',\n",
       "   'location': {'address': '375 Hudson St',\n",
       "    'crossStreet': 'at Houston',\n",
       "    'lat': 40.72871101311086,\n",
       "    'lng': -74.00715251827633,\n",
       "    'labeledLatLngs': [{'label': 'display',\n",
       "      'lat': 40.72871101311086,\n",
       "      'lng': -74.00715251827633}],\n",
       "    'distance': 696,\n",
       "    'postalCode': '10014',\n",
       "    'cc': 'US',\n",
       "    'city': 'New York',\n",
       "    'state': 'NY',\n",
       "    'country': 'United States',\n",
       "    'formattedAddress': ['375 Hudson St (at Houston)',\n",
       "     'New York, NY 10014',\n",
       "     'United States']},\n",
       "   'categories': [{'id': '4bf58dd8d48988d1cb941735',\n",
       "     'name': 'Food Truck',\n",
       "     'pluralName': 'Food Trucks',\n",
       "     'shortName': 'Food Truck',\n",
       "     'icon': {'prefix': 'https://ss3.4sqi.net/img/categories_v2/food/streetfood_',\n",
       "      'suffix': '.png'},\n",
       "     'primary': True}],\n",
       "   'referralId': 'v-1615591251',\n",
       "   'hasPerk': False},\n",
       "  {'id': '5783fac6cd10361b6f2ca3fc',\n",
       "   'name': \"Peet's Coffee\",\n",
       "   'location': {'address': '853 Broadway,',\n",
       "    'lat': 40.734693,\n",
       "    'lng': -73.990975,\n",
       "    'labeledLatLngs': [{'label': 'display',\n",
       "      'lat': 40.734693,\n",
       "      'lng': -73.990975}],\n",
       "    'distance': 1624,\n",
       "    'postalCode': '10003',\n",
       "    'cc': 'US',\n",
       "    'city': 'New York',\n",
       "    'state': 'NY',\n",
       "    'country': 'United States',\n",
       "    'formattedAddress': ['853 Broadway,',\n",
       "     'New York, NY 10003',\n",
       "     'United States']},\n",
       "   'categories': [{'id': '4bf58dd8d48988d1e0931735',\n",
       "     'name': 'Coffee Shop',\n",
       "     'pluralName': 'Coffee Shops',\n",
       "     'shortName': 'Coffee Shop',\n",
       "     'icon': {'prefix': 'https://ss3.4sqi.net/img/categories_v2/food/coffeeshop_',\n",
       "      'suffix': '.png'},\n",
       "     'primary': True}],\n",
       "   'referralId': 'v-1615591251',\n",
       "   'hasPerk': False},\n",
       "  {'id': '4f3a9e05bb3d2fbe725ca57a',\n",
       "   'name': 'Blue Bottle Coffee',\n",
       "   'location': {'address': '450 W 15th St',\n",
       "    'crossStreet': 'btwn 9th & 10th Ave',\n",
       "    'lat': 40.74247264215167,\n",
       "    'lng': -74.00698238537771,\n",
       "    'labeledLatLngs': [{'label': 'display',\n",
       "      'lat': 40.74247264215167,\n",
       "      'lng': -74.00698238537771},\n",
       "     {'label': 'entrance', 'lat': 40.742455, 'lng': -74.00705}],\n",
       "    'distance': 2160,\n",
       "    'postalCode': '10011',\n",
       "    'cc': 'US',\n",
       "    'city': 'New York',\n",
       "    'state': 'NY',\n",
       "    'country': 'United States',\n",
       "    'formattedAddress': ['450 W 15th St (btwn 9th & 10th Ave)',\n",
       "     'New York, NY 10011',\n",
       "     'United States']},\n",
       "   'categories': [{'id': '4bf58dd8d48988d1e0931735',\n",
       "     'name': 'Coffee Shop',\n",
       "     'pluralName': 'Coffee Shops',\n",
       "     'shortName': 'Coffee Shop',\n",
       "     'icon': {'prefix': 'https://ss3.4sqi.net/img/categories_v2/food/coffeeshop_',\n",
       "      'suffix': '.png'},\n",
       "     'primary': True}],\n",
       "   'referralId': 'v-1615591251',\n",
       "   'hasPerk': False},\n",
       "  {'id': '5cf965947564f7002c79aa21',\n",
       "   'name': 'For Five Coffee Roasters',\n",
       "   'location': {'address': '1 Liberty Plz',\n",
       "    'crossStreet': 'Broadway',\n",
       "    'lat': 40.709554,\n",
       "    'lng': -74.010576,\n",
       "    'labeledLatLngs': [{'label': 'display',\n",
       "      'lat': 40.709554,\n",
       "      'lng': -74.010576}],\n",
       "    'distance': 1658,\n",
       "    'postalCode': '10006',\n",
       "    'cc': 'US',\n",
       "    'city': 'New York',\n",
       "    'state': 'NY',\n",
       "    'country': 'United States',\n",
       "    'formattedAddress': ['1 Liberty Plz (Broadway)',\n",
       "     'New York, NY 10006',\n",
       "     'United States']},\n",
       "   'categories': [{'id': '4bf58dd8d48988d1e0931735',\n",
       "     'name': 'Coffee Shop',\n",
       "     'pluralName': 'Coffee Shops',\n",
       "     'shortName': 'Coffee Shop',\n",
       "     'icon': {'prefix': 'https://ss3.4sqi.net/img/categories_v2/food/coffeeshop_',\n",
       "      'suffix': '.png'},\n",
       "     'primary': True}],\n",
       "   'delivery': {'id': '2368673',\n",
       "    'url': 'https://www.seamless.com/menu/for-five-coffee-roasters-1-liberty-st-new-york/2368673?affiliate=1131&utm_source=foursquare-affiliate-network&utm_medium=affiliate&utm_campaign=1131&utm_content=2368673',\n",
       "    'provider': {'name': 'seamless',\n",
       "     'icon': {'prefix': 'https://fastly.4sqi.net/img/general/cap/',\n",
       "      'sizes': [40, 50],\n",
       "      'name': '/delivery_provider_seamless_20180129.png'}}},\n",
       "   'referralId': 'v-1615591251',\n",
       "   'hasPerk': False}]}"
      ]
     },
     "execution_count": 6,
     "metadata": {},
     "output_type": "execute_result"
    }
   ],
   "source": [
    "# Test connection\n",
    "client.venues.search(params={'query': 'coffee', 'll': '40.7233,-74.0030'}) # test search"
   ]
  },
  {
   "cell_type": "markdown",
   "id": "piano-lucas",
   "metadata": {},
   "source": [
    "#### Find Overlapping Categories (between Yelp and FSQ)"
   ]
  },
  {
   "cell_type": "code",
   "execution_count": 7,
   "id": "authentic-logic",
   "metadata": {},
   "outputs": [],
   "source": [
    "# open yelp categories from file\n",
    "with open('yelp_categories.json') as f:\n",
    "    yelp_c = json.load(f)\n",
    "\n",
    "y_categories = pd.json_normalize(data=yelp_c ,record_path=['parents']).drop_duplicates()"
   ]
  },
  {
   "cell_type": "code",
   "execution_count": 8,
   "id": "alike-indiana",
   "metadata": {},
   "outputs": [],
   "source": [
    "# rename Yelp category column\n",
    "y_categories.rename({0:'name'}, axis='columns',inplace=True)#.str.contains('food')]"
   ]
  },
  {
   "cell_type": "code",
   "execution_count": 9,
   "id": "cellular-vancouver",
   "metadata": {},
   "outputs": [],
   "source": [
    "# pull FSQ categories\n",
    "f_categories = client.venues.categories()"
   ]
  },
  {
   "cell_type": "code",
   "execution_count": 10,
   "id": "complimentary-lending",
   "metadata": {},
   "outputs": [],
   "source": [
    "# create FSQ dataframe\n",
    "f_categories = pd.json_normalize(data=f_categories, record_path=['categories','categories'])"
   ]
  },
  {
   "cell_type": "code",
   "execution_count": 11,
   "id": "hindu-substitute",
   "metadata": {},
   "outputs": [],
   "source": [
    "# lowercase FSQ columns of interest\n",
    "f_categories['name'] = f_categories['name'].str.lower()\n",
    "f_categories['pluralName'] = f_categories['pluralName'].str.lower()"
   ]
  },
  {
   "cell_type": "code",
   "execution_count": 12,
   "id": "recent-excellence",
   "metadata": {},
   "outputs": [],
   "source": [
    "# find overlapping categories between Yelp and FSQ\n",
    "ol_categories = f_categories[['id','name','pluralName']].merge(y_categories['name'], left_on='pluralName', right_on='name')"
   ]
  },
  {
   "cell_type": "code",
   "execution_count": 13,
   "id": "sound-declaration",
   "metadata": {},
   "outputs": [],
   "source": [
    "ol_categories.rename({'id':'fsq_id','name_x':'fsq_name','pluralName':'overlap','name_y':'yelp_name'}, axis='columns',inplace=True)"
   ]
  },
  {
   "cell_type": "code",
   "execution_count": 15,
   "id": "potential-joshua",
   "metadata": {},
   "outputs": [
    {
     "data": {
      "text/html": [
       "<div>\n",
       "<style scoped>\n",
       "    .dataframe tbody tr th:only-of-type {\n",
       "        vertical-align: middle;\n",
       "    }\n",
       "\n",
       "    .dataframe tbody tr th {\n",
       "        vertical-align: top;\n",
       "    }\n",
       "\n",
       "    .dataframe thead th {\n",
       "        text-align: right;\n",
       "    }\n",
       "</style>\n",
       "<table border=\"1\" class=\"dataframe\">\n",
       "  <thead>\n",
       "    <tr style=\"text-align: right;\">\n",
       "      <th></th>\n",
       "      <th>fsq_id</th>\n",
       "      <th>fsq_name</th>\n",
       "      <th>overlap</th>\n",
       "      <th>yelp_name</th>\n",
       "    </tr>\n",
       "  </thead>\n",
       "  <tbody>\n",
       "    <tr>\n",
       "      <th>0</th>\n",
       "      <td>4bf58dd8d48988d181941735</td>\n",
       "      <td>museum</td>\n",
       "      <td>museums</td>\n",
       "      <td>museums</td>\n",
       "    </tr>\n",
       "    <tr>\n",
       "      <th>1</th>\n",
       "      <td>4bf58dd8d48988d17b941735</td>\n",
       "      <td>zoo</td>\n",
       "      <td>zoos</td>\n",
       "      <td>zoos</td>\n",
       "    </tr>\n",
       "    <tr>\n",
       "      <th>2</th>\n",
       "      <td>5267e4d9e4b0ec79466e48c7</td>\n",
       "      <td>festival</td>\n",
       "      <td>festivals</td>\n",
       "      <td>festivals</td>\n",
       "    </tr>\n",
       "    <tr>\n",
       "      <th>3</th>\n",
       "      <td>4bf58dd8d48988d1c4941735</td>\n",
       "      <td>restaurant</td>\n",
       "      <td>restaurants</td>\n",
       "      <td>restaurants</td>\n",
       "    </tr>\n",
       "    <tr>\n",
       "      <th>4</th>\n",
       "      <td>4bf58dd8d48988d116941735</td>\n",
       "      <td>bar</td>\n",
       "      <td>bars</td>\n",
       "      <td>bars</td>\n",
       "    </tr>\n",
       "    <tr>\n",
       "      <th>5</th>\n",
       "      <td>50327c8591d4c4b30a586d5d</td>\n",
       "      <td>brewery</td>\n",
       "      <td>breweries</td>\n",
       "      <td>breweries</td>\n",
       "    </tr>\n",
       "    <tr>\n",
       "      <th>6</th>\n",
       "      <td>4bf58dd8d48988d15b941735</td>\n",
       "      <td>farm</td>\n",
       "      <td>farms</td>\n",
       "      <td>farms</td>\n",
       "    </tr>\n",
       "    <tr>\n",
       "      <th>7</th>\n",
       "      <td>4bf58dd8d48988d163941735</td>\n",
       "      <td>park</td>\n",
       "      <td>parks</td>\n",
       "      <td>parks</td>\n",
       "    </tr>\n",
       "    <tr>\n",
       "      <th>8</th>\n",
       "      <td>4bf58dd8d48988d14b941735</td>\n",
       "      <td>winery</td>\n",
       "      <td>wineries</td>\n",
       "      <td>wineries</td>\n",
       "    </tr>\n",
       "    <tr>\n",
       "      <th>9</th>\n",
       "      <td>52f2ab2ebcbc57f1066b8b3f</td>\n",
       "      <td>lawyer</td>\n",
       "      <td>lawyers</td>\n",
       "      <td>lawyers</td>\n",
       "    </tr>\n",
       "    <tr>\n",
       "      <th>10</th>\n",
       "      <td>4bf58dd8d48988d1ed931735</td>\n",
       "      <td>airport</td>\n",
       "      <td>airports</td>\n",
       "      <td>airports</td>\n",
       "    </tr>\n",
       "    <tr>\n",
       "      <th>11</th>\n",
       "      <td>4bf58dd8d48988d1fa931735</td>\n",
       "      <td>hotel</td>\n",
       "      <td>hotels</td>\n",
       "      <td>hotels</td>\n",
       "    </tr>\n",
       "  </tbody>\n",
       "</table>\n",
       "</div>"
      ],
      "text/plain": [
       "                      fsq_id    fsq_name      overlap    yelp_name\n",
       "0   4bf58dd8d48988d181941735      museum      museums      museums\n",
       "1   4bf58dd8d48988d17b941735         zoo         zoos         zoos\n",
       "2   5267e4d9e4b0ec79466e48c7    festival    festivals    festivals\n",
       "3   4bf58dd8d48988d1c4941735  restaurant  restaurants  restaurants\n",
       "4   4bf58dd8d48988d116941735         bar         bars         bars\n",
       "5   50327c8591d4c4b30a586d5d     brewery    breweries    breweries\n",
       "6   4bf58dd8d48988d15b941735        farm        farms        farms\n",
       "7   4bf58dd8d48988d163941735        park        parks        parks\n",
       "8   4bf58dd8d48988d14b941735      winery     wineries     wineries\n",
       "9   52f2ab2ebcbc57f1066b8b3f      lawyer      lawyers      lawyers\n",
       "10  4bf58dd8d48988d1ed931735     airport     airports     airports\n",
       "11  4bf58dd8d48988d1fa931735       hotel       hotels       hotels"
      ]
     },
     "execution_count": 15,
     "metadata": {},
     "output_type": "execute_result"
    }
   ],
   "source": [
    "# display overlapping categories\n",
    "ol_categories"
   ]
  },
  {
   "cell_type": "markdown",
   "id": "printable-immune",
   "metadata": {},
   "source": [
    "#### Test: data retrieval"
   ]
  },
  {
   "cell_type": "code",
   "execution_count": 16,
   "id": "according-daisy",
   "metadata": {},
   "outputs": [],
   "source": [
    "# Foursquare\n",
    "fsq_data = client.venues.search(params={'query':'bar', \n",
    "                                    'll':'43.653225,-79.383186',\n",
    "                                    'radius':'250',\n",
    "                                    'limit':'5',\n",
    "                                    'categoryId':'4bf58dd8d48988d116941735'})\n",
    "# categoryID: bar, food, shop & service: 4d4b7105d754a06378d81259, hotel: 4bf58dd8d48988d1fa931735"
   ]
  },
  {
   "cell_type": "code",
   "execution_count": 17,
   "id": "neural-enclosure",
   "metadata": {},
   "outputs": [
    {
     "data": {
      "application/json": {
       "venues": [
        {
         "categories": [
          {
           "icon": {
            "prefix": "https://ss3.4sqi.net/img/categories_v2/nightlife/pub_",
            "suffix": ".png"
           },
           "id": "4bf58dd8d48988d11b941735",
           "name": "Pub",
           "pluralName": "Pubs",
           "primary": true,
           "shortName": "Pub"
          }
         ],
         "hasPerk": false,
         "id": "4af8da92f964a5204a1022e3",
         "location": {
          "address": "372 Bay St.",
          "cc": "CA",
          "city": "Toronto",
          "country": "Canada",
          "crossStreet": "at Richmond St.",
          "distance": 280,
          "formattedAddress": [
           "372 Bay St. (at Richmond St.)",
           "Toronto ON M5H 1M7",
           "Canada"
          ],
          "labeledLatLngs": [
           {
            "label": "display",
            "lat": 43.65118713330148,
            "lng": -79.38113925615237
           }
          ],
          "lat": 43.65118713330148,
          "lng": -79.38113925615237,
          "postalCode": "M5H 1M7",
          "state": "ON"
         },
         "name": "Blue Stone Grill & Bar",
         "referralId": "v-1615591375"
        },
        {
         "categories": [
          {
           "icon": {
            "prefix": "https://ss3.4sqi.net/img/categories_v2/nightlife/secretbar_",
            "suffix": ".png"
           },
           "id": "4bf58dd8d48988d1d4941735",
           "name": "Speakeasy",
           "pluralName": "Speakeasies",
           "primary": true,
           "shortName": "Speakeasy"
          }
         ],
         "hasPerk": false,
         "id": "5828e2b7b244c83857222352",
         "location": {
          "cc": "CA",
          "country": "Canada",
          "distance": 170,
          "formattedAddress": [
           "Canada"
          ],
          "labeledLatLngs": [
           {
            "label": "display",
            "lat": 43.65444400894926,
            "lng": -79.38446044921875
           }
          ],
          "lat": 43.65444400894926,
          "lng": -79.38446044921875
         },
         "name": "Bar Under the Stairs",
         "referralId": "v-1615591375"
        },
        {
         "categories": [
          {
           "icon": {
            "prefix": "https://ss3.4sqi.net/img/categories_v2/nightlife/secretbar_",
            "suffix": ".png"
           },
           "id": "4bf58dd8d48988d1d4941735",
           "name": "Speakeasy",
           "pluralName": "Speakeasies",
           "primary": true,
           "shortName": "Speakeasy"
          }
         ],
         "hasPerk": false,
         "id": "5828e0255f78034bcf481af8",
         "location": {
          "cc": "CA",
          "country": "Canada",
          "distance": 180,
          "formattedAddress": [
           "Canada"
          ],
          "labeledLatLngs": [
           {
            "label": "display",
            "lat": 43.654525515008686,
            "lng": -79.3845248222351
           }
          ],
          "lat": 43.654525515008686,
          "lng": -79.3845248222351
         },
         "name": "Bar Under the Stairs",
         "referralId": "v-1615591375"
        },
        {
         "categories": [
          {
           "icon": {
            "prefix": "https://ss3.4sqi.net/img/categories_v2/nightlife/pub_",
            "suffix": ".png"
           },
           "id": "4bf58dd8d48988d116941735",
           "name": "Bar",
           "pluralName": "Bars",
           "primary": true,
           "shortName": "Bar"
          }
         ],
         "hasPerk": false,
         "id": "5266fe1411d224a9cb6cb7ae",
         "location": {
          "cc": "CA",
          "country": "Canada",
          "distance": 216,
          "formattedAddress": [
           "Canada"
          ],
          "labeledLatLngs": [
           {
            "label": "display",
            "lat": 43.65512343056922,
            "lng": -79.3837674874531
           }
          ],
          "lat": 43.65512343056922,
          "lng": -79.3837674874531
         },
         "name": "Foundation Bar",
         "referralId": "v-1615591375"
        },
        {
         "categories": [
          {
           "icon": {
            "prefix": "https://ss3.4sqi.net/img/categories_v2/shops/mall_",
            "suffix": ".png"
           },
           "id": "4bf58dd8d48988d1fd941735",
           "name": "Shopping Mall",
           "pluralName": "Shopping Malls",
           "primary": true,
           "shortName": "Mall"
          }
         ],
         "hasPerk": false,
         "id": "59bc5030f79faa5f1e233670",
         "location": {
          "address": "250 Yonge street",
          "cc": "CA",
          "city": "Toronto",
          "country": "Canada",
          "crossStreet": "Yonge And Dundas",
          "distance": 254,
          "formattedAddress": [
           "250 Yonge street (Yonge And Dundas)",
           "Toronto ON M5G 1B1",
           "Canada"
          ],
          "labeledLatLngs": [
           {
            "label": "display",
            "lat": 43.654986,
            "lng": -79.381169
           }
          ],
          "lat": 43.654986,
          "lng": -79.381169,
          "postalCode": "M5G 1B1",
          "state": "ON"
         },
         "name": "CF Bubbly Bar",
         "referralId": "v-1615591375"
        }
       ]
      },
      "text/plain": [
       "<IPython.core.display.JSON object>"
      ]
     },
     "execution_count": 17,
     "metadata": {
      "application/json": {
       "expanded": false,
       "root": "root"
      }
     },
     "output_type": "execute_result"
    }
   ],
   "source": [
    "JSON(fsq_data)"
   ]
  },
  {
   "cell_type": "code",
   "execution_count": 18,
   "id": "exclusive-coating",
   "metadata": {},
   "outputs": [],
   "source": [
    "# Yelp\n",
    "bus_search = 'https://api.yelp.com/v3/businesses/search'\n",
    "yelp_data = re.get(bus_search,\n",
    "                   headers={'Authorization':f'Bearer {yelp_key}'},\n",
    "                   params={'term':'bar',\n",
    "                          'latitude':'49.282730',\n",
    "                          'longitude':'-123.120735',\n",
    "                          'radius':'250',\n",
    "                          'limit':'5'\n",
    "                          })"
   ]
  },
  {
   "cell_type": "code",
   "execution_count": 19,
   "id": "unknown-benjamin",
   "metadata": {},
   "outputs": [
    {
     "data": {
      "application/json": {
       "businesses": [
        {
         "alias": "prohibition-vancouver",
         "categories": [
          {
           "alias": "lounges",
           "title": "Lounges"
          },
          {
           "alias": "cocktailbars",
           "title": "Cocktail Bars"
          }
         ],
         "coordinates": {
          "latitude": 49.28356,
          "longitude": -123.11893
         },
         "display_phone": "+1 604-673-7089",
         "distance": 135.89649953967717,
         "id": "mdt1tLbkZcOS2CsEbVF9Xg",
         "image_url": "https://s3-media2.fl.yelpcdn.com/bphoto/2vymLc29wYgkg1nJCfjvjQ/o.jpg",
         "is_closed": false,
         "location": {
          "address1": "801 W Georgia Street",
          "address2": "",
          "address3": "",
          "city": "Vancouver",
          "country": "CA",
          "display_address": [
           "801 W Georgia Street",
           "Vancouver, BC V6C 1P7",
           "Canada"
          ],
          "state": "BC",
          "zip_code": "V6C 1P7"
         },
         "name": "Prohibition",
         "phone": "+16046737089",
         "price": "$$",
         "rating": 4,
         "review_count": 144,
         "transactions": [],
         "url": "https://www.yelp.com/biz/prohibition-vancouver?adjust_creative=moGbP_7iayLhNxyo8EXvFA&utm_campaign=yelp_api_v3&utm_medium=api_v3_business_search&utm_source=moGbP_7iayLhNxyo8EXvFA"
        },
        {
         "alias": "1927-lobby-lounge-vancouver",
         "categories": [
          {
           "alias": "lounges",
           "title": "Lounges"
          }
         ],
         "coordinates": {
          "latitude": 49.2834188,
          "longitude": -123.1187911
         },
         "display_phone": "+1 604-682-5566",
         "distance": 160.45971408738228,
         "id": "FgATf88_fEkJKLWR2aKmew",
         "image_url": "https://s3-media3.fl.yelpcdn.com/bphoto/yFMclEyyY1UmbajdOVG_Mw/o.jpg",
         "is_closed": false,
         "location": {
          "address1": "801 W Georgia Street",
          "address2": "",
          "address3": "",
          "city": "Vancouver",
          "country": "CA",
          "display_address": [
           "801 W Georgia Street",
           "Vancouver, BC V6C 1P7",
           "Canada"
          ],
          "state": "BC",
          "zip_code": "V6C 1P7"
         },
         "name": "1927 Lobby Lounge",
         "phone": "+16046825566",
         "price": "$$$",
         "rating": 4.5,
         "review_count": 29,
         "transactions": [],
         "url": "https://www.yelp.com/biz/1927-lobby-lounge-vancouver?adjust_creative=moGbP_7iayLhNxyo8EXvFA&utm_campaign=yelp_api_v3&utm_medium=api_v3_business_search&utm_source=moGbP_7iayLhNxyo8EXvFA"
        },
        {
         "alias": "the-bottleneck-vancouver",
         "categories": [
          {
           "alias": "pubs",
           "title": "Pubs"
          },
          {
           "alias": "newcanadian",
           "title": "Canadian (New)"
          }
         ],
         "coordinates": {
          "latitude": 49.2805449299109,
          "longitude": -123.120717952917
         },
         "display_phone": "+1 604-739-4540",
         "distance": 242.97158535534115,
         "id": "QrOGQtujSAcBRr9TM3ixiA",
         "image_url": "https://s3-media4.fl.yelpcdn.com/bphoto/QPtAEntcUki2KPcyDObjgw/o.jpg",
         "is_closed": false,
         "location": {
          "address1": "870 Granville Street",
          "address2": "",
          "address3": "",
          "city": "Vancouver",
          "country": "CA",
          "display_address": [
           "870 Granville Street",
           "Vancouver, BC V6B 2C9",
           "Canada"
          ],
          "state": "BC",
          "zip_code": "V6B 2C9"
         },
         "name": "The Bottleneck",
         "phone": "+16047394540",
         "price": "$$",
         "rating": 4,
         "review_count": 89,
         "transactions": [],
         "url": "https://www.yelp.com/biz/the-bottleneck-vancouver?adjust_creative=moGbP_7iayLhNxyo8EXvFA&utm_campaign=yelp_api_v3&utm_medium=api_v3_business_search&utm_source=moGbP_7iayLhNxyo8EXvFA"
        },
        {
         "alias": "joey-burrard-vancouver-4",
         "categories": [
          {
           "alias": "newcanadian",
           "title": "Canadian (New)"
          },
          {
           "alias": "lounges",
           "title": "Lounges"
          }
         ],
         "coordinates": {
          "latitude": 49.2827851242953,
          "longitude": -123.12316775322
         },
         "display_phone": "+1 604-683-5639",
         "distance": 176.56695819486868,
         "id": "nV-MkqGnkH1fyxuVCs5Jpw",
         "image_url": "https://s3-media4.fl.yelpcdn.com/bphoto/6InUhdo8uzDt_ctPV6XLXA/o.jpg",
         "is_closed": false,
         "location": {
          "address1": "820 Burrard St",
          "address2": "",
          "address3": "",
          "city": "Vancouver",
          "country": "CA",
          "display_address": [
           "820 Burrard St",
           "Vancouver, BC V6Z 1X9",
           "Canada"
          ],
          "state": "BC",
          "zip_code": "V6Z 1X9"
         },
         "name": "JOEY Burrard",
         "phone": "+16046835639",
         "price": "$$",
         "rating": 4,
         "review_count": 459,
         "transactions": [],
         "url": "https://www.yelp.com/biz/joey-burrard-vancouver-4?adjust_creative=moGbP_7iayLhNxyo8EXvFA&utm_campaign=yelp_api_v3&utm_medium=api_v3_business_search&utm_source=moGbP_7iayLhNxyo8EXvFA"
        },
        {
         "alias": "notch8-restaurant-and-bar-vancouver",
         "categories": [
          {
           "alias": "bars",
           "title": "Bars"
          }
         ],
         "coordinates": {
          "latitude": 49.28372,
          "longitude": -123.12111
         },
         "display_phone": "+1 604-684-3131",
         "distance": 128.68494118145426,
         "id": "8Wzyn8c4OZ4OANfKQNVGyw",
         "image_url": "https://s3-media3.fl.yelpcdn.com/bphoto/_ZKDi_czXDg0CFFbwyR77w/o.jpg",
         "is_closed": false,
         "location": {
          "address1": "900 W Georgia Street",
          "address2": "",
          "address3": "",
          "city": "Vancouver",
          "country": "CA",
          "display_address": [
           "900 W Georgia Street",
           "Vancouver, BC V6C 2W6",
           "Canada"
          ],
          "state": "BC",
          "zip_code": "V6C 2W6"
         },
         "name": "Notch8 Restaurant & Bar",
         "phone": "+16046843131",
         "price": "$$$",
         "rating": 3.5,
         "review_count": 133,
         "transactions": [],
         "url": "https://www.yelp.com/biz/notch8-restaurant-and-bar-vancouver?adjust_creative=moGbP_7iayLhNxyo8EXvFA&utm_campaign=yelp_api_v3&utm_medium=api_v3_business_search&utm_source=moGbP_7iayLhNxyo8EXvFA"
        }
       ],
       "region": {
        "center": {
         "latitude": 49.28273,
         "longitude": -123.120735
        }
       },
       "total": 19
      },
      "text/plain": [
       "<IPython.core.display.JSON object>"
      ]
     },
     "execution_count": 19,
     "metadata": {
      "application/json": {
       "expanded": false,
       "root": "root"
      }
     },
     "output_type": "execute_result"
    }
   ],
   "source": [
    "JSON(yelp_data.json())"
   ]
  },
  {
   "cell_type": "markdown",
   "id": "entertaining-information",
   "metadata": {},
   "source": [
    "#### Test: dataframe designs"
   ]
  },
  {
   "cell_type": "code",
   "execution_count": 29,
   "id": "greater-natural",
   "metadata": {},
   "outputs": [],
   "source": [
    "#yelp normalization\n",
    "yelp_table = pd.json_normalize(data=yelp_data.json(), record_path=['businesses','categories'],\n",
    "                      meta=[['businesses','id'],\n",
    "                            ['businesses','name'],\n",
    "                            ['businesses','coordinates','latitude'],\n",
    "                            ['businesses','coordinates','longitude'],\n",
    "                            ['businesses','distance']])\n",
    "\n",
    "mapping = {'alias':'y_category',\n",
    "           'businesses.id':'yelp_bus_id',\n",
    "           'businesses.name':'venue',\n",
    "           'businesses.coordinates.latitude':'latitude',\n",
    "           'businesses.coordinates.longitude':'longitude',\n",
    "           'businesses.distance':'distance'}\n",
    "\n",
    "yelp_table.rename(columns=mapping, inplace=True)\n",
    "yelp_table.drop(columns='title', inplace=True)"
   ]
  },
  {
   "cell_type": "code",
   "execution_count": 30,
   "id": "upset-telescope",
   "metadata": {},
   "outputs": [
    {
     "data": {
      "text/html": [
       "<div>\n",
       "<style scoped>\n",
       "    .dataframe tbody tr th:only-of-type {\n",
       "        vertical-align: middle;\n",
       "    }\n",
       "\n",
       "    .dataframe tbody tr th {\n",
       "        vertical-align: top;\n",
       "    }\n",
       "\n",
       "    .dataframe thead th {\n",
       "        text-align: right;\n",
       "    }\n",
       "</style>\n",
       "<table border=\"1\" class=\"dataframe\">\n",
       "  <thead>\n",
       "    <tr style=\"text-align: right;\">\n",
       "      <th></th>\n",
       "      <th>y_category</th>\n",
       "      <th>yelp_bus_id</th>\n",
       "      <th>venue</th>\n",
       "      <th>latitude</th>\n",
       "      <th>longitude</th>\n",
       "      <th>distance</th>\n",
       "    </tr>\n",
       "  </thead>\n",
       "  <tbody>\n",
       "    <tr>\n",
       "      <th>0</th>\n",
       "      <td>lounges</td>\n",
       "      <td>mdt1tLbkZcOS2CsEbVF9Xg</td>\n",
       "      <td>Prohibition</td>\n",
       "      <td>49.28356</td>\n",
       "      <td>-123.11893</td>\n",
       "      <td>135.8965</td>\n",
       "    </tr>\n",
       "    <tr>\n",
       "      <th>1</th>\n",
       "      <td>cocktailbars</td>\n",
       "      <td>mdt1tLbkZcOS2CsEbVF9Xg</td>\n",
       "      <td>Prohibition</td>\n",
       "      <td>49.28356</td>\n",
       "      <td>-123.11893</td>\n",
       "      <td>135.8965</td>\n",
       "    </tr>\n",
       "    <tr>\n",
       "      <th>2</th>\n",
       "      <td>lounges</td>\n",
       "      <td>FgATf88_fEkJKLWR2aKmew</td>\n",
       "      <td>1927 Lobby Lounge</td>\n",
       "      <td>49.283419</td>\n",
       "      <td>-123.118791</td>\n",
       "      <td>160.459714</td>\n",
       "    </tr>\n",
       "    <tr>\n",
       "      <th>3</th>\n",
       "      <td>pubs</td>\n",
       "      <td>QrOGQtujSAcBRr9TM3ixiA</td>\n",
       "      <td>The Bottleneck</td>\n",
       "      <td>49.280545</td>\n",
       "      <td>-123.120718</td>\n",
       "      <td>242.971585</td>\n",
       "    </tr>\n",
       "    <tr>\n",
       "      <th>4</th>\n",
       "      <td>newcanadian</td>\n",
       "      <td>QrOGQtujSAcBRr9TM3ixiA</td>\n",
       "      <td>The Bottleneck</td>\n",
       "      <td>49.280545</td>\n",
       "      <td>-123.120718</td>\n",
       "      <td>242.971585</td>\n",
       "    </tr>\n",
       "    <tr>\n",
       "      <th>5</th>\n",
       "      <td>newcanadian</td>\n",
       "      <td>nV-MkqGnkH1fyxuVCs5Jpw</td>\n",
       "      <td>JOEY Burrard</td>\n",
       "      <td>49.282785</td>\n",
       "      <td>-123.123168</td>\n",
       "      <td>176.566958</td>\n",
       "    </tr>\n",
       "    <tr>\n",
       "      <th>6</th>\n",
       "      <td>lounges</td>\n",
       "      <td>nV-MkqGnkH1fyxuVCs5Jpw</td>\n",
       "      <td>JOEY Burrard</td>\n",
       "      <td>49.282785</td>\n",
       "      <td>-123.123168</td>\n",
       "      <td>176.566958</td>\n",
       "    </tr>\n",
       "    <tr>\n",
       "      <th>7</th>\n",
       "      <td>bars</td>\n",
       "      <td>8Wzyn8c4OZ4OANfKQNVGyw</td>\n",
       "      <td>Notch8 Restaurant &amp; Bar</td>\n",
       "      <td>49.28372</td>\n",
       "      <td>-123.12111</td>\n",
       "      <td>128.684941</td>\n",
       "    </tr>\n",
       "  </tbody>\n",
       "</table>\n",
       "</div>"
      ],
      "text/plain": [
       "     y_category             yelp_bus_id                    venue   latitude  \\\n",
       "0       lounges  mdt1tLbkZcOS2CsEbVF9Xg              Prohibition   49.28356   \n",
       "1  cocktailbars  mdt1tLbkZcOS2CsEbVF9Xg              Prohibition   49.28356   \n",
       "2       lounges  FgATf88_fEkJKLWR2aKmew        1927 Lobby Lounge  49.283419   \n",
       "3          pubs  QrOGQtujSAcBRr9TM3ixiA           The Bottleneck  49.280545   \n",
       "4   newcanadian  QrOGQtujSAcBRr9TM3ixiA           The Bottleneck  49.280545   \n",
       "5   newcanadian  nV-MkqGnkH1fyxuVCs5Jpw             JOEY Burrard  49.282785   \n",
       "6       lounges  nV-MkqGnkH1fyxuVCs5Jpw             JOEY Burrard  49.282785   \n",
       "7          bars  8Wzyn8c4OZ4OANfKQNVGyw  Notch8 Restaurant & Bar   49.28372   \n",
       "\n",
       "    longitude    distance  \n",
       "0  -123.11893    135.8965  \n",
       "1  -123.11893    135.8965  \n",
       "2 -123.118791  160.459714  \n",
       "3 -123.120718  242.971585  \n",
       "4 -123.120718  242.971585  \n",
       "5 -123.123168  176.566958  \n",
       "6 -123.123168  176.566958  \n",
       "7  -123.12111  128.684941  "
      ]
     },
     "execution_count": 30,
     "metadata": {},
     "output_type": "execute_result"
    }
   ],
   "source": [
    "yelp_table"
   ]
  },
  {
   "cell_type": "code",
   "execution_count": 31,
   "id": "fixed-personality",
   "metadata": {},
   "outputs": [],
   "source": [
    "#fsq normalization\n",
    "fsq_table = pd.json_normalize(data=fsq_data, record_path=['venues','categories'],\n",
    "                     meta=[['venues','id'],\n",
    "                           ['venues','name'],\n",
    "                           ['venues','location','lat'],\n",
    "                           ['venues','location','lng'],\n",
    "                           ['venues','location','distance']])\n",
    "\n",
    "fsq_table.drop(columns=['id','name','shortName','primary','icon.prefix','icon.suffix'], inplace=True)\n",
    "\n",
    "mapping = {'pluralName':'f_category',\n",
    "           'venues.id':'fsq_bus_id',\n",
    "           'venues.name':'venue',\n",
    "           'venues.location.lat':'latitude',\n",
    "           'venues.location.lng':'longitude',\n",
    "           'venues.location.distance':'distance'}\n",
    "\n",
    "fsq_table.rename(columns=mapping, inplace=True)"
   ]
  },
  {
   "cell_type": "code",
   "execution_count": 32,
   "id": "wrapped-internet",
   "metadata": {},
   "outputs": [
    {
     "data": {
      "text/html": [
       "<div>\n",
       "<style scoped>\n",
       "    .dataframe tbody tr th:only-of-type {\n",
       "        vertical-align: middle;\n",
       "    }\n",
       "\n",
       "    .dataframe tbody tr th {\n",
       "        vertical-align: top;\n",
       "    }\n",
       "\n",
       "    .dataframe thead th {\n",
       "        text-align: right;\n",
       "    }\n",
       "</style>\n",
       "<table border=\"1\" class=\"dataframe\">\n",
       "  <thead>\n",
       "    <tr style=\"text-align: right;\">\n",
       "      <th></th>\n",
       "      <th>f_category</th>\n",
       "      <th>fsq_bus_id</th>\n",
       "      <th>venue</th>\n",
       "      <th>latitude</th>\n",
       "      <th>longitude</th>\n",
       "      <th>distance</th>\n",
       "    </tr>\n",
       "  </thead>\n",
       "  <tbody>\n",
       "    <tr>\n",
       "      <th>0</th>\n",
       "      <td>Pubs</td>\n",
       "      <td>4af8da92f964a5204a1022e3</td>\n",
       "      <td>Blue Stone Grill &amp; Bar</td>\n",
       "      <td>43.651187</td>\n",
       "      <td>-79.381139</td>\n",
       "      <td>280</td>\n",
       "    </tr>\n",
       "    <tr>\n",
       "      <th>1</th>\n",
       "      <td>Speakeasies</td>\n",
       "      <td>5828e2b7b244c83857222352</td>\n",
       "      <td>Bar Under the Stairs</td>\n",
       "      <td>43.654444</td>\n",
       "      <td>-79.38446</td>\n",
       "      <td>170</td>\n",
       "    </tr>\n",
       "    <tr>\n",
       "      <th>2</th>\n",
       "      <td>Speakeasies</td>\n",
       "      <td>5828e0255f78034bcf481af8</td>\n",
       "      <td>Bar Under the Stairs</td>\n",
       "      <td>43.654526</td>\n",
       "      <td>-79.384525</td>\n",
       "      <td>180</td>\n",
       "    </tr>\n",
       "    <tr>\n",
       "      <th>3</th>\n",
       "      <td>Bars</td>\n",
       "      <td>5266fe1411d224a9cb6cb7ae</td>\n",
       "      <td>Foundation Bar</td>\n",
       "      <td>43.655123</td>\n",
       "      <td>-79.383767</td>\n",
       "      <td>216</td>\n",
       "    </tr>\n",
       "    <tr>\n",
       "      <th>4</th>\n",
       "      <td>Shopping Malls</td>\n",
       "      <td>59bc5030f79faa5f1e233670</td>\n",
       "      <td>CF Bubbly Bar</td>\n",
       "      <td>43.654986</td>\n",
       "      <td>-79.381169</td>\n",
       "      <td>254</td>\n",
       "    </tr>\n",
       "  </tbody>\n",
       "</table>\n",
       "</div>"
      ],
      "text/plain": [
       "       f_category                fsq_bus_id                   venue  \\\n",
       "0            Pubs  4af8da92f964a5204a1022e3  Blue Stone Grill & Bar   \n",
       "1     Speakeasies  5828e2b7b244c83857222352    Bar Under the Stairs   \n",
       "2     Speakeasies  5828e0255f78034bcf481af8    Bar Under the Stairs   \n",
       "3            Bars  5266fe1411d224a9cb6cb7ae          Foundation Bar   \n",
       "4  Shopping Malls  59bc5030f79faa5f1e233670           CF Bubbly Bar   \n",
       "\n",
       "    latitude  longitude distance  \n",
       "0  43.651187 -79.381139      280  \n",
       "1  43.654444  -79.38446      170  \n",
       "2  43.654526 -79.384525      180  \n",
       "3  43.655123 -79.383767      216  \n",
       "4  43.654986 -79.381169      254  "
      ]
     },
     "execution_count": 32,
     "metadata": {},
     "output_type": "execute_result"
    }
   ],
   "source": [
    "fsq_table"
   ]
  },
  {
   "cell_type": "markdown",
   "id": "forty-bunch",
   "metadata": {},
   "source": [
    "#### Define function for collecting data "
   ]
  },
  {
   "cell_type": "code",
   "execution_count": 33,
   "id": "sixth-liabilities",
   "metadata": {},
   "outputs": [],
   "source": [
    "def get_data(city, query=None, category=None):\n",
    "    '''sends get request to yelp & fsq, returns json files'''\n",
    "    \n",
    "    # lat & longitudes for city centres: vancouver, toronto, new york city, and new westminster\n",
    "    c = {'vancouver':('49.282730','-123.120735'),\n",
    "    'toronto':('43.653225','-79.383186'),\n",
    "    'nyc':('40.712776','-74.005974'),\n",
    "    'new westminster':('49.205719','-122.910957')}\n",
    "    \n",
    "    try:     \n",
    "        latitude, longitude = c[city.lower()]\n",
    "            \n",
    "        # YELP request parameters\n",
    "        p={'latitude':latitude,\n",
    "           'longitude':longitude,\n",
    "           'radius':'1000'} # 1 km radius\n",
    "        \n",
    "        # add category to GET request if in function argument (convert to correct format)\n",
    "        if (category != None):\n",
    "            p['categories'] = ol_categories[ol_categories['overlap']==category]['yelp_name'].iat[0]\n",
    "        \n",
    "        # add query to GET request if in function arguement (already formatted correctly)\n",
    "        if (query != None):\n",
    "            p['term'] = query\n",
    "\n",
    "        # YELP GET request / search\n",
    "        data = re.get('https://api.yelp.com/v3/businesses/search',\n",
    "                     headers={'Authorization':f'Bearer {yelp_key}'},\n",
    "                     params=p)\n",
    "        \n",
    "        # format response into JSON\n",
    "        data_yelp = data.json()\n",
    "        print(p)\n",
    "\n",
    "        # FSQ request parameters\n",
    "        p = {'ll':f'{latitude},{longitude}',\n",
    "            'radius':'1000'} # 1 km radius\n",
    "        \n",
    "        # add category to GET request if in function argument (convert to correct format)\n",
    "        if (category != None):\n",
    "            p['categoryId'] = ol_categories[ol_categories['overlap']==category]['fsq_id'].iat[0]\n",
    "\n",
    "        # add query to GET request if in function arguement (convert to correct format)\n",
    "        if (query != None):\n",
    "            p['query'] = ol_categories[ol_categories['overlap']==query]['fsq_name'].iat[0]\n",
    "\n",
    "        # FSQ GET request / search\n",
    "        data_fsq = client.venues.search(params=p)\n",
    "        print(p)\n",
    "\n",
    "    except:\n",
    "        print('some error occurred')\n",
    "    \n",
    "    # return fields appropriately based on input arguements, all indicated variables MUST be return for next function to work.\n",
    "    finally:\n",
    "        if (query != None) & (category != None):\n",
    "            return data_yelp, data_fsq, city.lower(), query.lower(), category.lower()\n",
    "        elif (query != None):\n",
    "            category = ''\n",
    "        else:\n",
    "            query = ''\n",
    "        \n",
    "        return data_yelp, data_fsq, city.lower(), query.lower(), category.lower()"
   ]
  },
  {
   "cell_type": "code",
   "execution_count": 45,
   "id": "incident-hours",
   "metadata": {},
   "outputs": [
    {
     "name": "stdout",
     "output_type": "stream",
     "text": [
      "{'latitude': '43.653225', 'longitude': '-79.383186', 'radius': '1000', 'categories': 'bars'}\n",
      "{'ll': '43.653225,-79.383186', 'radius': '1000', 'categoryId': '4bf58dd8d48988d116941735'}\n"
     ]
    }
   ],
   "source": [
    "# test the get_data() function\n",
    "test = get_data(category='bars',city='torOnto')"
   ]
  },
  {
   "cell_type": "code",
   "execution_count": 46,
   "id": "oriental-oakland",
   "metadata": {},
   "outputs": [
    {
     "data": {
      "text/plain": [
       "5"
      ]
     },
     "execution_count": 46,
     "metadata": {},
     "output_type": "execute_result"
    }
   ],
   "source": [
    "len(test) # 5 = data_yelp, data_fsq, city, query, category"
   ]
  },
  {
   "cell_type": "code",
   "execution_count": 47,
   "id": "least-capitol",
   "metadata": {},
   "outputs": [
    {
     "data": {
      "application/json": {
       "businesses": [
        {
         "alias": "kinka-izakaya-original-toronto",
         "categories": [
          {
           "alias": "japanese",
           "title": "Japanese"
          },
          {
           "alias": "pubs",
           "title": "Pubs"
          }
         ],
         "coordinates": {
          "latitude": 43.66045,
          "longitude": -79.37915
         },
         "display_phone": "+1 416-977-0999",
         "distance": 862.6635523148361,
         "id": "RtUvSWO_UZ8V3Wpj0n077w",
         "image_url": "https://s3-media3.fl.yelpcdn.com/bphoto/nHFVveLBqeiCGy12R2CnRA/o.jpg",
         "is_closed": false,
         "location": {
          "address1": "398 Church Street",
          "address2": "",
          "address3": "",
          "city": "Toronto",
          "country": "CA",
          "display_address": [
           "398 Church Street",
           "Toronto, ON M5B 2A2",
           "Canada"
          ],
          "state": "ON",
          "zip_code": "M5B 2A2"
         },
         "name": "KINKA IZAKAYA ORIGINAL",
         "phone": "+14169770999",
         "price": "$$",
         "rating": 4,
         "review_count": 1624,
         "transactions": [],
         "url": "https://www.yelp.com/biz/kinka-izakaya-original-toronto?adjust_creative=moGbP_7iayLhNxyo8EXvFA&utm_campaign=yelp_api_v3&utm_medium=api_v3_business_search&utm_source=moGbP_7iayLhNxyo8EXvFA"
        },
        {
         "alias": "the-senator-toronto",
         "categories": [
          {
           "alias": "breakfast_brunch",
           "title": "Breakfast & Brunch"
          },
          {
           "alias": "newcanadian",
           "title": "Canadian (New)"
          },
          {
           "alias": "wine_bars",
           "title": "Wine Bars"
          }
         ],
         "coordinates": {
          "latitude": 43.65574,
          "longitude": -79.37896
         },
         "display_phone": "+1 416-364-7517",
         "distance": 438.8726842337303,
         "id": "cQK9M2JAwETQnnBoYyua5A",
         "image_url": "https://s3-media3.fl.yelpcdn.com/bphoto/-YxCyds-0w13s0oGp88-Kg/o.jpg",
         "is_closed": false,
         "location": {
          "address1": "249 Victoria Street",
          "address2": "",
          "address3": "",
          "city": "Toronto",
          "country": "CA",
          "display_address": [
           "249 Victoria Street",
           "Toronto, ON M5B 1T8",
           "Canada"
          ],
          "state": "ON",
          "zip_code": "M5B 1T8"
         },
         "name": "The Senator",
         "phone": "+14163647517",
         "price": "$$",
         "rating": 4,
         "review_count": 477,
         "transactions": [],
         "url": "https://www.yelp.com/biz/the-senator-toronto?adjust_creative=moGbP_7iayLhNxyo8EXvFA&utm_campaign=yelp_api_v3&utm_medium=api_v3_business_search&utm_source=moGbP_7iayLhNxyo8EXvFA"
        },
        {
         "alias": "cactus-club-cafe-toronto",
         "categories": [
          {
           "alias": "cocktailbars",
           "title": "Cocktail Bars"
          },
          {
           "alias": "newcanadian",
           "title": "Canadian (New)"
          }
         ],
         "coordinates": {
          "latitude": 43.64950420768667,
          "longitude": -79.38251803088575
         },
         "display_phone": "+1 647-748-2025",
         "distance": 417.20855118080544,
         "id": "yY3jNsrpCyKTqQuRuLV8gw",
         "image_url": "https://s3-media1.fl.yelpcdn.com/bphoto/WIfNAqRQAHshNZCYfLR8Lg/o.jpg",
         "is_closed": false,
         "location": {
          "address1": "77 Adelaide Street W",
          "address2": "",
          "address3": "",
          "city": "Toronto",
          "country": "CA",
          "display_address": [
           "77 Adelaide Street W",
           "Toronto, ON M5H 1P9",
           "Canada"
          ],
          "state": "ON",
          "zip_code": "M5H 1P9"
         },
         "name": "Cactus Club Cafe",
         "phone": "+16477482025",
         "price": "$$$",
         "rating": 4,
         "review_count": 519,
         "transactions": [],
         "url": "https://www.yelp.com/biz/cactus-club-cafe-toronto?adjust_creative=moGbP_7iayLhNxyo8EXvFA&utm_campaign=yelp_api_v3&utm_medium=api_v3_business_search&utm_source=moGbP_7iayLhNxyo8EXvFA"
        },
        {
         "alias": "beerbistro-toronto-3",
         "categories": [
          {
           "alias": "bistros",
           "title": "Bistros"
          },
          {
           "alias": "beerbar",
           "title": "Beer Bar"
          }
         ],
         "coordinates": {
          "latitude": 43.64945,
          "longitude": -79.377159
         },
         "display_phone": "+1 416-861-9872",
         "distance": 641.3512193694614,
         "id": "O-uIEuv7JLUHajkemx_sVw",
         "image_url": "https://s3-media2.fl.yelpcdn.com/bphoto/aVwt7Jeg2o8kkaH9cGPfeg/o.jpg",
         "is_closed": false,
         "location": {
          "address1": "18 King Street E",
          "address2": "",
          "address3": "",
          "city": "Toronto",
          "country": "CA",
          "display_address": [
           "18 King Street E",
           "Toronto, ON M5C 1C4",
           "Canada"
          ],
          "state": "ON",
          "zip_code": "M5C 1C4"
         },
         "name": "Beerbistro",
         "phone": "+14168619872",
         "price": "$$",
         "rating": 4,
         "review_count": 638,
         "transactions": [],
         "url": "https://www.yelp.com/biz/beerbistro-toronto-3?adjust_creative=moGbP_7iayLhNxyo8EXvFA&utm_campaign=yelp_api_v3&utm_medium=api_v3_business_search&utm_source=moGbP_7iayLhNxyo8EXvFA"
        },
        {
         "alias": "george-restaurant-toronto-3",
         "categories": [
          {
           "alias": "newcanadian",
           "title": "Canadian (New)"
          },
          {
           "alias": "cocktailbars",
           "title": "Cocktail Bars"
          }
         ],
         "coordinates": {
          "latitude": 43.65323,
          "longitude": -79.37446
         },
         "display_phone": "+1 416-863-6006",
         "distance": 728.6046823893332,
         "id": "Sk0Ycurq7D083Qs8x65b_Q",
         "image_url": "https://s3-media3.fl.yelpcdn.com/bphoto/2Ay3Zmf47NeTGH_ghy2PKw/o.jpg",
         "is_closed": false,
         "location": {
          "address1": "111 Queen Street E",
          "address2": "",
          "address3": "",
          "city": "Toronto",
          "country": "CA",
          "display_address": [
           "111 Queen Street E",
           "Toronto, ON M5C 1S2",
           "Canada"
          ],
          "state": "ON",
          "zip_code": "M5C 1S2"
         },
         "name": "George Restaurant",
         "phone": "+14168636006",
         "price": "$$$$",
         "rating": 4.5,
         "review_count": 263,
         "transactions": [],
         "url": "https://www.yelp.com/biz/george-restaurant-toronto-3?adjust_creative=moGbP_7iayLhNxyo8EXvFA&utm_campaign=yelp_api_v3&utm_medium=api_v3_business_search&utm_source=moGbP_7iayLhNxyo8EXvFA"
        },
        {
         "alias": "the-queen-and-beaver-public-house-toronto",
         "categories": [
          {
           "alias": "pubs",
           "title": "Pubs"
          },
          {
           "alias": "british",
           "title": "British"
          }
         ],
         "coordinates": {
          "latitude": 43.65734,
          "longitude": -79.38334
         },
         "display_phone": "+1 647-347-2712",
         "distance": 457.55624344735224,
         "id": "qaNt4vtVdge_S68DVjw5Jg",
         "image_url": "https://s3-media1.fl.yelpcdn.com/bphoto/z_OFp-LM3rQbtIJxfFY96g/o.jpg",
         "is_closed": false,
         "location": {
          "address1": "35 Elm Street",
          "address2": "",
          "address3": "",
          "city": "Toronto",
          "country": "CA",
          "display_address": [
           "35 Elm Street",
           "Toronto, ON M5G 1H1",
           "Canada"
          ],
          "state": "ON",
          "zip_code": "M5G 1H1"
         },
         "name": "The Queen And Beaver Public House",
         "phone": "+16473472712",
         "price": "$$",
         "rating": 4,
         "review_count": 381,
         "transactions": [],
         "url": "https://www.yelp.com/biz/the-queen-and-beaver-public-house-toronto?adjust_creative=moGbP_7iayLhNxyo8EXvFA&utm_campaign=yelp_api_v3&utm_medium=api_v3_business_search&utm_source=moGbP_7iayLhNxyo8EXvFA"
        },
        {
         "alias": "the-carbon-bar-toronto",
         "categories": [
          {
           "alias": "bbq",
           "title": "Barbeque"
          },
          {
           "alias": "bars",
           "title": "Bars"
          },
          {
           "alias": "tradamerican",
           "title": "American (Traditional)"
          }
         ],
         "coordinates": {
          "latitude": 43.6531872633836,
          "longitude": -79.3747868765724
         },
         "display_phone": "+1 416-947-7000",
         "distance": 675.7469011226091,
         "id": "fQwB9Z98YEhkJit7c3z51A",
         "image_url": "https://s3-media2.fl.yelpcdn.com/bphoto/RqXIAZ1LymJx59_gKn8tUw/o.jpg",
         "is_closed": false,
         "location": {
          "address1": "99 Queen Street East",
          "address2": "",
          "address3": "",
          "city": "Toronto",
          "country": "CA",
          "display_address": [
           "99 Queen Street East",
           "Toronto, ON M5C 1S2",
           "Canada"
          ],
          "state": "ON",
          "zip_code": "M5C 1S2"
         },
         "name": "The Carbon Bar",
         "phone": "+14169477000",
         "price": "$$$",
         "rating": 4,
         "review_count": 378,
         "transactions": [],
         "url": "https://www.yelp.com/biz/the-carbon-bar-toronto?adjust_creative=moGbP_7iayLhNxyo8EXvFA&utm_campaign=yelp_api_v3&utm_medium=api_v3_business_search&utm_source=moGbP_7iayLhNxyo8EXvFA"
        },
        {
         "alias": "king-taps-toronto",
         "categories": [
          {
           "alias": "newcanadian",
           "title": "Canadian (New)"
          },
          {
           "alias": "fooddeliveryservices",
           "title": "Food Delivery Services"
          },
          {
           "alias": "cocktailbars",
           "title": "Cocktail Bars"
          }
         ],
         "coordinates": {
          "latitude": 43.6486379269,
          "longitude": -79.3817439
         },
         "display_phone": "+1 647-361-2025",
         "distance": 523.0887032525079,
         "id": "exysqt4RqxkF9I8Z2NEUsQ",
         "image_url": "https://s3-media1.fl.yelpcdn.com/bphoto/h_CMsqzud6FKxIiaEywfWQ/o.jpg",
         "is_closed": false,
         "location": {
          "address1": "100 King Street W",
          "address2": "",
          "address3": null,
          "city": "Toronto",
          "country": "CA",
          "display_address": [
           "100 King Street W",
           "Toronto, ON M5X 1A9",
           "Canada"
          ],
          "state": "ON",
          "zip_code": "M5X 1A9"
         },
         "name": "King Taps",
         "phone": "+16473612025",
         "price": "$$",
         "rating": 4,
         "review_count": 301,
         "transactions": [],
         "url": "https://www.yelp.com/biz/king-taps-toronto?adjust_creative=moGbP_7iayLhNxyo8EXvFA&utm_campaign=yelp_api_v3&utm_medium=api_v3_business_search&utm_source=moGbP_7iayLhNxyo8EXvFA"
        },
        {
         "alias": "earls-kitchen-bar-toronto",
         "categories": [
          {
           "alias": "newcanadian",
           "title": "Canadian (New)"
          },
          {
           "alias": "cocktailbars",
           "title": "Cocktail Bars"
          }
         ],
         "coordinates": {
          "latitude": 43.6480134620711,
          "longitude": -79.3839246431072
         },
         "display_phone": "+1 416-916-0227",
         "distance": 582.5352267274238,
         "id": "QFPS9JBNdOOHVP0C3pSslw",
         "image_url": "https://s3-media1.fl.yelpcdn.com/bphoto/d5lDPc9Tu-K2qeIvhsqFfw/o.jpg",
         "is_closed": false,
         "location": {
          "address1": "150 King Street West",
          "address2": "Unit 100",
          "address3": "",
          "city": "Toronto",
          "country": "CA",
          "display_address": [
           "150 King Street West",
           "Unit 100",
           "Toronto, ON V5H 1J9",
           "Canada"
          ],
          "state": "ON",
          "zip_code": "V5H 1J9"
         },
         "name": "Earls Kitchen + Bar",
         "phone": "+14169160227",
         "price": "$$",
         "rating": 3.5,
         "review_count": 429,
         "transactions": [],
         "url": "https://www.yelp.com/biz/earls-kitchen-bar-toronto?adjust_creative=moGbP_7iayLhNxyo8EXvFA&utm_campaign=yelp_api_v3&utm_medium=api_v3_business_search&utm_source=moGbP_7iayLhNxyo8EXvFA"
        },
        {
         "alias": "ruths-chris-steak-house-toronto",
         "categories": [
          {
           "alias": "steak",
           "title": "Steakhouses"
          },
          {
           "alias": "seafood",
           "title": "Seafood"
          },
          {
           "alias": "lounges",
           "title": "Lounges"
          }
         ],
         "coordinates": {
          "latitude": 43.6500521788059,
          "longitude": -79.3857424105435
         },
         "display_phone": "+1 416-955-1455",
         "distance": 408.37645933051004,
         "id": "Q2ZNaN3p8s_-XXjBWyY2qA",
         "image_url": "https://s3-media2.fl.yelpcdn.com/bphoto/qr3KdB89mZXGzusMjKjqLA/o.jpg",
         "is_closed": false,
         "location": {
          "address1": "145 Richmond Street W",
          "address2": "",
          "address3": "",
          "city": "Toronto",
          "country": "CA",
          "display_address": [
           "145 Richmond Street W",
           "Toronto, ON M5H 2L2",
           "Canada"
          ],
          "state": "ON",
          "zip_code": "M5H 2L2"
         },
         "name": "Ruth's Chris Steak House",
         "phone": "+14169551455",
         "price": "$$$$",
         "rating": 3.5,
         "review_count": 221,
         "transactions": [],
         "url": "https://www.yelp.com/biz/ruths-chris-steak-house-toronto?adjust_creative=moGbP_7iayLhNxyo8EXvFA&utm_campaign=yelp_api_v3&utm_medium=api_v3_business_search&utm_source=moGbP_7iayLhNxyo8EXvFA"
        },
        {
         "alias": "leña-restaurante-toronto-3",
         "categories": [
          {
           "alias": "latin",
           "title": "Latin American"
          },
          {
           "alias": "spanish",
           "title": "Spanish"
          },
          {
           "alias": "cocktailbars",
           "title": "Cocktail Bars"
          }
         ],
         "coordinates": {
          "latitude": 43.6517399,
          "longitude": -79.38026
         },
         "display_phone": "+1 416-507-3378",
         "distance": 290.4562780790287,
         "id": "e_ILiIs2pVpskfeL-zFtTw",
         "image_url": "https://s3-media1.fl.yelpcdn.com/bphoto/5uU-JLi2BhI_0smrbPRC1Q/o.jpg",
         "is_closed": false,
         "location": {
          "address1": "176 Yonge Street",
          "address2": "",
          "address3": null,
          "city": "Toronto",
          "country": "CA",
          "display_address": [
           "176 Yonge Street",
           "Toronto, ON M5C 2L7",
           "Canada"
          ],
          "state": "ON",
          "zip_code": "M5C 2L7"
         },
         "name": "Leña Restaurante",
         "phone": "+14165073378",
         "price": "$$$",
         "rating": 3.5,
         "review_count": 249,
         "transactions": [],
         "url": "https://www.yelp.com/biz/le%C3%B1a-restaurante-toronto-3?adjust_creative=moGbP_7iayLhNxyo8EXvFA&utm_campaign=yelp_api_v3&utm_medium=api_v3_business_search&utm_source=moGbP_7iayLhNxyo8EXvFA"
        },
        {
         "alias": "bar-hop-toronto",
         "categories": [
          {
           "alias": "bars",
           "title": "Bars"
          }
         ],
         "coordinates": {
          "latitude": 43.6455994,
          "longitude": -79.3935471
         },
         "display_phone": "+1 647-352-7476",
         "distance": 1186.1856384015214,
         "id": "fqBnZxSkG287OOyU9LvTig",
         "image_url": "https://s3-media1.fl.yelpcdn.com/bphoto/Lv-93VWEc_evfYt3rDzC4g/o.jpg",
         "is_closed": false,
         "location": {
          "address1": "391 King Street W",
          "address2": "",
          "address3": "",
          "city": "Toronto",
          "country": "CA",
          "display_address": [
           "391 King Street W",
           "Toronto, ON M5V 1K1",
           "Canada"
          ],
          "state": "ON",
          "zip_code": "M5V 1K1"
         },
         "name": "Bar Hop",
         "phone": "+16473527476",
         "price": "$$",
         "rating": 4,
         "review_count": 308,
         "transactions": [],
         "url": "https://www.yelp.com/biz/bar-hop-toronto?adjust_creative=moGbP_7iayLhNxyo8EXvFA&utm_campaign=yelp_api_v3&utm_medium=api_v3_business_search&utm_source=moGbP_7iayLhNxyo8EXvFA"
        },
        {
         "alias": "drake-one-fifty-toronto",
         "categories": [
          {
           "alias": "cocktailbars",
           "title": "Cocktail Bars"
          },
          {
           "alias": "breakfast_brunch",
           "title": "Breakfast & Brunch"
          },
          {
           "alias": "tradamerican",
           "title": "American (Traditional)"
          }
         ],
         "coordinates": {
          "latitude": 43.6493542,
          "longitude": -79.3846843
         },
         "display_phone": "+1 416-363-6150",
         "distance": 446.97500985028137,
         "id": "W2NzlS8OJzGfDfr9oRz11Q",
         "image_url": "https://s3-media3.fl.yelpcdn.com/bphoto/0wtbH7Z8F5ui7qfNHAZ2-Q/o.jpg",
         "is_closed": false,
         "location": {
          "address1": "150 York Street",
          "address2": "",
          "address3": "",
          "city": "Toronto",
          "country": "CA",
          "display_address": [
           "150 York Street",
           "Toronto, ON M5H 3S5",
           "Canada"
          ],
          "state": "ON",
          "zip_code": "M5H 3S5"
         },
         "name": "Drake One Fifty",
         "phone": "+14163636150",
         "price": "$$$",
         "rating": 3.5,
         "review_count": 239,
         "transactions": [],
         "url": "https://www.yelp.com/biz/drake-one-fifty-toronto?adjust_creative=moGbP_7iayLhNxyo8EXvFA&utm_campaign=yelp_api_v3&utm_medium=api_v3_business_search&utm_source=moGbP_7iayLhNxyo8EXvFA"
        },
        {
         "alias": "donatello-restaurant-toronto",
         "categories": [
          {
           "alias": "italian",
           "title": "Italian"
          },
          {
           "alias": "seafood",
           "title": "Seafood"
          },
          {
           "alias": "wine_bars",
           "title": "Wine Bars"
          }
         ],
         "coordinates": {
          "latitude": 43.657425,
          "longitude": -79.383474
         },
         "display_phone": "+1 416-595-5001",
         "distance": 467.59256412715877,
         "id": "Q4RSmF0s-AkaegrLFCLEbg",
         "image_url": "https://s3-media2.fl.yelpcdn.com/bphoto/mgG7W3MH6l1OHE4z59aZwg/o.jpg",
         "is_closed": false,
         "location": {
          "address1": "37 Elm Street",
          "address2": "",
          "address3": "",
          "city": "Toronto",
          "country": "CA",
          "display_address": [
           "37 Elm Street",
           "Toronto, ON M5G 1H1",
           "Canada"
          ],
          "state": "ON",
          "zip_code": "M5G 1H1"
         },
         "name": "Donatello Restaurant",
         "phone": "+14165955001",
         "price": "$$$",
         "rating": 4,
         "review_count": 150,
         "transactions": [],
         "url": "https://www.yelp.com/biz/donatello-restaurant-toronto?adjust_creative=moGbP_7iayLhNxyo8EXvFA&utm_campaign=yelp_api_v3&utm_medium=api_v3_business_search&utm_source=moGbP_7iayLhNxyo8EXvFA"
        },
        {
         "alias": "loose-moose-toronto",
         "categories": [
          {
           "alias": "sportsbars",
           "title": "Sports Bars"
          },
          {
           "alias": "gastropubs",
           "title": "Gastropubs"
          },
          {
           "alias": "newcanadian",
           "title": "Canadian (New)"
          }
         ],
         "coordinates": {
          "latitude": 43.64522,
          "longitude": -79.38385
         },
         "display_phone": "+1 416-977-8840",
         "distance": 872.6103739407665,
         "id": "4MQaqhBUJCpghGukSWNq7w",
         "image_url": "https://s3-media3.fl.yelpcdn.com/bphoto/w7g-goS2ynkuI8lji3lpIw/o.jpg",
         "is_closed": false,
         "location": {
          "address1": "146 Front Street West",
          "address2": "",
          "address3": "",
          "city": "Toronto",
          "country": "CA",
          "display_address": [
           "146 Front Street West",
           "Toronto, ON M5J 1G2",
           "Canada"
          ],
          "state": "ON",
          "zip_code": "M5J 1G2"
         },
         "name": "Loose Moose",
         "phone": "+14169778840",
         "price": "$$",
         "rating": 3.5,
         "review_count": 410,
         "transactions": [],
         "url": "https://www.yelp.com/biz/loose-moose-toronto?adjust_creative=moGbP_7iayLhNxyo8EXvFA&utm_campaign=yelp_api_v3&utm_medium=api_v3_business_search&utm_source=moGbP_7iayLhNxyo8EXvFA"
        },
        {
         "alias": "town-crier-pub-toronto",
         "categories": [
          {
           "alias": "pubs",
           "title": "Pubs"
          },
          {
           "alias": "german",
           "title": "German"
          }
         ],
         "coordinates": {
          "latitude": 43.648038,
          "longitude": -79.39009253558704
         },
         "display_phone": "+1 416-204-9588",
         "distance": 800.8963856391965,
         "id": "Z5kjUEm1A18l864gb3XA8A",
         "image_url": "https://s3-media1.fl.yelpcdn.com/bphoto/fhck54-vYv7NhkJFFOrAGw/o.jpg",
         "is_closed": false,
         "location": {
          "address1": "115 John Street",
          "address2": "",
          "address3": null,
          "city": "Toronto",
          "country": "CA",
          "display_address": [
           "115 John Street",
           "Toronto, ON M5V 2E2",
           "Canada"
          ],
          "state": "ON",
          "zip_code": "M5V 2E2"
         },
         "name": "Town Crier Pub",
         "phone": "+14162049588",
         "price": "$$",
         "rating": 4,
         "review_count": 209,
         "transactions": [],
         "url": "https://www.yelp.com/biz/town-crier-pub-toronto?adjust_creative=moGbP_7iayLhNxyo8EXvFA&utm_campaign=yelp_api_v3&utm_medium=api_v3_business_search&utm_source=moGbP_7iayLhNxyo8EXvFA"
        },
        {
         "alias": "the-3-brewers-toronto-3",
         "categories": [
          {
           "alias": "pubs",
           "title": "Pubs"
          },
          {
           "alias": "breweries",
           "title": "Breweries"
          }
         ],
         "coordinates": {
          "latitude": 43.65551,
          "longitude": -79.38027
         },
         "display_phone": "+1 647-347-6286",
         "distance": 345.03128535934155,
         "id": "F-bdXFkJwwENiNpMTG2ntQ",
         "image_url": "https://s3-media1.fl.yelpcdn.com/bphoto/Lv11uAfzVrGsqdV2q3TAwQ/o.jpg",
         "is_closed": false,
         "location": {
          "address1": "275 Yonge St",
          "address2": "",
          "address3": "",
          "city": "Toronto",
          "country": "CA",
          "display_address": [
           "275 Yonge St",
           "Toronto, ON M5B 1N8",
           "Canada"
          ],
          "state": "ON",
          "zip_code": "M5B 1N8"
         },
         "name": "The 3 Brewers",
         "phone": "+16473476286",
         "price": "$$",
         "rating": 3,
         "review_count": 275,
         "transactions": [],
         "url": "https://www.yelp.com/biz/the-3-brewers-toronto-3?adjust_creative=moGbP_7iayLhNxyo8EXvFA&utm_campaign=yelp_api_v3&utm_medium=api_v3_business_search&utm_source=moGbP_7iayLhNxyo8EXvFA"
        },
        {
         "alias": "little-anthonys-toronto",
         "categories": [
          {
           "alias": "bars",
           "title": "Bars"
          },
          {
           "alias": "italian",
           "title": "Italian"
          }
         ],
         "coordinates": {
          "latitude": 43.650406,
          "longitude": -79.384358
         },
         "display_phone": "+1 416-368-2223",
         "distance": 327.3334379137407,
         "id": "UH6mET5JYZR6yPDVpTG9Og",
         "image_url": "https://s3-media3.fl.yelpcdn.com/bphoto/h3V8jyhHeIcQFXPljVHR5A/o.jpg",
         "is_closed": false,
         "location": {
          "address1": "121 Richmond Street W",
          "address2": "",
          "address3": "",
          "city": "Toronto",
          "country": "CA",
          "display_address": [
           "121 Richmond Street W",
           "Toronto, ON M5H 2K1",
           "Canada"
          ],
          "state": "ON",
          "zip_code": "M5H 2K1"
         },
         "name": "Little Anthony's",
         "phone": "+14163682223",
         "price": "$$",
         "rating": 3.5,
         "review_count": 132,
         "transactions": [],
         "url": "https://www.yelp.com/biz/little-anthonys-toronto?adjust_creative=moGbP_7iayLhNxyo8EXvFA&utm_campaign=yelp_api_v3&utm_medium=api_v3_business_search&utm_source=moGbP_7iayLhNxyo8EXvFA"
        },
        {
         "alias": "east-thirty-six-toronto",
         "categories": [
          {
           "alias": "cocktailbars",
           "title": "Cocktail Bars"
          },
          {
           "alias": "newcanadian",
           "title": "Canadian (New)"
          },
          {
           "alias": "breakfast_brunch",
           "title": "Breakfast & Brunch"
          }
         ],
         "coordinates": {
          "latitude": 43.6484529,
          "longitude": -79.3750706
         },
         "display_phone": "+1 647-350-3636",
         "distance": 841.3637097346253,
         "id": "m2hz26KM3kLN_AS5CcEjPg",
         "image_url": "https://s3-media1.fl.yelpcdn.com/bphoto/PmpZe2yXAO7fFdqTmmD4Tw/o.jpg",
         "is_closed": false,
         "location": {
          "address1": "36 Wellington Street E",
          "address2": null,
          "address3": "",
          "city": "Toronto",
          "country": "CA",
          "display_address": [
           "36 Wellington Street E",
           "Toronto, ON M5E 1C7",
           "Canada"
          ],
          "state": "ON",
          "zip_code": "M5E 1C7"
         },
         "name": "East Thirty-Six",
         "phone": "+16473503636",
         "price": "$$",
         "rating": 4,
         "review_count": 171,
         "transactions": [],
         "url": "https://www.yelp.com/biz/east-thirty-six-toronto?adjust_creative=moGbP_7iayLhNxyo8EXvFA&utm_campaign=yelp_api_v3&utm_medium=api_v3_business_search&utm_source=moGbP_7iayLhNxyo8EXvFA"
        },
        {
         "alias": "hothouse-toronto",
         "categories": [
          {
           "alias": "italian",
           "title": "Italian"
          },
          {
           "alias": "bars",
           "title": "Bars"
          },
          {
           "alias": "venues",
           "title": "Venues & Event Spaces"
          }
         ],
         "coordinates": {
          "latitude": 43.64884749595,
          "longitude": -79.373683180012
         },
         "display_phone": "+1 416-366-7800",
         "distance": 906.3545971336458,
         "id": "Orgm9nmcClxnAUva4nOKyA",
         "image_url": "https://s3-media1.fl.yelpcdn.com/bphoto/zjLBY4oNFr0QZKZWtRtBpQ/o.jpg",
         "is_closed": false,
         "location": {
          "address1": "35 Church Street",
          "address2": "",
          "address3": "",
          "city": "Toronto",
          "country": "CA",
          "display_address": [
           "35 Church Street",
           "Toronto, ON M5E 1T3",
           "Canada"
          ],
          "state": "ON",
          "zip_code": "M5E 1T3"
         },
         "name": "Hothouse",
         "phone": "+14163667800",
         "price": "$$",
         "rating": 3.5,
         "review_count": 345,
         "transactions": [],
         "url": "https://www.yelp.com/biz/hothouse-toronto?adjust_creative=moGbP_7iayLhNxyo8EXvFA&utm_campaign=yelp_api_v3&utm_medium=api_v3_business_search&utm_source=moGbP_7iayLhNxyo8EXvFA"
        }
       ],
       "region": {
        "center": {
         "latitude": 43.653225,
         "longitude": -79.383186
        }
       },
       "total": 155
      },
      "text/plain": [
       "<IPython.core.display.JSON object>"
      ]
     },
     "execution_count": 47,
     "metadata": {
      "application/json": {
       "expanded": false,
       "root": "root"
      }
     },
     "output_type": "execute_result"
    }
   ],
   "source": [
    "JSON(test[0]) # examine output"
   ]
  },
  {
   "cell_type": "code",
   "execution_count": 49,
   "id": "involved-least",
   "metadata": {},
   "outputs": [
    {
     "data": {
      "application/json": {
       "confident": false,
       "venues": [
        {
         "categories": [
          {
           "icon": {
            "prefix": "https://ss3.4sqi.net/img/categories_v2/food/italian_",
            "suffix": ".png"
           },
           "id": "4bf58dd8d48988d110941735",
           "name": "Italian Restaurant",
           "pluralName": "Italian Restaurants",
           "primary": true,
           "shortName": "Italian"
          }
         ],
         "hasPerk": false,
         "id": "4d306dd82748b60c62b6dba0",
         "location": {
          "address": "220 Yonge St.",
          "cc": "CA",
          "city": "Toronto",
          "country": "Canada",
          "crossStreet": "in Toronto Eaton Centre",
          "distance": 224,
          "formattedAddress": [
           "220 Yonge St. (in Toronto Eaton Centre)",
           "Toronto ON M5B 3H7",
           "Canada"
          ],
          "labeledLatLngs": [
           {
            "label": "display",
            "lat": 43.65445314470199,
            "lng": -79.3809741075674
           }
          ],
          "lat": 43.65445314470199,
          "lng": -79.3809741075674,
          "postalCode": "M5B 3H7",
          "state": "ON"
         },
         "name": "Trattoria Mercatto",
         "referralId": "v-1615591883"
        },
        {
         "categories": [
          {
           "icon": {
            "prefix": "https://ss3.4sqi.net/img/categories_v2/food/default_",
            "suffix": ".png"
           },
           "id": "4bf58dd8d48988d1c4941735",
           "name": "Restaurant",
           "pluralName": "Restaurants",
           "primary": true,
           "shortName": "Restaurant"
          }
         ],
         "hasPerk": false,
         "id": "4ad4c05df964a52059f620e3",
         "location": {
          "address": "66 Wellington St West",
          "cc": "CA",
          "city": "Toronto",
          "country": "Canada",
          "crossStreet": "at Bay Street",
          "distance": 659,
          "formattedAddress": [
           "66 Wellington St West (at Bay Street)",
           "Toronto ON M5K 1H6",
           "Canada"
          ],
          "labeledLatLngs": [
           {
            "label": "display",
            "lat": 43.647452066183476,
            "lng": -79.38132001815676
           }
          ],
          "lat": 43.647452066183476,
          "lng": -79.38132001815676,
          "postalCode": "M5K 1H6",
          "state": "ON"
         },
         "name": "Canoe",
         "referralId": "v-1615591883",
         "venuePage": {
          "id": "40552945"
         }
        },
        {
         "categories": [
          {
           "icon": {
            "prefix": "https://ss3.4sqi.net/img/categories_v2/food/italian_",
            "suffix": ".png"
           },
           "id": "4bf58dd8d48988d110941735",
           "name": "Italian Restaurant",
           "pluralName": "Italian Restaurants",
           "primary": true,
           "shortName": "Italian"
          }
         ],
         "hasPerk": false,
         "id": "4bbe0c134e069c745a829fe3",
         "location": {
          "address": "20 Victoria Street",
          "cc": "CA",
          "city": "Toronto",
          "country": "Canada",
          "crossStreet": "King St. E.",
          "distance": 598,
          "formattedAddress": [
           "20 Victoria Street (King St. E.)",
           "Toronto ON M5C 2N8",
           "Canada"
          ],
          "labeledLatLngs": [
           {
            "label": "display",
            "lat": 43.65006166044848,
            "lng": -79.3771814107564
           }
          ],
          "lat": 43.65006166044848,
          "lng": -79.3771814107564,
          "postalCode": "M5C 2N8",
          "state": "ON"
         },
         "name": "Metropolitan Resto Bar",
         "referralId": "v-1615591883",
         "venuePage": {
          "id": "49918575"
         }
        },
        {
         "categories": [
          {
           "icon": {
            "prefix": "https://ss3.4sqi.net/img/categories_v2/nightlife/cocktails_",
            "suffix": ".png"
           },
           "id": "4bf58dd8d48988d11e941735",
           "name": "Cocktail Bar",
           "pluralName": "Cocktail Bars",
           "primary": true,
           "shortName": "Cocktail"
          }
         ],
         "hasPerk": false,
         "id": "4ad4c05df964a5203df620e3",
         "location": {
          "address": "100 Front Street West",
          "cc": "CA",
          "city": "Toronto",
          "country": "Canada",
          "distance": 870,
          "formattedAddress": [
           "100 Front Street West",
           "Toronto ON M5J 1E3",
           "Canada"
          ],
          "labeledLatLngs": [
           {
            "label": "display",
            "lat": 43.645468111144694,
            "lng": -79.38177905581458
           }
          ],
          "lat": 43.645468111144694,
          "lng": -79.38177905581458,
          "postalCode": "M5J 1E3",
          "state": "ON"
         },
         "name": "Piper's Gastropub",
         "referralId": "v-1615591883"
        },
        {
         "categories": [
          {
           "icon": {
            "prefix": "https://ss3.4sqi.net/img/categories_v2/nightlife/secretbar_",
            "suffix": ".png"
           },
           "id": "4bf58dd8d48988d1d4941735",
           "name": "Speakeasy",
           "pluralName": "Speakeasies",
           "primary": true,
           "shortName": "Speakeasy"
          }
         ],
         "hasPerk": false,
         "id": "50322b6ae4b09116a296568c",
         "location": {
          "address": "192 Adelaide St W",
          "cc": "CA",
          "city": "Toronto",
          "country": "Canada",
          "crossStreet": "at Simcoe St.",
          "distance": 568,
          "formattedAddress": [
           "192 Adelaide St W (at Simcoe St.)",
           "Toronto ON M5H 0A4",
           "Canada"
          ],
          "labeledLatLngs": [
           {
            "label": "display",
            "lat": 43.64873430659662,
            "lng": -79.38654117564838
           }
          ],
          "lat": 43.64873430659662,
          "lng": -79.38654117564838,
          "postalCode": "M5H 0A4",
          "state": "ON"
         },
         "name": "Soho House Toronto",
         "referralId": "v-1615591883",
         "venuePage": {
          "id": "554347004"
         }
        },
        {
         "categories": [
          {
           "icon": {
            "prefix": "https://ss3.4sqi.net/img/categories_v2/food/winery_",
            "suffix": ".png"
           },
           "id": "4bf58dd8d48988d123941735",
           "name": "Wine Bar",
           "pluralName": "Wine Bars",
           "primary": true,
           "shortName": "Wine Bar"
          }
         ],
         "hasPerk": false,
         "id": "4ae8c1d8f964a52005b221e3",
         "location": {
          "address": "303 Bay Street",
          "cc": "CA",
          "city": "Toronto",
          "country": "Canada",
          "crossStreet": "at Adelaide",
          "distance": 480,
          "formattedAddress": [
           "303 Bay Street (at Adelaide)",
           "Toronto ON",
           "Canada"
          ],
          "labeledLatLngs": [
           {
            "label": "display",
            "lat": 43.64934259283233,
            "lng": -79.3805735731846
           }
          ],
          "lat": 43.64934259283233,
          "lng": -79.3805735731846,
          "state": "ON"
         },
         "name": "The National Club",
         "referralId": "v-1615591883"
        },
        {
         "categories": [
          {
           "icon": {
            "prefix": "https://ss3.4sqi.net/img/categories_v2/food/burger_",
            "suffix": ".png"
           },
           "id": "4bf58dd8d48988d16c941735",
           "name": "Burger Joint",
           "pluralName": "Burger Joints",
           "primary": true,
           "shortName": "Burgers"
          }
         ],
         "hasPerk": false,
         "id": "4af1b6e5f964a5206be221e3",
         "location": {
          "address": "10 College St",
          "cc": "CA",
          "city": "Toronto",
          "country": "Canada",
          "crossStreet": "at Yonge St.",
          "distance": 902,
          "formattedAddress": [
           "10 College St (at Yonge St.)",
           "Toronto ON M5B 1L5",
           "Canada"
          ],
          "labeledLatLngs": [
           {
            "label": "display",
            "lat": 43.66133100835633,
            "lng": -79.3835570768382
           }
          ],
          "lat": 43.66133100835633,
          "lng": -79.3835570768382,
          "postalCode": "M5B 1L5",
          "state": "ON"
         },
         "name": "W Burger Bar",
         "referralId": "v-1615591883"
        },
        {
         "categories": [
          {
           "icon": {
            "prefix": "https://ss3.4sqi.net/img/categories_v2/food/japanese_",
            "suffix": ".png"
           },
           "id": "4bf58dd8d48988d111941735",
           "name": "Japanese Restaurant",
           "pluralName": "Japanese Restaurants",
           "primary": true,
           "shortName": "Japanese"
          }
         ],
         "hasPerk": false,
         "id": "4ae73054f964a5203ca921e3",
         "location": {
          "address": "181 Bay St",
          "cc": "CA",
          "city": "Toronto",
          "country": "Canada",
          "crossStreet": "at Wellington St. W",
          "distance": 735,
          "formattedAddress": [
           "181 Bay St (at Wellington St. W)",
           "Toronto ON M5J 2T3",
           "Canada"
          ],
          "labeledLatLngs": [
           {
            "label": "display",
            "lat": 43.647223,
            "lng": -79.3793738
           }
          ],
          "lat": 43.647223,
          "lng": -79.3793738,
          "postalCode": "M5J 2T3",
          "state": "ON"
         },
         "name": "Ki Modern Japanese + Bar",
         "referralId": "v-1615591883"
        },
        {
         "categories": [
          {
           "icon": {
            "prefix": "https://ss3.4sqi.net/img/categories_v2/food/japanese_",
            "suffix": ".png"
           },
           "id": "4bf58dd8d48988d111941735",
           "name": "Japanese Restaurant",
           "pluralName": "Japanese Restaurants",
           "primary": true,
           "shortName": "Japanese"
          }
         ],
         "hasPerk": false,
         "id": "4b2bd898f964a52042bc24e3",
         "location": {
          "address": "398 Church St",
          "cc": "CA",
          "city": "Toronto",
          "country": "Canada",
          "crossStreet": "McGill Street",
          "distance": 890,
          "formattedAddress": [
           "398 Church St (McGill Street)",
           "Toronto ON M5B 2A2",
           "Canada"
          ],
          "labeledLatLngs": [
           {
            "label": "display",
            "lat": 43.66059636632361,
            "lng": -79.37889120754515
           }
          ],
          "lat": 43.66059636632361,
          "lng": -79.37889120754515,
          "postalCode": "M5B 2A2",
          "state": "ON"
         },
         "name": "Kinka Izakaya Original",
         "referralId": "v-1615591883"
        },
        {
         "categories": [
          {
           "icon": {
            "prefix": "https://ss3.4sqi.net/img/categories_v2/food/gastropub_",
            "suffix": ".png"
           },
           "id": "4bf58dd8d48988d155941735",
           "name": "Gastropub",
           "pluralName": "Gastropubs",
           "primary": true,
           "shortName": "Gastropub"
          }
         ],
         "hasPerk": false,
         "id": "4b5ca7d8f964a5207c3c29e3",
         "location": {
          "address": "18 King St. E",
          "cc": "CA",
          "city": "Toronto",
          "country": "Canada",
          "crossStreet": "at Yonge St.",
          "distance": 639,
          "formattedAddress": [
           "18 King St. E (at Yonge St.)",
           "Toronto ON M5C 1C4",
           "Canada"
          ],
          "labeledLatLngs": [
           {
            "label": "display",
            "lat": 43.64941904378835,
            "lng": -79.37723726034164
           }
          ],
          "lat": 43.64941904378835,
          "lng": -79.37723726034164,
          "postalCode": "M5C 1C4",
          "state": "ON"
         },
         "name": "Beerbistro",
         "referralId": "v-1615591883",
         "venuePage": {
          "id": "113282121"
         }
        },
        {
         "categories": [
          {
           "icon": {
            "prefix": "https://ss3.4sqi.net/img/categories_v2/nightlife/pub_",
            "suffix": ".png"
           },
           "id": "56aa371ce4b08b9a8d57356c",
           "name": "Beer Bar",
           "pluralName": "Beer Bars",
           "primary": true,
           "shortName": "Beer Bar"
          }
         ],
         "hasPerk": false,
         "id": "5c08474447f876002c736b68",
         "location": {
          "address": "65 Front St W",
          "cc": "CA",
          "city": "Toronto",
          "country": "Canada",
          "distance": 930,
          "formattedAddress": [
           "65 Front St W",
           "Toronto ON M5J 1E6",
           "Canada"
          ],
          "labeledLatLngs": [
           {
            "label": "display",
            "lat": 43.64496809087762,
            "lng": -79.38137631843854
           }
          ],
          "lat": 43.64496809087762,
          "lng": -79.38137631843854,
          "postalCode": "M5J 1E6",
          "state": "ON"
         },
         "name": "WVRST",
         "referralId": "v-1615591883"
        },
        {
         "categories": [
          {
           "icon": {
            "prefix": "https://ss3.4sqi.net/img/categories_v2/nightlife/pub_",
            "suffix": ".png"
           },
           "id": "4bf58dd8d48988d116941735",
           "name": "Bar",
           "pluralName": "Bars",
           "primary": true,
           "shortName": "Bar"
          }
         ],
         "hasPerk": false,
         "id": "4ad7bf71f964a5205b0e21e3",
         "location": {
          "address": "136 McCaul St.",
          "cc": "CA",
          "city": "Toronto",
          "country": "Canada",
          "crossStreet": "at Dundas St.",
          "distance": 707,
          "formattedAddress": [
           "136 McCaul St. (at Dundas St.)",
           "Toronto ON M5T 1W2",
           "Canada"
          ],
          "labeledLatLngs": [
           {
            "label": "display",
            "lat": 43.65466135819523,
            "lng": -79.39173728227614
           }
          ],
          "lat": 43.65466135819523,
          "lng": -79.39173728227614,
          "postalCode": "M5T 1W2",
          "state": "ON"
         },
         "name": "Sin and Redemption",
         "referralId": "v-1615591883"
        },
        {
         "categories": [
          {
           "icon": {
            "prefix": "https://ss3.4sqi.net/img/categories_v2/nightlife/pub_",
            "suffix": ".png"
           },
           "id": "4bf58dd8d48988d116941735",
           "name": "Bar",
           "pluralName": "Bars",
           "primary": true,
           "shortName": "Bar"
          }
         ],
         "hasPerk": false,
         "id": "549dd93f498eec33464a5fd2",
         "location": {
          "address": "232 Queen St W",
          "cc": "CA",
          "city": "Toronto",
          "country": "Canada",
          "crossStreet": "John St",
          "distance": 670,
          "formattedAddress": [
           "232 Queen St W (John St)",
           "Toronto ON M5V 1Z6",
           "Canada"
          ],
          "labeledLatLngs": [
           {
            "label": "display",
            "lat": 43.650116540590425,
            "lng": -79.3903160886256
           }
          ],
          "lat": 43.650116540590425,
          "lng": -79.3903160886256,
          "postalCode": "M5V 1Z6",
          "state": "ON"
         },
         "name": "Queen St. Warehouse",
         "referralId": "v-1615591883"
        },
        {
         "categories": [
          {
           "icon": {
            "prefix": "https://ss3.4sqi.net/img/categories_v2/nightlife/cocktails_",
            "suffix": ".png"
           },
           "id": "4bf58dd8d48988d11e941735",
           "name": "Cocktail Bar",
           "pluralName": "Cocktail Bars",
           "primary": true,
           "shortName": "Cocktail"
          }
         ],
         "hasPerk": false,
         "id": "53361f24498e6a4d4d8f66f1",
         "location": {
          "address": "19 Church St",
          "cc": "CA",
          "city": "Toronto",
          "country": "Canada",
          "crossStreet": "Front St. E.",
          "distance": 930,
          "formattedAddress": [
           "19 Church St (Front St. E.)",
           "Toronto ON M5E 1M2",
           "Canada"
          ],
          "labeledLatLngs": [
           {
            "label": "display",
            "lat": 43.64833304339161,
            "lng": -79.3738261420116
           }
          ],
          "lat": 43.64833304339161,
          "lng": -79.3738261420116,
          "neighborhood": "St. Lawrence",
          "postalCode": "M5E 1M2",
          "state": "ON"
         },
         "name": "D.W. Alexander",
         "referralId": "v-1615591883"
        },
        {
         "categories": [
          {
           "icon": {
            "prefix": "https://ss3.4sqi.net/img/categories_v2/nightlife/pub_",
            "suffix": ".png"
           },
           "id": "56aa371ce4b08b9a8d57356c",
           "name": "Beer Bar",
           "pluralName": "Beer Bars",
           "primary": true,
           "shortName": "Beer Bar"
          }
         ],
         "hasPerk": false,
         "id": "5612ea8b498e102e764fc304",
         "location": {
          "address": "137 Peter St",
          "cc": "CA",
          "city": "Toronto",
          "country": "Canada",
          "crossStreet": "Peter & Richmond",
          "distance": 947,
          "formattedAddress": [
           "137 Peter St (Peter & Richmond)",
           "Toronto ON M5V 2H3",
           "Canada"
          ],
          "labeledLatLngs": [
           {
            "label": "display",
            "lat": 43.649068842850404,
            "lng": -79.39345567330301
           }
          ],
          "lat": 43.649068842850404,
          "lng": -79.39345567330301,
          "postalCode": "M5V 2H3",
          "state": "ON"
         },
         "name": "Bar Hop Brewco",
         "referralId": "v-1615591883"
        },
        {
         "categories": [
          {
           "icon": {
            "prefix": "https://ss3.4sqi.net/img/categories_v2/food/italian_",
            "suffix": ".png"
           },
           "id": "4bf58dd8d48988d110941735",
           "name": "Italian Restaurant",
           "pluralName": "Italian Restaurants",
           "primary": true,
           "shortName": "Italian"
          }
         ],
         "hasPerk": false,
         "id": "52f6816f11d24a43115dc834",
         "location": {
          "address": "382 Yonge Street, Unit #7",
          "cc": "CA",
          "city": "Toronto",
          "country": "Canada",
          "crossStreet": "Gerrard",
          "distance": 634,
          "formattedAddress": [
           "382 Yonge Street, Unit #7 (Gerrard)",
           "Toronto ON M5B 1S8",
           "Canada"
          ],
          "labeledLatLngs": [
           {
            "label": "display",
            "lat": 43.658920292028725,
            "lng": -79.38289105381784
           }
          ],
          "lat": 43.658920292028725,
          "lng": -79.38289105381784,
          "postalCode": "M5B 1S8",
          "state": "ON"
         },
         "name": "Scaddabush Italian Kitchen & Bar",
         "referralId": "v-1615591883"
        },
        {
         "categories": [
          {
           "icon": {
            "prefix": "https://ss3.4sqi.net/img/categories_v2/food/gastropub_",
            "suffix": ".png"
           },
           "id": "4bf58dd8d48988d155941735",
           "name": "Gastropub",
           "pluralName": "Gastropubs",
           "primary": true,
           "shortName": "Gastropub"
          }
         ],
         "hasPerk": false,
         "id": "4ab2b0b9f964a520e56b20e3",
         "location": {
          "address": "35 Elm St.",
          "cc": "CA",
          "city": "Toronto",
          "country": "Canada",
          "crossStreet": "at Bay St.",
          "distance": 473,
          "formattedAddress": [
           "35 Elm St. (at Bay St.)",
           "Toronto ON M5G 1H1",
           "Canada"
          ],
          "labeledLatLngs": [
           {
            "label": "display",
            "lat": 43.65747228208784,
            "lng": -79.38352412327917
           }
          ],
          "lat": 43.65747228208784,
          "lng": -79.38352412327917,
          "postalCode": "M5G 1H1",
          "state": "ON"
         },
         "name": "The Queen and Beaver Public House",
         "referralId": "v-1615591883"
        },
        {
         "categories": [
          {
           "icon": {
            "prefix": "https://ss3.4sqi.net/img/categories_v2/nightlife/pub_",
            "suffix": ".png"
           },
           "id": "56aa371ce4b08b9a8d57356c",
           "name": "Beer Bar",
           "pluralName": "Beer Bars",
           "primary": true,
           "shortName": "Beer Bar"
          }
         ],
         "hasPerk": false,
         "id": "4ad4c05cf964a520e3f520e3",
         "location": {
          "address": "67 Front St E",
          "cc": "CA",
          "city": "Toronto",
          "country": "Canada",
          "crossStreet": "at Church St",
          "distance": 949,
          "formattedAddress": [
           "67 Front St E (at Church St)",
           "Toronto ON M5E 1B5",
           "Canada"
          ],
          "labeledLatLngs": [
           {
            "label": "display",
            "lat": 43.64842583928427,
            "lng": -79.37343925237656
           }
          ],
          "lat": 43.64842583928427,
          "lng": -79.37343925237656,
          "postalCode": "M5E 1B5",
          "state": "ON"
         },
         "name": "C'est What",
         "referralId": "v-1615591883",
         "venuePage": {
          "id": "50003822"
         }
        },
        {
         "categories": [
          {
           "icon": {
            "prefix": "https://ss3.4sqi.net/img/categories_v2/food/gastropub_",
            "suffix": ".png"
           },
           "id": "4bf58dd8d48988d155941735",
           "name": "Gastropub",
           "pluralName": "Gastropubs",
           "primary": true,
           "shortName": "Gastropub"
          }
         ],
         "hasPerk": false,
         "id": "505c7c30e4b071a17ec2678f",
         "location": {
          "address": "Main Floor. 60 Richmond St. East",
          "cc": "CA",
          "city": "Toronto",
          "country": "Canada",
          "crossStreet": "At Berti",
          "distance": 563,
          "formattedAddress": [
           "Main Floor. 60 Richmond St. East (At Berti)",
           "Toronto ON M5C 1N8",
           "Canada"
          ],
          "labeledLatLngs": [
           {
            "label": "display",
            "lat": 43.652270129568336,
            "lng": -79.37631758327606
           }
          ],
          "lat": 43.652270129568336,
          "lng": -79.37631758327606,
          "postalCode": "M5C 1N8",
          "state": "ON"
         },
         "name": "Hawthorne Food and Drink",
         "referralId": "v-1615591883",
         "venuePage": {
          "id": "37746338"
         }
        },
        {
         "categories": [
          {
           "icon": {
            "prefix": "https://ss3.4sqi.net/img/categories_v2/food/bbqalt_",
            "suffix": ".png"
           },
           "id": "4bf58dd8d48988d1df931735",
           "name": "BBQ Joint",
           "pluralName": "BBQ Joints",
           "primary": true,
           "shortName": "BBQ"
          }
         ],
         "hasPerk": false,
         "id": "506880f3e8893b5a347c4043",
         "location": {
          "address": "138 Adelaide St E",
          "cc": "CA",
          "city": "Toronto",
          "country": "Canada",
          "crossStreet": "at Jarvis St",
          "distance": 860,
          "formattedAddress": [
           "138 Adelaide St E (at Jarvis St)",
           "Toronto ON M5C 1K9",
           "Canada"
          ],
          "labeledLatLngs": [
           {
            "label": "display",
            "lat": 43.65165840099557,
            "lng": -79.3727201723461
           }
          ],
          "lat": 43.65165840099557,
          "lng": -79.3727201723461,
          "postalCode": "M5C 1K9",
          "state": "ON"
         },
         "name": "Triple A Bar (AAA)",
         "referralId": "v-1615591883"
        },
        {
         "categories": [
          {
           "icon": {
            "prefix": "https://ss3.4sqi.net/img/categories_v2/food/default_",
            "suffix": ".png"
           },
           "id": "4bf58dd8d48988d1c4941735",
           "name": "Restaurant",
           "pluralName": "Restaurants",
           "primary": true,
           "shortName": "Restaurant"
          }
         ],
         "hasPerk": false,
         "id": "59a0c566fc9e941199511d9f",
         "location": {
          "address": "123 Front St W",
          "cc": "CA",
          "city": "Toronto",
          "country": "Canada",
          "distance": 906,
          "formattedAddress": [
           "123 Front St W",
           "Toronto ON M5J 2M2",
           "Canada"
          ],
          "labeledLatLngs": [
           {
            "label": "display",
            "lat": 43.645081624120245,
            "lng": -79.38304962483915
           }
          ],
          "lat": 43.645081624120245,
          "lng": -79.38304962483915,
          "neighborhood": "Downtown Toronto, Toronto, ON",
          "postalCode": "M5J 2M2",
          "state": "ON"
         },
         "name": "Kellys Landing",
         "referralId": "v-1615591883"
        },
        {
         "categories": [
          {
           "icon": {
            "prefix": "https://ss3.4sqi.net/img/categories_v2/food/italian_",
            "suffix": ".png"
           },
           "id": "4bf58dd8d48988d110941735",
           "name": "Italian Restaurant",
           "pluralName": "Italian Restaurants",
           "primary": true,
           "shortName": "Italian"
          }
         ],
         "hasPerk": false,
         "id": "581cad6a7c74e15859a6f890",
         "location": {
          "address": "200 Front Street W., Unit #G001",
          "cc": "CA",
          "city": "Toronto",
          "country": "Canada",
          "crossStreet": "at Simcoe St",
          "distance": 960,
          "formattedAddress": [
           "200 Front Street W., Unit #G001 (at Simcoe St)",
           "Toronto ON M5V 3J1",
           "Canada"
          ],
          "labeledLatLngs": [
           {
            "label": "display",
            "lat": 43.6447367776608,
            "lng": -79.38535477982775
           }
          ],
          "lat": 43.6447367776608,
          "lng": -79.38535477982775,
          "postalCode": "M5V 3J1",
          "state": "ON"
         },
         "name": "Scaddabush Italian Kitchen & Bar",
         "referralId": "v-1615591883"
        },
        {
         "categories": [
          {
           "icon": {
            "prefix": "https://ss3.4sqi.net/img/categories_v2/nightlife/pub_",
            "suffix": ".png"
           },
           "id": "4bf58dd8d48988d11b941735",
           "name": "Pub",
           "pluralName": "Pubs",
           "primary": true,
           "shortName": "Pub"
          }
         ],
         "hasPerk": false,
         "id": "5a8f505eb6eedb5c284a78ad",
         "location": {
          "address": "187 Bay St",
          "cc": "CA",
          "city": "Toronto",
          "country": "Canada",
          "crossStreet": "Wellington St W",
          "distance": 715,
          "formattedAddress": [
           "187 Bay St (Wellington St W)",
           "Toronto ON M5L 1G5",
           "Canada"
          ],
          "labeledLatLngs": [
           {
            "label": "display",
            "lat": 43.64737470920577,
            "lng": -79.37951515363918
           }
          ],
          "lat": 43.64737470920577,
          "lng": -79.37951515363918,
          "postalCode": "M5L 1G5",
          "state": "ON"
         },
         "name": "Walrus Pub & Beer Hall",
         "referralId": "v-1615591883"
        },
        {
         "categories": [
          {
           "icon": {
            "prefix": "https://ss3.4sqi.net/img/categories_v2/nightlife/pub_",
            "suffix": ".png"
           },
           "id": "56aa371ce4b08b9a8d57356c",
           "name": "Beer Bar",
           "pluralName": "Beer Bars",
           "primary": true,
           "shortName": "Beer Bar"
          }
         ],
         "hasPerk": false,
         "id": "5a1df4408ad62e3314313889",
         "location": {
          "address": "1 Adelaide St E",
          "cc": "CA",
          "city": "Toronto",
          "country": "Canada",
          "distance": 558,
          "formattedAddress": [
           "1 Adelaide St E",
           "Toronto ON M5C 2V9",
           "Canada"
          ],
          "labeledLatLngs": [
           {
            "label": "display",
            "lat": 43.64989,
            "lng": -79.378005
           }
          ],
          "lat": 43.64989,
          "lng": -79.378005,
          "postalCode": "M5C 2V9",
          "state": "ON"
         },
         "name": "Craft Beer Market",
         "referralId": "v-1615591883"
        },
        {
         "categories": [
          {
           "icon": {
            "prefix": "https://ss3.4sqi.net/img/categories_v2/nightlife/cocktails_",
            "suffix": ".png"
           },
           "id": "4bf58dd8d48988d11e941735",
           "name": "Cocktail Bar",
           "pluralName": "Cocktail Bars",
           "primary": true,
           "shortName": "Cocktail"
          }
         ],
         "hasPerk": false,
         "id": "4ad4c05df964a5205df620e3",
         "location": {
          "address": "44 Wellington St. E",
          "cc": "CA",
          "city": "Toronto",
          "country": "Canada",
          "distance": 859,
          "formattedAddress": [
           "44 Wellington St. E",
           "Toronto ON M5E 1C9",
           "Canada"
          ],
          "labeledLatLngs": [
           {
            "label": "display",
            "lat": 43.64851553067474,
            "lng": -79.37473231149953
           }
          ],
          "lat": 43.64851553067474,
          "lng": -79.37473231149953,
          "postalCode": "M5E 1C9",
          "state": "ON"
         },
         "name": "Pravda Vodka Bar",
         "referralId": "v-1615591883"
        },
        {
         "categories": [
          {
           "icon": {
            "prefix": "https://ss3.4sqi.net/img/categories_v2/nightlife/gaybar_",
            "suffix": ".png"
           },
           "id": "4bf58dd8d48988d1d8941735",
           "name": "Gay Bar",
           "pluralName": "Gay Bars",
           "primary": true,
           "shortName": "Gay Bar"
          }
         ],
         "hasPerk": false,
         "id": "4ada863ef964a5203c2321e3",
         "location": {
          "address": "120 Church St.",
          "cc": "CA",
          "city": "Toronto",
          "country": "Canada",
          "crossStreet": "at Richmond St.",
          "distance": 624,
          "formattedAddress": [
           "120 Church St. (at Richmond St.)",
           "Toronto ON M5C 3G8",
           "Canada"
          ],
          "labeledLatLngs": [
           {
            "label": "display",
            "lat": 43.652095435423796,
            "lng": -79.37558577363379
           }
          ],
          "lat": 43.652095435423796,
          "lng": -79.37558577363379,
          "postalCode": "M5C 3G8",
          "state": "ON"
         },
         "name": "Goodhandy's",
         "referralId": "v-1615591883"
        },
        {
         "categories": [
          {
           "icon": {
            "prefix": "https://ss3.4sqi.net/img/categories_v2/nightlife/secretbar_",
            "suffix": ".png"
           },
           "id": "4bf58dd8d48988d1d4941735",
           "name": "Speakeasy",
           "pluralName": "Speakeasies",
           "primary": true,
           "shortName": "Speakeasy"
          }
         ],
         "hasPerk": false,
         "id": "4ee7cf4377c896e803d7e424",
         "location": {
          "address": "100 Lombard St.",
          "cc": "CA",
          "city": "Toronto",
          "country": "Canada",
          "crossStreet": "at Jarvis St",
          "distance": 789,
          "formattedAddress": [
           "100 Lombard St. (at Jarvis St)",
           "Toronto ON",
           "Canada"
          ],
          "labeledLatLngs": [
           {
            "label": "display",
            "lat": 43.6522291429876,
            "lng": -79.37348666333094
           }
          ],
          "lat": 43.6522291429876,
          "lng": -79.37348666333094,
          "state": "ON"
         },
         "name": "Vintage Conservatory",
         "referralId": "v-1615591883"
        },
        {
         "categories": [
          {
           "icon": {
            "prefix": "https://ss3.4sqi.net/img/categories_v2/nightlife/pub_",
            "suffix": ".png"
           },
           "id": "4bf58dd8d48988d11b941735",
           "name": "Pub",
           "pluralName": "Pubs",
           "primary": true,
           "shortName": "Pub"
          }
         ],
         "hasPerk": false,
         "id": "4d892556401a224b9eb38618",
         "location": {
          "address": "115 John St.",
          "cc": "CA",
          "city": "Toronto",
          "country": "Canada",
          "crossStreet": "at Adelaide St. W",
          "distance": 801,
          "formattedAddress": [
           "115 John St. (at Adelaide St. W)",
           "Toronto ON M5V 2E2",
           "Canada"
          ],
          "labeledLatLngs": [
           {
            "label": "display",
            "lat": 43.64811,
            "lng": -79.390198
           }
          ],
          "lat": 43.64811,
          "lng": -79.390198,
          "postalCode": "M5V 2E2",
          "state": "ON"
         },
         "name": "Town Crier Pub",
         "referralId": "v-1615591883"
        },
        {
         "categories": [
          {
           "icon": {
            "prefix": "https://ss3.4sqi.net/img/categories_v2/travel/hotel_bar_",
            "suffix": ".png"
           },
           "id": "4bf58dd8d48988d1d5941735",
           "name": "Hotel Bar",
           "pluralName": "Hotel Bars",
           "primary": true,
           "shortName": "Hotel Bar"
          }
         ],
         "hasPerk": false,
         "id": "4ad4c05df964a5203cf620e3",
         "location": {
          "address": "100 Front St. W",
          "cc": "CA",
          "city": "Toronto",
          "country": "Canada",
          "distance": 869,
          "formattedAddress": [
           "100 Front St. W",
           "Toronto ON M5J 1E3",
           "Canada"
          ],
          "labeledLatLngs": [
           {
            "label": "display",
            "lat": 43.64550019136729,
            "lng": -79.38160166851243
           }
          ],
          "lat": 43.64550019136729,
          "lng": -79.38160166851243,
          "postalCode": "M5J 1E3",
          "state": "ON"
         },
         "name": "Library Bar",
         "referralId": "v-1615591883"
        },
        {
         "categories": [
          {
           "icon": {
            "prefix": "https://ss3.4sqi.net/img/categories_v2/arts_entertainment/musicvenue_jazzclub_",
            "suffix": ".png"
           },
           "id": "4bf58dd8d48988d1e7931735",
           "name": "Jazz Club",
           "pluralName": "Jazz Clubs",
           "primary": true,
           "shortName": "Jazz Club"
          }
         ],
         "hasPerk": false,
         "id": "4ad4c05df964a52060f620e3",
         "location": {
          "address": "52 Wellington St. E",
          "cc": "CA",
          "city": "Toronto",
          "country": "Canada",
          "crossStreet": "btwn Church St. and Yonge St.",
          "distance": 870,
          "formattedAddress": [
           "52 Wellington St. E (btwn Church St. and Yonge St.)",
           "Toronto ON M5E 1C9",
           "Canada"
          ],
          "labeledLatLngs": [
           {
            "label": "display",
            "lat": 43.64851659851552,
            "lng": -79.37455623391588
           }
          ],
          "lat": 43.64851659851552,
          "lng": -79.37455623391588,
          "postalCode": "M5E 1C9",
          "state": "ON"
         },
         "name": "The Reservoir Lounge",
         "referralId": "v-1615591883"
        }
       ]
      },
      "text/plain": [
       "<IPython.core.display.JSON object>"
      ]
     },
     "execution_count": 49,
     "metadata": {
      "application/json": {
       "expanded": false,
       "root": "root"
      }
     },
     "output_type": "execute_result"
    }
   ],
   "source": [
    "JSON(test[1]) # examine output"
   ]
  },
  {
   "cell_type": "markdown",
   "id": "organized-editor",
   "metadata": {},
   "source": [
    "#### Define function for normalizing data"
   ]
  },
  {
   "cell_type": "code",
   "execution_count": 118,
   "id": "considered-compiler",
   "metadata": {},
   "outputs": [],
   "source": [
    "def normalize_data(data):\n",
    "\n",
    "    # unpack input from get_data() function\n",
    "    data_yelp, data_fsq, city, query, category = data\n",
    "        \n",
    "    # create YELP dataframe from JSON\n",
    "    table_yelp = pd.json_normalize(data=data_yelp, record_path=['businesses','categories'],\n",
    "                  meta=[['businesses','id'],\n",
    "                        ['businesses','name'],\n",
    "                        ['businesses','coordinates','latitude'],\n",
    "                        ['businesses','coordinates','longitude'],\n",
    "                        ['businesses','distance']])\n",
    "    \n",
    "    # drop uneeded columns\n",
    "    table_yelp.drop(columns='title', inplace=True, errors='ignore')\n",
    "\n",
    "    # mapping schema for renaming columns\n",
    "    mapping = {'alias':'y_cat',\n",
    "               'businesses.id':'yelp_bus_id',\n",
    "               'businesses.name':'venue',\n",
    "               'businesses.coordinates.latitude':'latitude',\n",
    "               'businesses.coordinates.longitude':'longitude',\n",
    "               'businesses.distance':'distance'}\n",
    "    \n",
    "    # rename columns\n",
    "    table_yelp.rename(columns=mapping, inplace=True, errors='ignore')\n",
    "    \n",
    "    # json_normalize created duplicate entries, due to how the 'categories' node is unpacked from the JSON file\n",
    "    table_yelp.drop_duplicates(['yelp_bus_id','latitude','longitude'], inplace=True)\n",
    "\n",
    "    # create FSQ dataframe\n",
    "    table_fsq = pd.json_normalize(data=data_fsq, record_path=['venues','categories'],\n",
    "                 meta=[['venues','id'],\n",
    "                       ['venues','name'],\n",
    "                       ['venues','location','lat'],\n",
    "                       ['venues','location','lng'],\n",
    "                       ['venues','location','distance']])\n",
    "    \n",
    "    # drop uneeded columns\n",
    "    table_fsq.drop(columns=['id','name','shortName','primary','icon.prefix','icon.suffix'], inplace=True, errors='ignore')\n",
    "        \n",
    "    # mapping schema for renaming columns\n",
    "    mapping = {'pluralName':'f_cat',\n",
    "               'venues.id':'fsq_bus_id',\n",
    "               'venues.name':'venue',\n",
    "               'venues.location.lat':'latitude',\n",
    "               'venues.location.lng':'longitude',\n",
    "               'venues.location.distance':'distance'}\n",
    "    \n",
    "    # rename the columns\n",
    "    table_fsq.rename(columns=mapping, inplace=True, errors='ignore')\n",
    "    \n",
    "    # add accessory columns based on search arguements for get_data() function\n",
    "    table_yelp['city'] = table_fsq['city'] = city\n",
    "    table_yelp['source'] = 'yelp'\n",
    "    table_fsq['source'] = 'fsq'\n",
    "    table_yelp['query'] = table_fsq['query'] = query\n",
    "    table_yelp['category'] = table_fsq['category'] = category\n",
    "    \n",
    "    # fill empty cells with NaN\n",
    "    table_yelp.replace('', np.nan, inplace = True)\n",
    "    table_fsq.replace('', np.nan, inplace=True)\n",
    "    \n",
    "    return table_yelp, table_fsq"
   ]
  },
  {
   "cell_type": "code",
   "execution_count": 40,
   "id": "common-jewel",
   "metadata": {},
   "outputs": [],
   "source": [
    "# test normalize_data() function\n",
    "test = normalize_data(test)"
   ]
  },
  {
   "cell_type": "code",
   "execution_count": 41,
   "id": "genuine-question",
   "metadata": {},
   "outputs": [
    {
     "data": {
      "text/plain": [
       "2"
      ]
     },
     "execution_count": 41,
     "metadata": {},
     "output_type": "execute_result"
    }
   ],
   "source": [
    "len(test) # 2 = table_yelp, table_fsq"
   ]
  },
  {
   "cell_type": "code",
   "execution_count": 42,
   "id": "signed-greek",
   "metadata": {},
   "outputs": [
    {
     "data": {
      "text/html": [
       "<div>\n",
       "<style scoped>\n",
       "    .dataframe tbody tr th:only-of-type {\n",
       "        vertical-align: middle;\n",
       "    }\n",
       "\n",
       "    .dataframe tbody tr th {\n",
       "        vertical-align: top;\n",
       "    }\n",
       "\n",
       "    .dataframe thead th {\n",
       "        text-align: right;\n",
       "    }\n",
       "</style>\n",
       "<table border=\"1\" class=\"dataframe\">\n",
       "  <thead>\n",
       "    <tr style=\"text-align: right;\">\n",
       "      <th></th>\n",
       "      <th>y_cat</th>\n",
       "      <th>yelp_bus_id</th>\n",
       "      <th>venue</th>\n",
       "      <th>latitude</th>\n",
       "      <th>longitude</th>\n",
       "      <th>distance</th>\n",
       "      <th>city</th>\n",
       "      <th>source</th>\n",
       "      <th>query</th>\n",
       "      <th>category</th>\n",
       "    </tr>\n",
       "  </thead>\n",
       "  <tbody>\n",
       "    <tr>\n",
       "      <th>0</th>\n",
       "      <td>japanese</td>\n",
       "      <td>RtUvSWO_UZ8V3Wpj0n077w</td>\n",
       "      <td>KINKA IZAKAYA ORIGINAL</td>\n",
       "      <td>43.660450</td>\n",
       "      <td>-79.379150</td>\n",
       "      <td>862.663552</td>\n",
       "      <td>toronto</td>\n",
       "      <td>yelp</td>\n",
       "      <td>NaN</td>\n",
       "      <td>bars</td>\n",
       "    </tr>\n",
       "    <tr>\n",
       "      <th>2</th>\n",
       "      <td>breakfast_brunch</td>\n",
       "      <td>cQK9M2JAwETQnnBoYyua5A</td>\n",
       "      <td>The Senator</td>\n",
       "      <td>43.655740</td>\n",
       "      <td>-79.378960</td>\n",
       "      <td>438.872684</td>\n",
       "      <td>toronto</td>\n",
       "      <td>yelp</td>\n",
       "      <td>NaN</td>\n",
       "      <td>bars</td>\n",
       "    </tr>\n",
       "    <tr>\n",
       "      <th>5</th>\n",
       "      <td>cocktailbars</td>\n",
       "      <td>yY3jNsrpCyKTqQuRuLV8gw</td>\n",
       "      <td>Cactus Club Cafe</td>\n",
       "      <td>43.649504</td>\n",
       "      <td>-79.382518</td>\n",
       "      <td>417.208551</td>\n",
       "      <td>toronto</td>\n",
       "      <td>yelp</td>\n",
       "      <td>NaN</td>\n",
       "      <td>bars</td>\n",
       "    </tr>\n",
       "    <tr>\n",
       "      <th>7</th>\n",
       "      <td>bistros</td>\n",
       "      <td>O-uIEuv7JLUHajkemx_sVw</td>\n",
       "      <td>Beerbistro</td>\n",
       "      <td>43.649450</td>\n",
       "      <td>-79.377159</td>\n",
       "      <td>641.351219</td>\n",
       "      <td>toronto</td>\n",
       "      <td>yelp</td>\n",
       "      <td>NaN</td>\n",
       "      <td>bars</td>\n",
       "    </tr>\n",
       "    <tr>\n",
       "      <th>9</th>\n",
       "      <td>newcanadian</td>\n",
       "      <td>Sk0Ycurq7D083Qs8x65b_Q</td>\n",
       "      <td>George Restaurant</td>\n",
       "      <td>43.653230</td>\n",
       "      <td>-79.374460</td>\n",
       "      <td>728.604682</td>\n",
       "      <td>toronto</td>\n",
       "      <td>yelp</td>\n",
       "      <td>NaN</td>\n",
       "      <td>bars</td>\n",
       "    </tr>\n",
       "  </tbody>\n",
       "</table>\n",
       "</div>"
      ],
      "text/plain": [
       "              y_cat             yelp_bus_id                   venue  \\\n",
       "0          japanese  RtUvSWO_UZ8V3Wpj0n077w  KINKA IZAKAYA ORIGINAL   \n",
       "2  breakfast_brunch  cQK9M2JAwETQnnBoYyua5A             The Senator   \n",
       "5      cocktailbars  yY3jNsrpCyKTqQuRuLV8gw        Cactus Club Cafe   \n",
       "7           bistros  O-uIEuv7JLUHajkemx_sVw              Beerbistro   \n",
       "9       newcanadian  Sk0Ycurq7D083Qs8x65b_Q       George Restaurant   \n",
       "\n",
       "    latitude  longitude    distance     city source  query category  \n",
       "0  43.660450 -79.379150  862.663552  toronto   yelp    NaN     bars  \n",
       "2  43.655740 -79.378960  438.872684  toronto   yelp    NaN     bars  \n",
       "5  43.649504 -79.382518  417.208551  toronto   yelp    NaN     bars  \n",
       "7  43.649450 -79.377159  641.351219  toronto   yelp    NaN     bars  \n",
       "9  43.653230 -79.374460  728.604682  toronto   yelp    NaN     bars  "
      ]
     },
     "execution_count": 42,
     "metadata": {},
     "output_type": "execute_result"
    }
   ],
   "source": [
    "# check output for table_yelp\n",
    "test[0].head()"
   ]
  },
  {
   "cell_type": "code",
   "execution_count": 43,
   "id": "artificial-queue",
   "metadata": {},
   "outputs": [
    {
     "data": {
      "text/html": [
       "<div>\n",
       "<style scoped>\n",
       "    .dataframe tbody tr th:only-of-type {\n",
       "        vertical-align: middle;\n",
       "    }\n",
       "\n",
       "    .dataframe tbody tr th {\n",
       "        vertical-align: top;\n",
       "    }\n",
       "\n",
       "    .dataframe thead th {\n",
       "        text-align: right;\n",
       "    }\n",
       "</style>\n",
       "<table border=\"1\" class=\"dataframe\">\n",
       "  <thead>\n",
       "    <tr style=\"text-align: right;\">\n",
       "      <th></th>\n",
       "      <th>f_cat</th>\n",
       "      <th>fsq_bus_id</th>\n",
       "      <th>venue</th>\n",
       "      <th>latitude</th>\n",
       "      <th>longitude</th>\n",
       "      <th>distance</th>\n",
       "      <th>city</th>\n",
       "      <th>source</th>\n",
       "      <th>query</th>\n",
       "      <th>category</th>\n",
       "    </tr>\n",
       "  </thead>\n",
       "  <tbody>\n",
       "    <tr>\n",
       "      <th>0</th>\n",
       "      <td>Italian Restaurants</td>\n",
       "      <td>4d306dd82748b60c62b6dba0</td>\n",
       "      <td>Trattoria Mercatto</td>\n",
       "      <td>43.654453</td>\n",
       "      <td>-79.380974</td>\n",
       "      <td>224</td>\n",
       "      <td>toronto</td>\n",
       "      <td>fsq</td>\n",
       "      <td>NaN</td>\n",
       "      <td>bars</td>\n",
       "    </tr>\n",
       "    <tr>\n",
       "      <th>1</th>\n",
       "      <td>Restaurants</td>\n",
       "      <td>4ad4c05df964a52059f620e3</td>\n",
       "      <td>Canoe</td>\n",
       "      <td>43.647452</td>\n",
       "      <td>-79.381320</td>\n",
       "      <td>659</td>\n",
       "      <td>toronto</td>\n",
       "      <td>fsq</td>\n",
       "      <td>NaN</td>\n",
       "      <td>bars</td>\n",
       "    </tr>\n",
       "    <tr>\n",
       "      <th>2</th>\n",
       "      <td>Italian Restaurants</td>\n",
       "      <td>4bbe0c134e069c745a829fe3</td>\n",
       "      <td>Metropolitan Resto Bar</td>\n",
       "      <td>43.650062</td>\n",
       "      <td>-79.377181</td>\n",
       "      <td>598</td>\n",
       "      <td>toronto</td>\n",
       "      <td>fsq</td>\n",
       "      <td>NaN</td>\n",
       "      <td>bars</td>\n",
       "    </tr>\n",
       "    <tr>\n",
       "      <th>3</th>\n",
       "      <td>Cocktail Bars</td>\n",
       "      <td>4ad4c05df964a5203df620e3</td>\n",
       "      <td>Piper's Gastropub</td>\n",
       "      <td>43.645468</td>\n",
       "      <td>-79.381779</td>\n",
       "      <td>870</td>\n",
       "      <td>toronto</td>\n",
       "      <td>fsq</td>\n",
       "      <td>NaN</td>\n",
       "      <td>bars</td>\n",
       "    </tr>\n",
       "    <tr>\n",
       "      <th>4</th>\n",
       "      <td>Speakeasies</td>\n",
       "      <td>50322b6ae4b09116a296568c</td>\n",
       "      <td>Soho House Toronto</td>\n",
       "      <td>43.648734</td>\n",
       "      <td>-79.386541</td>\n",
       "      <td>568</td>\n",
       "      <td>toronto</td>\n",
       "      <td>fsq</td>\n",
       "      <td>NaN</td>\n",
       "      <td>bars</td>\n",
       "    </tr>\n",
       "  </tbody>\n",
       "</table>\n",
       "</div>"
      ],
      "text/plain": [
       "                 f_cat                fsq_bus_id                   venue  \\\n",
       "0  Italian Restaurants  4d306dd82748b60c62b6dba0      Trattoria Mercatto   \n",
       "1          Restaurants  4ad4c05df964a52059f620e3                   Canoe   \n",
       "2  Italian Restaurants  4bbe0c134e069c745a829fe3  Metropolitan Resto Bar   \n",
       "3        Cocktail Bars  4ad4c05df964a5203df620e3       Piper's Gastropub   \n",
       "4          Speakeasies  50322b6ae4b09116a296568c      Soho House Toronto   \n",
       "\n",
       "    latitude  longitude  distance     city source  query category  \n",
       "0  43.654453 -79.380974       224  toronto    fsq    NaN     bars  \n",
       "1  43.647452 -79.381320       659  toronto    fsq    NaN     bars  \n",
       "2  43.650062 -79.377181       598  toronto    fsq    NaN     bars  \n",
       "3  43.645468 -79.381779       870  toronto    fsq    NaN     bars  \n",
       "4  43.648734 -79.386541       568  toronto    fsq    NaN     bars  "
      ]
     },
     "execution_count": 43,
     "metadata": {},
     "output_type": "execute_result"
    }
   ],
   "source": [
    "# check output for table_fsq\n",
    "test[1].head()"
   ]
  },
  {
   "cell_type": "markdown",
   "id": "tracked-coupon",
   "metadata": {},
   "source": [
    "#### Design Search Criteria for API calls (all possible permutations)"
   ]
  },
  {
   "cell_type": "code",
   "execution_count": 79,
   "id": "hollywood-postcard",
   "metadata": {},
   "outputs": [
    {
     "data": {
      "text/plain": [
       "0         museums\n",
       "1            zoos\n",
       "2       festivals\n",
       "3     restaurants\n",
       "4            bars\n",
       "5       breweries\n",
       "6           farms\n",
       "7           parks\n",
       "8        wineries\n",
       "9         lawyers\n",
       "10       airports\n",
       "11         hotels\n",
       "Name: overlap, dtype: object"
      ]
     },
     "execution_count": 79,
     "metadata": {},
     "output_type": "execute_result"
    }
   ],
   "source": [
    "# Reminder what categories overlap between APIs\n",
    "ol_categories['overlap']"
   ]
  },
  {
   "cell_type": "code",
   "execution_count": 80,
   "id": "working-tsunami",
   "metadata": {},
   "outputs": [
    {
     "data": {
      "text/plain": [
       "['museums',\n",
       " 'zoos',\n",
       " 'restaurants',\n",
       " 'bars',\n",
       " 'breweries',\n",
       " 'lawyers',\n",
       " 'airports',\n",
       " 'hotels']"
      ]
     },
     "execution_count": 80,
     "metadata": {},
     "output_type": "execute_result"
    }
   ],
   "source": [
    "# Select a subset of all overlapping categories to search for: \n",
    "combo = [ol_categories['overlap'][i] for i in [0,1,3,4,5,9,10,11]]\n",
    "combo"
   ]
  },
  {
   "cell_type": "code",
   "execution_count": 81,
   "id": "polished-invitation",
   "metadata": {},
   "outputs": [],
   "source": [
    "# each search will take input = city, query (optional), category (optional)\n",
    "queries = {'city':['vancouver','toronto','nyc','new westminster'],\n",
    "           'query': combo,\n",
    "           'category': combo}"
   ]
  },
  {
   "cell_type": "code",
   "execution_count": 82,
   "id": "adapted-robinson",
   "metadata": {},
   "outputs": [],
   "source": [
    "# design iterator to create all possible permutations of our: city, query, category \n",
    "import itertools as it\n",
    "\n",
    "allNames = sorted(queries)\n",
    "combinations = it.product(*(queries[Name] for Name in allNames))\n",
    "combo = list(combinations)"
   ]
  },
  {
   "cell_type": "code",
   "execution_count": 83,
   "id": "fluid-catalog",
   "metadata": {},
   "outputs": [
    {
     "data": {
      "text/plain": [
       "[('museums', 'vancouver', 'museums'),\n",
       " ('museums', 'vancouver', 'zoos'),\n",
       " ('museums', 'vancouver', 'restaurants'),\n",
       " ('museums', 'vancouver', 'bars'),\n",
       " ('museums', 'vancouver', 'breweries'),\n",
       " ('museums', 'vancouver', 'lawyers'),\n",
       " ('museums', 'vancouver', 'airports'),\n",
       " ('museums', 'vancouver', 'hotels'),\n",
       " ('museums', 'toronto', 'museums'),\n",
       " ('museums', 'toronto', 'zoos')]"
      ]
     },
     "execution_count": 83,
     "metadata": {},
     "output_type": "execute_result"
    }
   ],
   "source": [
    "# query, city, category\n",
    "combo[:10]"
   ]
  },
  {
   "cell_type": "markdown",
   "id": "sought-silence",
   "metadata": {},
   "source": [
    "#### Edit combos to suite needs"
   ]
  },
  {
   "cell_type": "code",
   "execution_count": 84,
   "id": "surrounded-musician",
   "metadata": {},
   "outputs": [],
   "source": [
    "# turn tuples into lists\n",
    "combo = [list(i) for i in combo]"
   ]
  },
  {
   "cell_type": "code",
   "execution_count": 85,
   "id": "valid-saudi",
   "metadata": {},
   "outputs": [],
   "source": [
    "# remove last element in each nested list if it matches the first element\n",
    "for i in combo:\n",
    "    if i[0] != i[2]:\n",
    "        del i[2]"
   ]
  },
  {
   "cell_type": "code",
   "execution_count": 86,
   "id": "circular-spice",
   "metadata": {},
   "outputs": [],
   "source": [
    "# if nested list is less than three elements in length, append 'None' to end\n",
    "for i in combo:\n",
    "    if len(i)<3:\n",
    "        i.append(None)"
   ]
  },
  {
   "cell_type": "code",
   "execution_count": 87,
   "id": "crude-enclosure",
   "metadata": {},
   "outputs": [],
   "source": [
    "# if last element in a nested list is 'None' reverse the list\n",
    "for i in combo:\n",
    "    if i[2] == None:\n",
    "        combo.append(i[::-1])"
   ]
  },
  {
   "cell_type": "code",
   "execution_count": 88,
   "id": "rotary-teaching",
   "metadata": {},
   "outputs": [],
   "source": [
    "# swap the first and second elements in each list\n",
    "for i in combo:\n",
    "    i[0], i[1] = i[1], i[0]"
   ]
  },
  {
   "cell_type": "code",
   "execution_count": 89,
   "id": "executed-giving",
   "metadata": {},
   "outputs": [],
   "source": [
    "# sort list alphabetically by city\n",
    "combo = sorted(combo, key=lambda x: x[0])"
   ]
  },
  {
   "cell_type": "code",
   "execution_count": 91,
   "id": "broken-solomon",
   "metadata": {
    "collapsed": true,
    "jupyter": {
     "outputs_hidden": true
    }
   },
   "outputs": [
    {
     "data": {
      "text/plain": [
       "[None,\n",
       " None,\n",
       " None,\n",
       " None,\n",
       " None,\n",
       " None,\n",
       " None,\n",
       " None,\n",
       " None,\n",
       " None,\n",
       " None,\n",
       " None,\n",
       " None,\n",
       " None,\n",
       " None,\n",
       " None,\n",
       " None,\n",
       " None,\n",
       " None,\n",
       " None,\n",
       " None,\n",
       " None,\n",
       " None,\n",
       " None,\n",
       " None,\n",
       " None,\n",
       " None,\n",
       " None,\n",
       " None,\n",
       " None,\n",
       " None,\n",
       " None,\n",
       " None,\n",
       " None,\n",
       " None,\n",
       " None,\n",
       " None,\n",
       " None,\n",
       " None,\n",
       " None,\n",
       " None,\n",
       " None,\n",
       " None,\n",
       " None,\n",
       " None,\n",
       " None,\n",
       " None,\n",
       " None,\n",
       " None,\n",
       " None,\n",
       " None,\n",
       " None,\n",
       " None,\n",
       " None,\n",
       " None,\n",
       " None,\n",
       " None,\n",
       " None,\n",
       " None,\n",
       " None,\n",
       " None,\n",
       " None,\n",
       " None,\n",
       " None,\n",
       " None,\n",
       " None,\n",
       " None,\n",
       " None,\n",
       " None,\n",
       " None,\n",
       " None,\n",
       " None,\n",
       " None,\n",
       " None,\n",
       " None,\n",
       " None,\n",
       " None,\n",
       " None,\n",
       " None,\n",
       " None,\n",
       " None,\n",
       " None,\n",
       " None,\n",
       " None,\n",
       " None,\n",
       " None,\n",
       " None,\n",
       " None,\n",
       " None,\n",
       " None,\n",
       " None,\n",
       " None,\n",
       " None,\n",
       " None,\n",
       " None,\n",
       " None]"
      ]
     },
     "execution_count": 91,
     "metadata": {},
     "output_type": "execute_result"
    }
   ],
   "source": [
    "# drop duplicate lists\n",
    "res = []\n",
    "[res.append(x) for x in combo if x not in res]"
   ]
  },
  {
   "cell_type": "code",
   "execution_count": 96,
   "id": "dying-liberty",
   "metadata": {},
   "outputs": [
    {
     "data": {
      "text/plain": [
       "96"
      ]
     },
     "execution_count": 96,
     "metadata": {},
     "output_type": "execute_result"
    }
   ],
   "source": [
    "len(res)"
   ]
  },
  {
   "cell_type": "code",
   "execution_count": 103,
   "id": "authorized-wyoming",
   "metadata": {},
   "outputs": [
    {
     "data": {
      "text/plain": [
       "[['new westminster', 'museums', 'museums'],\n",
       " ['new westminster', 'museums', None],\n",
       " ['new westminster', 'zoos', None],\n",
       " ['new westminster', 'zoos', 'zoos'],\n",
       " ['new westminster', 'restaurants', None],\n",
       " ['new westminster', 'restaurants', 'restaurants'],\n",
       " ['new westminster', 'bars', None],\n",
       " ['new westminster', 'bars', 'bars'],\n",
       " ['new westminster', 'breweries', None],\n",
       " ['new westminster', 'breweries', 'breweries'],\n",
       " ['new westminster', 'lawyers', None],\n",
       " ['new westminster', 'lawyers', 'lawyers'],\n",
       " ['new westminster', 'airports', None],\n",
       " ['new westminster', 'airports', 'airports'],\n",
       " ['new westminster', 'hotels', None],\n",
       " ['new westminster', 'hotels', 'hotels'],\n",
       " ['new westminster', None, 'museums'],\n",
       " ['new westminster', None, 'zoos'],\n",
       " ['new westminster', None, 'restaurants'],\n",
       " ['new westminster', None, 'bars'],\n",
       " ['new westminster', None, 'breweries'],\n",
       " ['new westminster', None, 'lawyers'],\n",
       " ['new westminster', None, 'airports'],\n",
       " ['new westminster', None, 'hotels']]"
      ]
     },
     "execution_count": 103,
     "metadata": {},
     "output_type": "execute_result"
    }
   ],
   "source": [
    "# now we have all our desired combos for searching the APIs\n",
    "res[:24] # 24 searches per city: [city, query, category]"
   ]
  },
  {
   "cell_type": "markdown",
   "id": "minor-empire",
   "metadata": {},
   "source": [
    "#### Construct 1 YELP dataframe and 1 FSQ dataframe, per input (above)"
   ]
  },
  {
   "cell_type": "code",
   "execution_count": 119,
   "id": "incorporate-reset",
   "metadata": {},
   "outputs": [],
   "source": [
    "# set empty lists for storing all created dataframes (from function runs)\n",
    "yelp_jsons = []\n",
    "fsq_jsons = []\n",
    "yelp_dfs = []\n",
    "fsq_dfs = []"
   ]
  },
  {
   "cell_type": "code",
   "execution_count": 120,
   "id": "super-playlist",
   "metadata": {
    "scrolled": true
   },
   "outputs": [
    {
     "name": "stdout",
     "output_type": "stream",
     "text": [
      "1 new westminster museums museums\n",
      "{'latitude': '49.205719', 'longitude': '-122.910957', 'radius': '1000', 'categories': 'museums', 'term': 'museums'}\n",
      "{'ll': '49.205719,-122.910957', 'radius': '1000', 'categoryId': '4bf58dd8d48988d181941735', 'query': 'museum'}\n",
      "\n",
      "\n",
      "2 new westminster museums None\n",
      "{'latitude': '49.205719', 'longitude': '-122.910957', 'radius': '1000', 'term': 'museums'}\n",
      "{'ll': '49.205719,-122.910957', 'radius': '1000', 'query': 'museum'}\n",
      "\n",
      "\n",
      "3 new westminster zoos None\n",
      "{'latitude': '49.205719', 'longitude': '-122.910957', 'radius': '1000', 'term': 'zoos'}\n",
      "{'ll': '49.205719,-122.910957', 'radius': '1000', 'query': 'zoo'}\n",
      "\n",
      "\n",
      "4 new westminster zoos zoos\n",
      "{'latitude': '49.205719', 'longitude': '-122.910957', 'radius': '1000', 'categories': 'zoos', 'term': 'zoos'}\n",
      "{'ll': '49.205719,-122.910957', 'radius': '1000', 'categoryId': '4bf58dd8d48988d17b941735', 'query': 'zoo'}\n",
      "\n",
      "\n",
      "5 new westminster restaurants None\n",
      "{'latitude': '49.205719', 'longitude': '-122.910957', 'radius': '1000', 'term': 'restaurants'}\n",
      "{'ll': '49.205719,-122.910957', 'radius': '1000', 'query': 'restaurant'}\n",
      "\n",
      "\n",
      "6 new westminster restaurants restaurants\n",
      "{'latitude': '49.205719', 'longitude': '-122.910957', 'radius': '1000', 'categories': 'restaurants', 'term': 'restaurants'}\n",
      "{'ll': '49.205719,-122.910957', 'radius': '1000', 'categoryId': '4bf58dd8d48988d1c4941735', 'query': 'restaurant'}\n",
      "\n",
      "\n",
      "7 new westminster bars None\n",
      "{'latitude': '49.205719', 'longitude': '-122.910957', 'radius': '1000', 'term': 'bars'}\n",
      "{'ll': '49.205719,-122.910957', 'radius': '1000', 'query': 'bar'}\n",
      "\n",
      "\n",
      "8 new westminster bars bars\n",
      "{'latitude': '49.205719', 'longitude': '-122.910957', 'radius': '1000', 'categories': 'bars', 'term': 'bars'}\n",
      "{'ll': '49.205719,-122.910957', 'radius': '1000', 'categoryId': '4bf58dd8d48988d116941735', 'query': 'bar'}\n",
      "\n",
      "\n",
      "9 new westminster breweries None\n",
      "{'latitude': '49.205719', 'longitude': '-122.910957', 'radius': '1000', 'term': 'breweries'}\n",
      "{'ll': '49.205719,-122.910957', 'radius': '1000', 'query': 'brewery'}\n",
      "\n",
      "\n",
      "10 new westminster breweries breweries\n",
      "{'latitude': '49.205719', 'longitude': '-122.910957', 'radius': '1000', 'categories': 'breweries', 'term': 'breweries'}\n",
      "{'ll': '49.205719,-122.910957', 'radius': '1000', 'categoryId': '50327c8591d4c4b30a586d5d', 'query': 'brewery'}\n",
      "\n",
      "\n",
      "11 new westminster lawyers None\n",
      "{'latitude': '49.205719', 'longitude': '-122.910957', 'radius': '1000', 'term': 'lawyers'}\n",
      "{'ll': '49.205719,-122.910957', 'radius': '1000', 'query': 'lawyer'}\n",
      "\n",
      "\n",
      "12 new westminster lawyers lawyers\n",
      "{'latitude': '49.205719', 'longitude': '-122.910957', 'radius': '1000', 'categories': 'lawyers', 'term': 'lawyers'}\n",
      "{'ll': '49.205719,-122.910957', 'radius': '1000', 'categoryId': '52f2ab2ebcbc57f1066b8b3f', 'query': 'lawyer'}\n",
      "\n",
      "\n",
      "13 new westminster airports None\n",
      "{'latitude': '49.205719', 'longitude': '-122.910957', 'radius': '1000', 'term': 'airports'}\n",
      "{'ll': '49.205719,-122.910957', 'radius': '1000', 'query': 'airport'}\n",
      "\n",
      "\n",
      "14 new westminster airports airports\n",
      "{'latitude': '49.205719', 'longitude': '-122.910957', 'radius': '1000', 'categories': 'airports', 'term': 'airports'}\n",
      "{'ll': '49.205719,-122.910957', 'radius': '1000', 'categoryId': '4bf58dd8d48988d1ed931735', 'query': 'airport'}\n",
      "\n",
      "\n",
      "15 new westminster hotels None\n",
      "{'latitude': '49.205719', 'longitude': '-122.910957', 'radius': '1000', 'term': 'hotels'}\n",
      "{'ll': '49.205719,-122.910957', 'radius': '1000', 'query': 'hotel'}\n",
      "\n",
      "\n",
      "16 new westminster hotels hotels\n",
      "{'latitude': '49.205719', 'longitude': '-122.910957', 'radius': '1000', 'categories': 'hotels', 'term': 'hotels'}\n",
      "{'ll': '49.205719,-122.910957', 'radius': '1000', 'categoryId': '4bf58dd8d48988d1fa931735', 'query': 'hotel'}\n",
      "\n",
      "\n",
      "17 new westminster None museums\n",
      "{'latitude': '49.205719', 'longitude': '-122.910957', 'radius': '1000', 'categories': 'museums'}\n",
      "{'ll': '49.205719,-122.910957', 'radius': '1000', 'categoryId': '4bf58dd8d48988d181941735'}\n",
      "\n",
      "\n",
      "18 new westminster None zoos\n",
      "{'latitude': '49.205719', 'longitude': '-122.910957', 'radius': '1000', 'categories': 'zoos'}\n",
      "{'ll': '49.205719,-122.910957', 'radius': '1000', 'categoryId': '4bf58dd8d48988d17b941735'}\n",
      "\n",
      "\n",
      "19 new westminster None restaurants\n",
      "{'latitude': '49.205719', 'longitude': '-122.910957', 'radius': '1000', 'categories': 'restaurants'}\n",
      "{'ll': '49.205719,-122.910957', 'radius': '1000', 'categoryId': '4bf58dd8d48988d1c4941735'}\n",
      "\n",
      "\n",
      "20 new westminster None bars\n",
      "{'latitude': '49.205719', 'longitude': '-122.910957', 'radius': '1000', 'categories': 'bars'}\n",
      "{'ll': '49.205719,-122.910957', 'radius': '1000', 'categoryId': '4bf58dd8d48988d116941735'}\n",
      "\n",
      "\n",
      "21 new westminster None breweries\n",
      "{'latitude': '49.205719', 'longitude': '-122.910957', 'radius': '1000', 'categories': 'breweries'}\n",
      "{'ll': '49.205719,-122.910957', 'radius': '1000', 'categoryId': '50327c8591d4c4b30a586d5d'}\n",
      "\n",
      "\n",
      "22 new westminster None lawyers\n",
      "{'latitude': '49.205719', 'longitude': '-122.910957', 'radius': '1000', 'categories': 'lawyers'}\n",
      "{'ll': '49.205719,-122.910957', 'radius': '1000', 'categoryId': '52f2ab2ebcbc57f1066b8b3f'}\n",
      "\n",
      "\n",
      "23 new westminster None airports\n",
      "{'latitude': '49.205719', 'longitude': '-122.910957', 'radius': '1000', 'categories': 'airports'}\n",
      "{'ll': '49.205719,-122.910957', 'radius': '1000', 'categoryId': '4bf58dd8d48988d1ed931735'}\n",
      "\n",
      "\n",
      "24 new westminster None hotels\n",
      "{'latitude': '49.205719', 'longitude': '-122.910957', 'radius': '1000', 'categories': 'hotels'}\n",
      "{'ll': '49.205719,-122.910957', 'radius': '1000', 'categoryId': '4bf58dd8d48988d1fa931735'}\n",
      "\n",
      "\n",
      "25 nyc museums museums\n",
      "{'latitude': '40.712776', 'longitude': '-74.005974', 'radius': '1000', 'categories': 'museums', 'term': 'museums'}\n",
      "{'ll': '40.712776,-74.005974', 'radius': '1000', 'categoryId': '4bf58dd8d48988d181941735', 'query': 'museum'}\n",
      "\n",
      "\n",
      "26 nyc museums None\n",
      "{'latitude': '40.712776', 'longitude': '-74.005974', 'radius': '1000', 'term': 'museums'}\n",
      "{'ll': '40.712776,-74.005974', 'radius': '1000', 'query': 'museum'}\n",
      "\n",
      "\n",
      "27 nyc zoos None\n",
      "{'latitude': '40.712776', 'longitude': '-74.005974', 'radius': '1000', 'term': 'zoos'}\n",
      "{'ll': '40.712776,-74.005974', 'radius': '1000', 'query': 'zoo'}\n",
      "\n",
      "\n",
      "28 nyc zoos zoos\n",
      "{'latitude': '40.712776', 'longitude': '-74.005974', 'radius': '1000', 'categories': 'zoos', 'term': 'zoos'}\n",
      "{'ll': '40.712776,-74.005974', 'radius': '1000', 'categoryId': '4bf58dd8d48988d17b941735', 'query': 'zoo'}\n",
      "\n",
      "\n",
      "29 nyc restaurants None\n",
      "{'latitude': '40.712776', 'longitude': '-74.005974', 'radius': '1000', 'term': 'restaurants'}\n",
      "{'ll': '40.712776,-74.005974', 'radius': '1000', 'query': 'restaurant'}\n",
      "\n",
      "\n",
      "30 nyc restaurants restaurants\n",
      "{'latitude': '40.712776', 'longitude': '-74.005974', 'radius': '1000', 'categories': 'restaurants', 'term': 'restaurants'}\n",
      "{'ll': '40.712776,-74.005974', 'radius': '1000', 'categoryId': '4bf58dd8d48988d1c4941735', 'query': 'restaurant'}\n",
      "\n",
      "\n",
      "31 nyc bars None\n",
      "{'latitude': '40.712776', 'longitude': '-74.005974', 'radius': '1000', 'term': 'bars'}\n",
      "{'ll': '40.712776,-74.005974', 'radius': '1000', 'query': 'bar'}\n",
      "\n",
      "\n",
      "32 nyc bars bars\n",
      "{'latitude': '40.712776', 'longitude': '-74.005974', 'radius': '1000', 'categories': 'bars', 'term': 'bars'}\n",
      "{'ll': '40.712776,-74.005974', 'radius': '1000', 'categoryId': '4bf58dd8d48988d116941735', 'query': 'bar'}\n",
      "\n",
      "\n",
      "33 nyc breweries None\n",
      "{'latitude': '40.712776', 'longitude': '-74.005974', 'radius': '1000', 'term': 'breweries'}\n",
      "{'ll': '40.712776,-74.005974', 'radius': '1000', 'query': 'brewery'}\n",
      "\n",
      "\n",
      "34 nyc breweries breweries\n",
      "{'latitude': '40.712776', 'longitude': '-74.005974', 'radius': '1000', 'categories': 'breweries', 'term': 'breweries'}\n",
      "{'ll': '40.712776,-74.005974', 'radius': '1000', 'categoryId': '50327c8591d4c4b30a586d5d', 'query': 'brewery'}\n",
      "\n",
      "\n",
      "35 nyc lawyers None\n",
      "{'latitude': '40.712776', 'longitude': '-74.005974', 'radius': '1000', 'term': 'lawyers'}\n",
      "{'ll': '40.712776,-74.005974', 'radius': '1000', 'query': 'lawyer'}\n",
      "\n",
      "\n",
      "36 nyc lawyers lawyers\n",
      "{'latitude': '40.712776', 'longitude': '-74.005974', 'radius': '1000', 'categories': 'lawyers', 'term': 'lawyers'}\n",
      "{'ll': '40.712776,-74.005974', 'radius': '1000', 'categoryId': '52f2ab2ebcbc57f1066b8b3f', 'query': 'lawyer'}\n",
      "\n",
      "\n",
      "37 nyc airports None\n",
      "{'latitude': '40.712776', 'longitude': '-74.005974', 'radius': '1000', 'term': 'airports'}\n",
      "{'ll': '40.712776,-74.005974', 'radius': '1000', 'query': 'airport'}\n",
      "\n",
      "\n",
      "38 nyc airports airports\n",
      "{'latitude': '40.712776', 'longitude': '-74.005974', 'radius': '1000', 'categories': 'airports', 'term': 'airports'}\n",
      "{'ll': '40.712776,-74.005974', 'radius': '1000', 'categoryId': '4bf58dd8d48988d1ed931735', 'query': 'airport'}\n",
      "\n",
      "\n",
      "39 nyc hotels None\n",
      "{'latitude': '40.712776', 'longitude': '-74.005974', 'radius': '1000', 'term': 'hotels'}\n",
      "{'ll': '40.712776,-74.005974', 'radius': '1000', 'query': 'hotel'}\n",
      "\n",
      "\n",
      "40 nyc hotels hotels\n",
      "{'latitude': '40.712776', 'longitude': '-74.005974', 'radius': '1000', 'categories': 'hotels', 'term': 'hotels'}\n",
      "{'ll': '40.712776,-74.005974', 'radius': '1000', 'categoryId': '4bf58dd8d48988d1fa931735', 'query': 'hotel'}\n",
      "\n",
      "\n",
      "41 nyc None museums\n",
      "{'latitude': '40.712776', 'longitude': '-74.005974', 'radius': '1000', 'categories': 'museums'}\n",
      "{'ll': '40.712776,-74.005974', 'radius': '1000', 'categoryId': '4bf58dd8d48988d181941735'}\n",
      "\n",
      "\n",
      "42 nyc None zoos\n",
      "{'latitude': '40.712776', 'longitude': '-74.005974', 'radius': '1000', 'categories': 'zoos'}\n",
      "{'ll': '40.712776,-74.005974', 'radius': '1000', 'categoryId': '4bf58dd8d48988d17b941735'}\n",
      "\n",
      "\n",
      "43 nyc None restaurants\n",
      "{'latitude': '40.712776', 'longitude': '-74.005974', 'radius': '1000', 'categories': 'restaurants'}\n",
      "{'ll': '40.712776,-74.005974', 'radius': '1000', 'categoryId': '4bf58dd8d48988d1c4941735'}\n",
      "\n",
      "\n",
      "44 nyc None bars\n",
      "{'latitude': '40.712776', 'longitude': '-74.005974', 'radius': '1000', 'categories': 'bars'}\n",
      "{'ll': '40.712776,-74.005974', 'radius': '1000', 'categoryId': '4bf58dd8d48988d116941735'}\n",
      "\n",
      "\n",
      "45 nyc None breweries\n",
      "{'latitude': '40.712776', 'longitude': '-74.005974', 'radius': '1000', 'categories': 'breweries'}\n",
      "{'ll': '40.712776,-74.005974', 'radius': '1000', 'categoryId': '50327c8591d4c4b30a586d5d'}\n",
      "\n",
      "\n",
      "46 nyc None lawyers\n",
      "{'latitude': '40.712776', 'longitude': '-74.005974', 'radius': '1000', 'categories': 'lawyers'}\n",
      "{'ll': '40.712776,-74.005974', 'radius': '1000', 'categoryId': '52f2ab2ebcbc57f1066b8b3f'}\n",
      "\n",
      "\n",
      "47 nyc None airports\n",
      "{'latitude': '40.712776', 'longitude': '-74.005974', 'radius': '1000', 'categories': 'airports'}\n",
      "{'ll': '40.712776,-74.005974', 'radius': '1000', 'categoryId': '4bf58dd8d48988d1ed931735'}\n",
      "\n",
      "\n",
      "48 nyc None hotels\n",
      "{'latitude': '40.712776', 'longitude': '-74.005974', 'radius': '1000', 'categories': 'hotels'}\n",
      "{'ll': '40.712776,-74.005974', 'radius': '1000', 'categoryId': '4bf58dd8d48988d1fa931735'}\n",
      "\n",
      "\n",
      "49 toronto museums museums\n",
      "{'latitude': '43.653225', 'longitude': '-79.383186', 'radius': '1000', 'categories': 'museums', 'term': 'museums'}\n",
      "{'ll': '43.653225,-79.383186', 'radius': '1000', 'categoryId': '4bf58dd8d48988d181941735', 'query': 'museum'}\n",
      "\n",
      "\n",
      "50 toronto museums None\n",
      "{'latitude': '43.653225', 'longitude': '-79.383186', 'radius': '1000', 'term': 'museums'}\n",
      "{'ll': '43.653225,-79.383186', 'radius': '1000', 'query': 'museum'}\n",
      "\n",
      "\n",
      "51 toronto zoos None\n",
      "{'latitude': '43.653225', 'longitude': '-79.383186', 'radius': '1000', 'term': 'zoos'}\n",
      "{'ll': '43.653225,-79.383186', 'radius': '1000', 'query': 'zoo'}\n",
      "\n",
      "\n",
      "52 toronto zoos zoos\n",
      "{'latitude': '43.653225', 'longitude': '-79.383186', 'radius': '1000', 'categories': 'zoos', 'term': 'zoos'}\n",
      "{'ll': '43.653225,-79.383186', 'radius': '1000', 'categoryId': '4bf58dd8d48988d17b941735', 'query': 'zoo'}\n",
      "\n",
      "\n",
      "53 toronto restaurants None\n",
      "{'latitude': '43.653225', 'longitude': '-79.383186', 'radius': '1000', 'term': 'restaurants'}\n",
      "{'ll': '43.653225,-79.383186', 'radius': '1000', 'query': 'restaurant'}\n",
      "\n",
      "\n",
      "54 toronto restaurants restaurants\n",
      "{'latitude': '43.653225', 'longitude': '-79.383186', 'radius': '1000', 'categories': 'restaurants', 'term': 'restaurants'}\n",
      "{'ll': '43.653225,-79.383186', 'radius': '1000', 'categoryId': '4bf58dd8d48988d1c4941735', 'query': 'restaurant'}\n",
      "\n",
      "\n",
      "55 toronto bars None\n",
      "{'latitude': '43.653225', 'longitude': '-79.383186', 'radius': '1000', 'term': 'bars'}\n",
      "{'ll': '43.653225,-79.383186', 'radius': '1000', 'query': 'bar'}\n",
      "\n",
      "\n",
      "56 toronto bars bars\n",
      "{'latitude': '43.653225', 'longitude': '-79.383186', 'radius': '1000', 'categories': 'bars', 'term': 'bars'}\n",
      "{'ll': '43.653225,-79.383186', 'radius': '1000', 'categoryId': '4bf58dd8d48988d116941735', 'query': 'bar'}\n",
      "\n",
      "\n",
      "57 toronto breweries None\n",
      "{'latitude': '43.653225', 'longitude': '-79.383186', 'radius': '1000', 'term': 'breweries'}\n",
      "{'ll': '43.653225,-79.383186', 'radius': '1000', 'query': 'brewery'}\n",
      "\n",
      "\n",
      "58 toronto breweries breweries\n",
      "{'latitude': '43.653225', 'longitude': '-79.383186', 'radius': '1000', 'categories': 'breweries', 'term': 'breweries'}\n",
      "{'ll': '43.653225,-79.383186', 'radius': '1000', 'categoryId': '50327c8591d4c4b30a586d5d', 'query': 'brewery'}\n",
      "\n",
      "\n",
      "59 toronto lawyers None\n",
      "{'latitude': '43.653225', 'longitude': '-79.383186', 'radius': '1000', 'term': 'lawyers'}\n",
      "{'ll': '43.653225,-79.383186', 'radius': '1000', 'query': 'lawyer'}\n",
      "\n",
      "\n",
      "60 toronto lawyers lawyers\n",
      "{'latitude': '43.653225', 'longitude': '-79.383186', 'radius': '1000', 'categories': 'lawyers', 'term': 'lawyers'}\n",
      "{'ll': '43.653225,-79.383186', 'radius': '1000', 'categoryId': '52f2ab2ebcbc57f1066b8b3f', 'query': 'lawyer'}\n",
      "\n",
      "\n",
      "61 toronto airports None\n",
      "{'latitude': '43.653225', 'longitude': '-79.383186', 'radius': '1000', 'term': 'airports'}\n",
      "{'ll': '43.653225,-79.383186', 'radius': '1000', 'query': 'airport'}\n",
      "\n",
      "\n",
      "62 toronto airports airports\n",
      "{'latitude': '43.653225', 'longitude': '-79.383186', 'radius': '1000', 'categories': 'airports', 'term': 'airports'}\n",
      "{'ll': '43.653225,-79.383186', 'radius': '1000', 'categoryId': '4bf58dd8d48988d1ed931735', 'query': 'airport'}\n",
      "\n",
      "\n",
      "63 toronto hotels None\n",
      "{'latitude': '43.653225', 'longitude': '-79.383186', 'radius': '1000', 'term': 'hotels'}\n",
      "{'ll': '43.653225,-79.383186', 'radius': '1000', 'query': 'hotel'}\n",
      "\n",
      "\n",
      "64 toronto hotels hotels\n",
      "{'latitude': '43.653225', 'longitude': '-79.383186', 'radius': '1000', 'categories': 'hotels', 'term': 'hotels'}\n",
      "{'ll': '43.653225,-79.383186', 'radius': '1000', 'categoryId': '4bf58dd8d48988d1fa931735', 'query': 'hotel'}\n",
      "\n",
      "\n",
      "65 toronto None museums\n",
      "{'latitude': '43.653225', 'longitude': '-79.383186', 'radius': '1000', 'categories': 'museums'}\n",
      "{'ll': '43.653225,-79.383186', 'radius': '1000', 'categoryId': '4bf58dd8d48988d181941735'}\n",
      "\n",
      "\n",
      "66 toronto None zoos\n",
      "{'latitude': '43.653225', 'longitude': '-79.383186', 'radius': '1000', 'categories': 'zoos'}\n",
      "{'ll': '43.653225,-79.383186', 'radius': '1000', 'categoryId': '4bf58dd8d48988d17b941735'}\n",
      "\n",
      "\n",
      "67 toronto None restaurants\n",
      "{'latitude': '43.653225', 'longitude': '-79.383186', 'radius': '1000', 'categories': 'restaurants'}\n",
      "{'ll': '43.653225,-79.383186', 'radius': '1000', 'categoryId': '4bf58dd8d48988d1c4941735'}\n",
      "\n",
      "\n",
      "68 toronto None bars\n",
      "{'latitude': '43.653225', 'longitude': '-79.383186', 'radius': '1000', 'categories': 'bars'}\n",
      "{'ll': '43.653225,-79.383186', 'radius': '1000', 'categoryId': '4bf58dd8d48988d116941735'}\n",
      "\n",
      "\n",
      "69 toronto None breweries\n",
      "{'latitude': '43.653225', 'longitude': '-79.383186', 'radius': '1000', 'categories': 'breweries'}\n",
      "{'ll': '43.653225,-79.383186', 'radius': '1000', 'categoryId': '50327c8591d4c4b30a586d5d'}\n",
      "\n",
      "\n",
      "70 toronto None lawyers\n",
      "{'latitude': '43.653225', 'longitude': '-79.383186', 'radius': '1000', 'categories': 'lawyers'}\n",
      "{'ll': '43.653225,-79.383186', 'radius': '1000', 'categoryId': '52f2ab2ebcbc57f1066b8b3f'}\n",
      "\n",
      "\n",
      "71 toronto None airports\n",
      "{'latitude': '43.653225', 'longitude': '-79.383186', 'radius': '1000', 'categories': 'airports'}\n",
      "{'ll': '43.653225,-79.383186', 'radius': '1000', 'categoryId': '4bf58dd8d48988d1ed931735'}\n",
      "\n",
      "\n",
      "72 toronto None hotels\n",
      "{'latitude': '43.653225', 'longitude': '-79.383186', 'radius': '1000', 'categories': 'hotels'}\n",
      "{'ll': '43.653225,-79.383186', 'radius': '1000', 'categoryId': '4bf58dd8d48988d1fa931735'}\n",
      "\n",
      "\n",
      "73 vancouver museums museums\n",
      "{'latitude': '49.282730', 'longitude': '-123.120735', 'radius': '1000', 'categories': 'museums', 'term': 'museums'}\n",
      "{'ll': '49.282730,-123.120735', 'radius': '1000', 'categoryId': '4bf58dd8d48988d181941735', 'query': 'museum'}\n",
      "\n",
      "\n",
      "74 vancouver museums None\n",
      "{'latitude': '49.282730', 'longitude': '-123.120735', 'radius': '1000', 'term': 'museums'}\n",
      "{'ll': '49.282730,-123.120735', 'radius': '1000', 'query': 'museum'}\n",
      "\n",
      "\n",
      "75 vancouver zoos None\n",
      "{'latitude': '49.282730', 'longitude': '-123.120735', 'radius': '1000', 'term': 'zoos'}\n",
      "{'ll': '49.282730,-123.120735', 'radius': '1000', 'query': 'zoo'}\n",
      "\n",
      "\n",
      "76 vancouver zoos zoos\n",
      "{'latitude': '49.282730', 'longitude': '-123.120735', 'radius': '1000', 'categories': 'zoos', 'term': 'zoos'}\n",
      "{'ll': '49.282730,-123.120735', 'radius': '1000', 'categoryId': '4bf58dd8d48988d17b941735', 'query': 'zoo'}\n",
      "\n",
      "\n",
      "77 vancouver restaurants None\n",
      "{'latitude': '49.282730', 'longitude': '-123.120735', 'radius': '1000', 'term': 'restaurants'}\n",
      "{'ll': '49.282730,-123.120735', 'radius': '1000', 'query': 'restaurant'}\n",
      "\n",
      "\n",
      "78 vancouver restaurants restaurants\n",
      "{'latitude': '49.282730', 'longitude': '-123.120735', 'radius': '1000', 'categories': 'restaurants', 'term': 'restaurants'}\n",
      "{'ll': '49.282730,-123.120735', 'radius': '1000', 'categoryId': '4bf58dd8d48988d1c4941735', 'query': 'restaurant'}\n",
      "\n",
      "\n",
      "79 vancouver bars None\n",
      "{'latitude': '49.282730', 'longitude': '-123.120735', 'radius': '1000', 'term': 'bars'}\n",
      "{'ll': '49.282730,-123.120735', 'radius': '1000', 'query': 'bar'}\n",
      "\n",
      "\n",
      "80 vancouver bars bars\n",
      "{'latitude': '49.282730', 'longitude': '-123.120735', 'radius': '1000', 'categories': 'bars', 'term': 'bars'}\n",
      "{'ll': '49.282730,-123.120735', 'radius': '1000', 'categoryId': '4bf58dd8d48988d116941735', 'query': 'bar'}\n",
      "\n",
      "\n",
      "81 vancouver breweries None\n",
      "{'latitude': '49.282730', 'longitude': '-123.120735', 'radius': '1000', 'term': 'breweries'}\n",
      "{'ll': '49.282730,-123.120735', 'radius': '1000', 'query': 'brewery'}\n",
      "\n",
      "\n",
      "82 vancouver breweries breweries\n",
      "{'latitude': '49.282730', 'longitude': '-123.120735', 'radius': '1000', 'categories': 'breweries', 'term': 'breweries'}\n",
      "{'ll': '49.282730,-123.120735', 'radius': '1000', 'categoryId': '50327c8591d4c4b30a586d5d', 'query': 'brewery'}\n",
      "\n",
      "\n",
      "83 vancouver lawyers None\n",
      "{'latitude': '49.282730', 'longitude': '-123.120735', 'radius': '1000', 'term': 'lawyers'}\n",
      "{'ll': '49.282730,-123.120735', 'radius': '1000', 'query': 'lawyer'}\n",
      "\n",
      "\n",
      "84 vancouver lawyers lawyers\n",
      "{'latitude': '49.282730', 'longitude': '-123.120735', 'radius': '1000', 'categories': 'lawyers', 'term': 'lawyers'}\n",
      "{'ll': '49.282730,-123.120735', 'radius': '1000', 'categoryId': '52f2ab2ebcbc57f1066b8b3f', 'query': 'lawyer'}\n",
      "\n",
      "\n",
      "85 vancouver airports None\n",
      "{'latitude': '49.282730', 'longitude': '-123.120735', 'radius': '1000', 'term': 'airports'}\n",
      "{'ll': '49.282730,-123.120735', 'radius': '1000', 'query': 'airport'}\n",
      "\n",
      "\n",
      "86 vancouver airports airports\n",
      "{'latitude': '49.282730', 'longitude': '-123.120735', 'radius': '1000', 'categories': 'airports', 'term': 'airports'}\n",
      "{'ll': '49.282730,-123.120735', 'radius': '1000', 'categoryId': '4bf58dd8d48988d1ed931735', 'query': 'airport'}\n",
      "\n",
      "\n",
      "87 vancouver hotels None\n",
      "{'latitude': '49.282730', 'longitude': '-123.120735', 'radius': '1000', 'term': 'hotels'}\n",
      "{'ll': '49.282730,-123.120735', 'radius': '1000', 'query': 'hotel'}\n",
      "\n",
      "\n",
      "88 vancouver hotels hotels\n",
      "{'latitude': '49.282730', 'longitude': '-123.120735', 'radius': '1000', 'categories': 'hotels', 'term': 'hotels'}\n",
      "{'ll': '49.282730,-123.120735', 'radius': '1000', 'categoryId': '4bf58dd8d48988d1fa931735', 'query': 'hotel'}\n",
      "\n",
      "\n",
      "89 vancouver None museums\n",
      "{'latitude': '49.282730', 'longitude': '-123.120735', 'radius': '1000', 'categories': 'museums'}\n",
      "{'ll': '49.282730,-123.120735', 'radius': '1000', 'categoryId': '4bf58dd8d48988d181941735'}\n",
      "\n",
      "\n",
      "90 vancouver None zoos\n",
      "{'latitude': '49.282730', 'longitude': '-123.120735', 'radius': '1000', 'categories': 'zoos'}\n",
      "{'ll': '49.282730,-123.120735', 'radius': '1000', 'categoryId': '4bf58dd8d48988d17b941735'}\n",
      "\n",
      "\n",
      "91 vancouver None restaurants\n",
      "{'latitude': '49.282730', 'longitude': '-123.120735', 'radius': '1000', 'categories': 'restaurants'}\n",
      "{'ll': '49.282730,-123.120735', 'radius': '1000', 'categoryId': '4bf58dd8d48988d1c4941735'}\n",
      "\n",
      "\n",
      "92 vancouver None bars\n",
      "{'latitude': '49.282730', 'longitude': '-123.120735', 'radius': '1000', 'categories': 'bars'}\n",
      "{'ll': '49.282730,-123.120735', 'radius': '1000', 'categoryId': '4bf58dd8d48988d116941735'}\n",
      "\n",
      "\n",
      "93 vancouver None breweries\n",
      "{'latitude': '49.282730', 'longitude': '-123.120735', 'radius': '1000', 'categories': 'breweries'}\n",
      "{'ll': '49.282730,-123.120735', 'radius': '1000', 'categoryId': '50327c8591d4c4b30a586d5d'}\n",
      "\n",
      "\n",
      "94 vancouver None lawyers\n",
      "{'latitude': '49.282730', 'longitude': '-123.120735', 'radius': '1000', 'categories': 'lawyers'}\n",
      "{'ll': '49.282730,-123.120735', 'radius': '1000', 'categoryId': '52f2ab2ebcbc57f1066b8b3f'}\n",
      "\n",
      "\n",
      "95 vancouver None airports\n",
      "{'latitude': '49.282730', 'longitude': '-123.120735', 'radius': '1000', 'categories': 'airports'}\n",
      "{'ll': '49.282730,-123.120735', 'radius': '1000', 'categoryId': '4bf58dd8d48988d1ed931735'}\n",
      "\n",
      "\n",
      "96 vancouver None hotels\n",
      "{'latitude': '49.282730', 'longitude': '-123.120735', 'radius': '1000', 'categories': 'hotels'}\n",
      "{'ll': '49.282730,-123.120735', 'radius': '1000', 'categoryId': '4bf58dd8d48988d1fa931735'}\n",
      "\n",
      "\n"
     ]
    }
   ],
   "source": [
    "counter = 1\n",
    "\n",
    "# for each search combo\n",
    "for i in range(len(res)):\n",
    "        \n",
    "    # unpack combo into arguements\n",
    "    city, query, category = res[i]\n",
    "    \n",
    "    # visually enumarate which search (of 96) we are on, followed by the arguements used\n",
    "    print(counter, city, query, category)\n",
    "    \n",
    "    # run API calls and generate JSONs\n",
    "    out = get_data(city, query, category) # out = yelp_json, fsq_json, city, query, category\n",
    "    yelp_j = out[0], out[2], out[3], out[4] \n",
    "    fsq_j = out[1], out[2], out[3], out[4] \n",
    "    \n",
    "    # save JSONs to their lists\n",
    "    yelp_jsons.append(yelp_j)\n",
    "    fsq_jsons.append(fsq_j)\n",
    "    \n",
    "    # create dataframes from json files\n",
    "    out = normalize_data(out)\n",
    "    \n",
    "    # save dataframes to their lists\n",
    "    yelp_dfs.append(out[0])\n",
    "    fsq_dfs.append(out[1])\n",
    "    \n",
    "    # increment counter + 1, repeat until all combos have been searched\n",
    "    counter+=1\n",
    "    print('\\n')"
   ]
  },
  {
   "cell_type": "code",
   "execution_count": 122,
   "id": "joined-customer",
   "metadata": {},
   "outputs": [
    {
     "data": {
      "text/plain": [
       "True"
      ]
     },
     "execution_count": 122,
     "metadata": {},
     "output_type": "execute_result"
    }
   ],
   "source": [
    "len(res) == len(yelp_jsons) == len(fsq_jsons) == len(yelp_dfs) == len(fsq_dfs) # all run & saved!"
   ]
  },
  {
   "cell_type": "code",
   "execution_count": 123,
   "id": "configured-quality",
   "metadata": {},
   "outputs": [],
   "source": [
    "# Save our valuable JSONs to Files:\n",
    "with open('yelp_jsons.txt', 'w') as outfile: ## write jsons to file\n",
    "    json.dump(yelp_jsons, outfile)\n",
    "with open('fsq_jsons.txt', 'w') as outfile: ## write jsons to file\n",
    "    json.dump(fsq_jsons, outfile)"
   ]
  },
  {
   "cell_type": "code",
   "execution_count": 124,
   "id": "awful-contractor",
   "metadata": {},
   "outputs": [],
   "source": [
    "# merge created dataframes\n",
    "yelp_master = pd.concat(yelp_dfs)\n",
    "fsq_master = pd.concat(fsq_dfs)"
   ]
  },
  {
   "cell_type": "code",
   "execution_count": 126,
   "id": "confirmed-vegetation",
   "metadata": {},
   "outputs": [
    {
     "name": "stdout",
     "output_type": "stream",
     "text": [
      "1173 1216\n"
     ]
    }
   ],
   "source": [
    "# how long is each dataframe?\n",
    "print(len(yelp_master), len(fsq_master))"
   ]
  },
  {
   "cell_type": "code",
   "execution_count": 133,
   "id": "weighted-spouse",
   "metadata": {},
   "outputs": [
    {
     "data": {
      "text/html": [
       "<div>\n",
       "<style scoped>\n",
       "    .dataframe tbody tr th:only-of-type {\n",
       "        vertical-align: middle;\n",
       "    }\n",
       "\n",
       "    .dataframe tbody tr th {\n",
       "        vertical-align: top;\n",
       "    }\n",
       "\n",
       "    .dataframe thead th {\n",
       "        text-align: right;\n",
       "    }\n",
       "</style>\n",
       "<table border=\"1\" class=\"dataframe\">\n",
       "  <thead>\n",
       "    <tr style=\"text-align: right;\">\n",
       "      <th></th>\n",
       "      <th>yelp_bus_id</th>\n",
       "      <th>venue</th>\n",
       "      <th>latitude</th>\n",
       "      <th>longitude</th>\n",
       "      <th>distance</th>\n",
       "      <th>city</th>\n",
       "      <th>source</th>\n",
       "      <th>query</th>\n",
       "      <th>category</th>\n",
       "    </tr>\n",
       "  </thead>\n",
       "  <tbody>\n",
       "    <tr>\n",
       "      <th>0</th>\n",
       "      <td>LD40feOYdj_dOcYN7hRhhw</td>\n",
       "      <td>Anvil Centre</td>\n",
       "      <td>49.201501</td>\n",
       "      <td>-122.911348</td>\n",
       "      <td>462.557651</td>\n",
       "      <td>new westminster</td>\n",
       "      <td>yelp</td>\n",
       "      <td>museums</td>\n",
       "      <td>museums</td>\n",
       "    </tr>\n",
       "    <tr>\n",
       "      <th>3</th>\n",
       "      <td>J7o-oykZz6bbq7jmfm4wzQ</td>\n",
       "      <td>Irving House</td>\n",
       "      <td>49.207882</td>\n",
       "      <td>-122.906235</td>\n",
       "      <td>418.95253</td>\n",
       "      <td>new westminster</td>\n",
       "      <td>yelp</td>\n",
       "      <td>museums</td>\n",
       "      <td>museums</td>\n",
       "    </tr>\n",
       "    <tr>\n",
       "      <th>5</th>\n",
       "      <td>ABw5g-La8fRWPV-7JSpyTw</td>\n",
       "      <td>The Fraser River Discovery Centre</td>\n",
       "      <td>49.200296</td>\n",
       "      <td>-122.911552</td>\n",
       "      <td>584.607287</td>\n",
       "      <td>new westminster</td>\n",
       "      <td>yelp</td>\n",
       "      <td>museums</td>\n",
       "      <td>museums</td>\n",
       "    </tr>\n",
       "    <tr>\n",
       "      <th>7</th>\n",
       "      <td>ByfeSlhDDEngYlEXcR-71A</td>\n",
       "      <td>New Westminster Museum and Archives</td>\n",
       "      <td>49.201501</td>\n",
       "      <td>-122.911348</td>\n",
       "      <td>462.557651</td>\n",
       "      <td>new westminster</td>\n",
       "      <td>yelp</td>\n",
       "      <td>museums</td>\n",
       "      <td>museums</td>\n",
       "    </tr>\n",
       "    <tr>\n",
       "      <th>8</th>\n",
       "      <td>zJU7VoaU8i1xpPw_Qmxaqw</td>\n",
       "      <td>New Westminster Museum and Archives</td>\n",
       "      <td>49.207922</td>\n",
       "      <td>-122.906401</td>\n",
       "      <td>411.77859</td>\n",
       "      <td>new westminster</td>\n",
       "      <td>yelp</td>\n",
       "      <td>museums</td>\n",
       "      <td>museums</td>\n",
       "    </tr>\n",
       "  </tbody>\n",
       "</table>\n",
       "</div>"
      ],
      "text/plain": [
       "              yelp_bus_id                                venue   latitude  \\\n",
       "0  LD40feOYdj_dOcYN7hRhhw                         Anvil Centre  49.201501   \n",
       "3  J7o-oykZz6bbq7jmfm4wzQ                         Irving House  49.207882   \n",
       "5  ABw5g-La8fRWPV-7JSpyTw    The Fraser River Discovery Centre  49.200296   \n",
       "7  ByfeSlhDDEngYlEXcR-71A  New Westminster Museum and Archives  49.201501   \n",
       "8  zJU7VoaU8i1xpPw_Qmxaqw  New Westminster Museum and Archives  49.207922   \n",
       "\n",
       "    longitude    distance             city source    query category  \n",
       "0 -122.911348  462.557651  new westminster   yelp  museums  museums  \n",
       "3 -122.906235   418.95253  new westminster   yelp  museums  museums  \n",
       "5 -122.911552  584.607287  new westminster   yelp  museums  museums  \n",
       "7 -122.911348  462.557651  new westminster   yelp  museums  museums  \n",
       "8 -122.906401   411.77859  new westminster   yelp  museums  museums  "
      ]
     },
     "execution_count": 133,
     "metadata": {},
     "output_type": "execute_result"
    }
   ],
   "source": [
    "yelp_master.head()"
   ]
  },
  {
   "cell_type": "code",
   "execution_count": 136,
   "id": "confident-ranking",
   "metadata": {},
   "outputs": [
    {
     "data": {
      "text/html": [
       "<div>\n",
       "<style scoped>\n",
       "    .dataframe tbody tr th:only-of-type {\n",
       "        vertical-align: middle;\n",
       "    }\n",
       "\n",
       "    .dataframe tbody tr th {\n",
       "        vertical-align: top;\n",
       "    }\n",
       "\n",
       "    .dataframe thead th {\n",
       "        text-align: right;\n",
       "    }\n",
       "</style>\n",
       "<table border=\"1\" class=\"dataframe\">\n",
       "  <thead>\n",
       "    <tr style=\"text-align: right;\">\n",
       "      <th></th>\n",
       "      <th>fsq_bus_id</th>\n",
       "      <th>venue</th>\n",
       "      <th>latitude</th>\n",
       "      <th>longitude</th>\n",
       "      <th>distance</th>\n",
       "      <th>city</th>\n",
       "      <th>source</th>\n",
       "      <th>query</th>\n",
       "      <th>category</th>\n",
       "    </tr>\n",
       "  </thead>\n",
       "  <tbody>\n",
       "    <tr>\n",
       "      <th>0</th>\n",
       "      <td>4e879627f9f4b60d1a6dcef4</td>\n",
       "      <td>Zoomies, Dog Daycare and Training Centre</td>\n",
       "      <td>49.202584</td>\n",
       "      <td>-122.913966</td>\n",
       "      <td>411</td>\n",
       "      <td>new westminster</td>\n",
       "      <td>fsq</td>\n",
       "      <td>zoos</td>\n",
       "      <td>NaN</td>\n",
       "    </tr>\n",
       "    <tr>\n",
       "      <th>1</th>\n",
       "      <td>51435bade4b03a1cf03b53cd</td>\n",
       "      <td>Zoom Hair Studio</td>\n",
       "      <td>49.203674</td>\n",
       "      <td>-122.908447</td>\n",
       "      <td>291</td>\n",
       "      <td>new westminster</td>\n",
       "      <td>fsq</td>\n",
       "      <td>zoos</td>\n",
       "      <td>NaN</td>\n",
       "    </tr>\n",
       "    <tr>\n",
       "      <th>0</th>\n",
       "      <td>4baffc7ff964a52041303ce3</td>\n",
       "      <td>Stefano's Restaurant</td>\n",
       "      <td>49.205335</td>\n",
       "      <td>-122.90419</td>\n",
       "      <td>494</td>\n",
       "      <td>new westminster</td>\n",
       "      <td>fsq</td>\n",
       "      <td>restaurants</td>\n",
       "      <td>NaN</td>\n",
       "    </tr>\n",
       "    <tr>\n",
       "      <th>1</th>\n",
       "      <td>4b5545ebf964a5207ee027e3</td>\n",
       "      <td>The BoatHouse Restaurant</td>\n",
       "      <td>49.199736</td>\n",
       "      <td>-122.912409</td>\n",
       "      <td>674</td>\n",
       "      <td>new westminster</td>\n",
       "      <td>fsq</td>\n",
       "      <td>restaurants</td>\n",
       "      <td>NaN</td>\n",
       "    </tr>\n",
       "    <tr>\n",
       "      <th>2</th>\n",
       "      <td>4c65fbd88e9120a18bfbd664</td>\n",
       "      <td>The Old Bavaria Haus Restaurant</td>\n",
       "      <td>49.208352</td>\n",
       "      <td>-122.914272</td>\n",
       "      <td>379</td>\n",
       "      <td>new westminster</td>\n",
       "      <td>fsq</td>\n",
       "      <td>restaurants</td>\n",
       "      <td>NaN</td>\n",
       "    </tr>\n",
       "  </tbody>\n",
       "</table>\n",
       "</div>"
      ],
      "text/plain": [
       "                 fsq_bus_id                                     venue  \\\n",
       "0  4e879627f9f4b60d1a6dcef4  Zoomies, Dog Daycare and Training Centre   \n",
       "1  51435bade4b03a1cf03b53cd                          Zoom Hair Studio   \n",
       "0  4baffc7ff964a52041303ce3                      Stefano's Restaurant   \n",
       "1  4b5545ebf964a5207ee027e3                  The BoatHouse Restaurant   \n",
       "2  4c65fbd88e9120a18bfbd664           The Old Bavaria Haus Restaurant   \n",
       "\n",
       "    latitude   longitude distance             city source        query  \\\n",
       "0  49.202584 -122.913966      411  new westminster    fsq         zoos   \n",
       "1  49.203674 -122.908447      291  new westminster    fsq         zoos   \n",
       "0  49.205335  -122.90419      494  new westminster    fsq  restaurants   \n",
       "1  49.199736 -122.912409      674  new westminster    fsq  restaurants   \n",
       "2  49.208352 -122.914272      379  new westminster    fsq  restaurants   \n",
       "\n",
       "  category  \n",
       "0      NaN  \n",
       "1      NaN  \n",
       "0      NaN  \n",
       "1      NaN  \n",
       "2      NaN  "
      ]
     },
     "execution_count": 136,
     "metadata": {},
     "output_type": "execute_result"
    }
   ],
   "source": [
    "fsq_master.head()"
   ]
  },
  {
   "cell_type": "code",
   "execution_count": 130,
   "id": "excess-abraham",
   "metadata": {},
   "outputs": [
    {
     "data": {
      "text/plain": [
       "True"
      ]
     },
     "execution_count": 130,
     "metadata": {},
     "output_type": "execute_result"
    }
   ],
   "source": [
    "len(yelp_master.columns) == len(fsq_master.columns) # arranged a bit different but same number of cols"
   ]
  },
  {
   "cell_type": "code",
   "execution_count": 132,
   "id": "circular-lincoln",
   "metadata": {
    "collapsed": true,
    "jupyter": {
     "outputs_hidden": true
    }
   },
   "outputs": [
    {
     "ename": "KeyError",
     "evalue": "\"['y_cat'] not found in axis\"",
     "output_type": "error",
     "traceback": [
      "\u001b[0;31m---------------------------------------------------------------------------\u001b[0m",
      "\u001b[0;31mKeyError\u001b[0m                                  Traceback (most recent call last)",
      "\u001b[0;32m<ipython-input-132-fa7c2f15b19b>\u001b[0m in \u001b[0;36m<module>\u001b[0;34m\u001b[0m\n\u001b[1;32m      1\u001b[0m \u001b[0;31m# rearrange columns to align between dfs & drop cols we won't be using for analysis\u001b[0m\u001b[0;34m\u001b[0m\u001b[0;34m\u001b[0m\u001b[0;34m\u001b[0m\u001b[0m\n\u001b[0;32m----> 2\u001b[0;31m \u001b[0myelp_master\u001b[0m\u001b[0;34m.\u001b[0m\u001b[0mdrop\u001b[0m\u001b[0;34m(\u001b[0m\u001b[0mcolumns\u001b[0m\u001b[0;34m=\u001b[0m\u001b[0;34m'y_cat'\u001b[0m\u001b[0;34m,\u001b[0m \u001b[0minplace\u001b[0m\u001b[0;34m=\u001b[0m\u001b[0;32mTrue\u001b[0m\u001b[0;34m)\u001b[0m\u001b[0;34m\u001b[0m\u001b[0;34m\u001b[0m\u001b[0m\n\u001b[0m\u001b[1;32m      3\u001b[0m \u001b[0mfsq_master\u001b[0m\u001b[0;34m.\u001b[0m\u001b[0mdrop\u001b[0m\u001b[0;34m(\u001b[0m\u001b[0mcolumns\u001b[0m\u001b[0;34m=\u001b[0m\u001b[0;34m'f_cat'\u001b[0m\u001b[0;34m,\u001b[0m \u001b[0minplace\u001b[0m\u001b[0;34m=\u001b[0m\u001b[0;32mTrue\u001b[0m\u001b[0;34m)\u001b[0m\u001b[0;34m\u001b[0m\u001b[0;34m\u001b[0m\u001b[0m\n\u001b[1;32m      4\u001b[0m \u001b[0mfsq_master\u001b[0m \u001b[0;34m=\u001b[0m \u001b[0mfsq_master\u001b[0m\u001b[0;34m[\u001b[0m\u001b[0;34m[\u001b[0m\u001b[0;34m'fsq_bus_id'\u001b[0m\u001b[0;34m,\u001b[0m\u001b[0;34m'venue'\u001b[0m\u001b[0;34m,\u001b[0m\u001b[0;34m'latitude'\u001b[0m\u001b[0;34m,\u001b[0m\u001b[0;34m'longitude'\u001b[0m\u001b[0;34m,\u001b[0m\u001b[0;34m'distance'\u001b[0m\u001b[0;34m,\u001b[0m\u001b[0;34m'city'\u001b[0m\u001b[0;34m,\u001b[0m\u001b[0;34m'source'\u001b[0m\u001b[0;34m,\u001b[0m\u001b[0;34m'query'\u001b[0m\u001b[0;34m,\u001b[0m\u001b[0;34m'category'\u001b[0m\u001b[0;34m]\u001b[0m\u001b[0;34m]\u001b[0m\u001b[0;34m\u001b[0m\u001b[0;34m\u001b[0m\u001b[0m\n",
      "\u001b[0;32m~/miniconda3/envs/lhl/lib/python3.9/site-packages/pandas/core/frame.py\u001b[0m in \u001b[0;36mdrop\u001b[0;34m(self, labels, axis, index, columns, level, inplace, errors)\u001b[0m\n\u001b[1;32m   4306\u001b[0m                 \u001b[0mweight\u001b[0m  \u001b[0;36m1.0\u001b[0m     \u001b[0;36m0.8\u001b[0m\u001b[0;34m\u001b[0m\u001b[0;34m\u001b[0m\u001b[0m\n\u001b[1;32m   4307\u001b[0m         \"\"\"\n\u001b[0;32m-> 4308\u001b[0;31m         return super().drop(\n\u001b[0m\u001b[1;32m   4309\u001b[0m             \u001b[0mlabels\u001b[0m\u001b[0;34m=\u001b[0m\u001b[0mlabels\u001b[0m\u001b[0;34m,\u001b[0m\u001b[0;34m\u001b[0m\u001b[0;34m\u001b[0m\u001b[0m\n\u001b[1;32m   4310\u001b[0m             \u001b[0maxis\u001b[0m\u001b[0;34m=\u001b[0m\u001b[0maxis\u001b[0m\u001b[0;34m,\u001b[0m\u001b[0;34m\u001b[0m\u001b[0;34m\u001b[0m\u001b[0m\n",
      "\u001b[0;32m~/miniconda3/envs/lhl/lib/python3.9/site-packages/pandas/core/generic.py\u001b[0m in \u001b[0;36mdrop\u001b[0;34m(self, labels, axis, index, columns, level, inplace, errors)\u001b[0m\n\u001b[1;32m   4151\u001b[0m         \u001b[0;32mfor\u001b[0m \u001b[0maxis\u001b[0m\u001b[0;34m,\u001b[0m \u001b[0mlabels\u001b[0m \u001b[0;32min\u001b[0m \u001b[0maxes\u001b[0m\u001b[0;34m.\u001b[0m\u001b[0mitems\u001b[0m\u001b[0;34m(\u001b[0m\u001b[0;34m)\u001b[0m\u001b[0;34m:\u001b[0m\u001b[0;34m\u001b[0m\u001b[0;34m\u001b[0m\u001b[0m\n\u001b[1;32m   4152\u001b[0m             \u001b[0;32mif\u001b[0m \u001b[0mlabels\u001b[0m \u001b[0;32mis\u001b[0m \u001b[0;32mnot\u001b[0m \u001b[0;32mNone\u001b[0m\u001b[0;34m:\u001b[0m\u001b[0;34m\u001b[0m\u001b[0;34m\u001b[0m\u001b[0m\n\u001b[0;32m-> 4153\u001b[0;31m                 \u001b[0mobj\u001b[0m \u001b[0;34m=\u001b[0m \u001b[0mobj\u001b[0m\u001b[0;34m.\u001b[0m\u001b[0m_drop_axis\u001b[0m\u001b[0;34m(\u001b[0m\u001b[0mlabels\u001b[0m\u001b[0;34m,\u001b[0m \u001b[0maxis\u001b[0m\u001b[0;34m,\u001b[0m \u001b[0mlevel\u001b[0m\u001b[0;34m=\u001b[0m\u001b[0mlevel\u001b[0m\u001b[0;34m,\u001b[0m \u001b[0merrors\u001b[0m\u001b[0;34m=\u001b[0m\u001b[0merrors\u001b[0m\u001b[0;34m)\u001b[0m\u001b[0;34m\u001b[0m\u001b[0;34m\u001b[0m\u001b[0m\n\u001b[0m\u001b[1;32m   4154\u001b[0m \u001b[0;34m\u001b[0m\u001b[0m\n\u001b[1;32m   4155\u001b[0m         \u001b[0;32mif\u001b[0m \u001b[0minplace\u001b[0m\u001b[0;34m:\u001b[0m\u001b[0;34m\u001b[0m\u001b[0;34m\u001b[0m\u001b[0m\n",
      "\u001b[0;32m~/miniconda3/envs/lhl/lib/python3.9/site-packages/pandas/core/generic.py\u001b[0m in \u001b[0;36m_drop_axis\u001b[0;34m(self, labels, axis, level, errors)\u001b[0m\n\u001b[1;32m   4186\u001b[0m                 \u001b[0mnew_axis\u001b[0m \u001b[0;34m=\u001b[0m \u001b[0maxis\u001b[0m\u001b[0;34m.\u001b[0m\u001b[0mdrop\u001b[0m\u001b[0;34m(\u001b[0m\u001b[0mlabels\u001b[0m\u001b[0;34m,\u001b[0m \u001b[0mlevel\u001b[0m\u001b[0;34m=\u001b[0m\u001b[0mlevel\u001b[0m\u001b[0;34m,\u001b[0m \u001b[0merrors\u001b[0m\u001b[0;34m=\u001b[0m\u001b[0merrors\u001b[0m\u001b[0;34m)\u001b[0m\u001b[0;34m\u001b[0m\u001b[0;34m\u001b[0m\u001b[0m\n\u001b[1;32m   4187\u001b[0m             \u001b[0;32melse\u001b[0m\u001b[0;34m:\u001b[0m\u001b[0;34m\u001b[0m\u001b[0;34m\u001b[0m\u001b[0m\n\u001b[0;32m-> 4188\u001b[0;31m                 \u001b[0mnew_axis\u001b[0m \u001b[0;34m=\u001b[0m \u001b[0maxis\u001b[0m\u001b[0;34m.\u001b[0m\u001b[0mdrop\u001b[0m\u001b[0;34m(\u001b[0m\u001b[0mlabels\u001b[0m\u001b[0;34m,\u001b[0m \u001b[0merrors\u001b[0m\u001b[0;34m=\u001b[0m\u001b[0merrors\u001b[0m\u001b[0;34m)\u001b[0m\u001b[0;34m\u001b[0m\u001b[0;34m\u001b[0m\u001b[0m\n\u001b[0m\u001b[1;32m   4189\u001b[0m             \u001b[0mresult\u001b[0m \u001b[0;34m=\u001b[0m \u001b[0mself\u001b[0m\u001b[0;34m.\u001b[0m\u001b[0mreindex\u001b[0m\u001b[0;34m(\u001b[0m\u001b[0;34m**\u001b[0m\u001b[0;34m{\u001b[0m\u001b[0maxis_name\u001b[0m\u001b[0;34m:\u001b[0m \u001b[0mnew_axis\u001b[0m\u001b[0;34m}\u001b[0m\u001b[0;34m)\u001b[0m\u001b[0;34m\u001b[0m\u001b[0;34m\u001b[0m\u001b[0m\n\u001b[1;32m   4190\u001b[0m \u001b[0;34m\u001b[0m\u001b[0m\n",
      "\u001b[0;32m~/miniconda3/envs/lhl/lib/python3.9/site-packages/pandas/core/indexes/base.py\u001b[0m in \u001b[0;36mdrop\u001b[0;34m(self, labels, errors)\u001b[0m\n\u001b[1;32m   5589\u001b[0m         \u001b[0;32mif\u001b[0m \u001b[0mmask\u001b[0m\u001b[0;34m.\u001b[0m\u001b[0many\u001b[0m\u001b[0;34m(\u001b[0m\u001b[0;34m)\u001b[0m\u001b[0;34m:\u001b[0m\u001b[0;34m\u001b[0m\u001b[0;34m\u001b[0m\u001b[0m\n\u001b[1;32m   5590\u001b[0m             \u001b[0;32mif\u001b[0m \u001b[0merrors\u001b[0m \u001b[0;34m!=\u001b[0m \u001b[0;34m\"ignore\"\u001b[0m\u001b[0;34m:\u001b[0m\u001b[0;34m\u001b[0m\u001b[0;34m\u001b[0m\u001b[0m\n\u001b[0;32m-> 5591\u001b[0;31m                 \u001b[0;32mraise\u001b[0m \u001b[0mKeyError\u001b[0m\u001b[0;34m(\u001b[0m\u001b[0;34mf\"{labels[mask]} not found in axis\"\u001b[0m\u001b[0;34m)\u001b[0m\u001b[0;34m\u001b[0m\u001b[0;34m\u001b[0m\u001b[0m\n\u001b[0m\u001b[1;32m   5592\u001b[0m             \u001b[0mindexer\u001b[0m \u001b[0;34m=\u001b[0m \u001b[0mindexer\u001b[0m\u001b[0;34m[\u001b[0m\u001b[0;34m~\u001b[0m\u001b[0mmask\u001b[0m\u001b[0;34m]\u001b[0m\u001b[0;34m\u001b[0m\u001b[0;34m\u001b[0m\u001b[0m\n\u001b[1;32m   5593\u001b[0m         \u001b[0;32mreturn\u001b[0m \u001b[0mself\u001b[0m\u001b[0;34m.\u001b[0m\u001b[0mdelete\u001b[0m\u001b[0;34m(\u001b[0m\u001b[0mindexer\u001b[0m\u001b[0;34m)\u001b[0m\u001b[0;34m\u001b[0m\u001b[0;34m\u001b[0m\u001b[0m\n",
      "\u001b[0;31mKeyError\u001b[0m: \"['y_cat'] not found in axis\""
     ]
    }
   ],
   "source": [
    "# drop cols we won't be using for analysis\n",
    "yelp_master.drop(columns='y_cat', inplace=True)\n",
    "fsq_master.drop(columns='f_cat', inplace=True)"
   ]
  },
  {
   "cell_type": "code",
   "execution_count": 135,
   "id": "adjustable-thanksgiving",
   "metadata": {},
   "outputs": [],
   "source": [
    "# rearrange columns to align between dfs\n",
    "fsq_master = fsq_master[['fsq_bus_id','venue','latitude','longitude','distance','city','source','query','category']]"
   ]
  },
  {
   "cell_type": "code",
   "execution_count": 137,
   "id": "purple-jersey",
   "metadata": {},
   "outputs": [],
   "source": [
    "# save dataframes to csv\n",
    "yelp_master.to_csv('./yelp_master.csv')\n",
    "fsq_master.to_csv('./fsq_master.csv')"
   ]
  },
  {
   "cell_type": "markdown",
   "id": "terminal-hungary",
   "metadata": {},
   "source": [
    "#### YELP: Add rating and review count"
   ]
  },
  {
   "cell_type": "code",
   "execution_count": 138,
   "id": "solved-contemporary",
   "metadata": {},
   "outputs": [],
   "source": [
    "# list of all unique business ids\n",
    "id_yelp = yelp_master['yelp_bus_id'].drop_duplicates().astype(str).tolist()"
   ]
  },
  {
   "cell_type": "code",
   "execution_count": 139,
   "id": "wrong-denver",
   "metadata": {},
   "outputs": [
    {
     "data": {
      "text/plain": [
       "607"
      ]
     },
     "execution_count": 139,
     "metadata": {},
     "output_type": "execute_result"
    }
   ],
   "source": [
    "len(id_yelp)"
   ]
  },
  {
   "cell_type": "code",
   "execution_count": 140,
   "id": "conscious-retreat",
   "metadata": {},
   "outputs": [],
   "source": [
    "# retrieve detailed JSONS with business ratings and reviews \n",
    "yelp_details = [re.get(f'https://api.yelp.com/v3/businesses/{ID}',\n",
    "             headers={'Authorization':f'Bearer {yelp_key}'}).json() for ID in id_yelp]"
   ]
  },
  {
   "cell_type": "code",
   "execution_count": 141,
   "id": "respected-buddy",
   "metadata": {},
   "outputs": [],
   "source": [
    "# save detailed JSONs to file\n",
    "with open('yelp_json_details.txt', 'w') as outfile:\n",
    "    json.dump(yelp_details, outfile)"
   ]
  },
  {
   "cell_type": "code",
   "execution_count": 142,
   "id": "tender-television",
   "metadata": {},
   "outputs": [
    {
     "data": {
      "application/json": {
       "alias": "anvil-centre-new-westminster",
       "categories": [
        {
         "alias": "venues",
         "title": "Venues & Event Spaces"
        },
        {
         "alias": "museums",
         "title": "Museums"
        },
        {
         "alias": "theater",
         "title": "Performing Arts"
        }
       ],
       "coordinates": {
        "latitude": 49.2015013,
        "longitude": -122.911348
       },
       "display_phone": "+1 604-515-3830",
       "hours": [
        {
         "hours_type": "REGULAR",
         "is_open_now": false,
         "open": [
          {
           "day": 0,
           "end": "1700",
           "is_overnight": false,
           "start": "0800"
          },
          {
           "day": 1,
           "end": "1700",
           "is_overnight": false,
           "start": "0800"
          },
          {
           "day": 2,
           "end": "1700",
           "is_overnight": false,
           "start": "0800"
          },
          {
           "day": 3,
           "end": "1700",
           "is_overnight": false,
           "start": "0800"
          },
          {
           "day": 4,
           "end": "1700",
           "is_overnight": false,
           "start": "0800"
          },
          {
           "day": 5,
           "end": "1700",
           "is_overnight": false,
           "start": "0800"
          },
          {
           "day": 6,
           "end": "1700",
           "is_overnight": false,
           "start": "0800"
          }
         ]
        }
       ],
       "id": "LD40feOYdj_dOcYN7hRhhw",
       "image_url": "https://s3-media3.fl.yelpcdn.com/bphoto/LAFc4buhU4X5HQJrjQO83A/o.jpg",
       "is_claimed": true,
       "is_closed": false,
       "location": {
        "address1": "777 Columbia Street",
        "address2": "",
        "address3": "",
        "city": "New Westminster",
        "country": "CA",
        "cross_streets": "",
        "display_address": [
         "777 Columbia Street",
         "New Westminster, BC V3M 1B6",
         "Canada"
        ],
        "state": "BC",
        "zip_code": "V3M 1B6"
       },
       "name": "Anvil Centre",
       "phone": "+16045153830",
       "photos": [
        "https://s3-media3.fl.yelpcdn.com/bphoto/LAFc4buhU4X5HQJrjQO83A/o.jpg",
        "https://s3-media2.fl.yelpcdn.com/bphoto/Uhjj5Q0-E9AENjy6HptF1w/o.jpg",
        "https://s3-media4.fl.yelpcdn.com/bphoto/mDsUoVV46v_55OEN80cvFA/o.jpg"
       ],
       "rating": 4.5,
       "review_count": 4,
       "transactions": [],
       "url": "https://www.yelp.com/biz/anvil-centre-new-westminster?adjust_creative=moGbP_7iayLhNxyo8EXvFA&utm_campaign=yelp_api_v3&utm_medium=api_v3_business_lookup&utm_source=moGbP_7iayLhNxyo8EXvFA"
      },
      "text/plain": [
       "<IPython.core.display.JSON object>"
      ]
     },
     "execution_count": 142,
     "metadata": {
      "application/json": {
       "expanded": false,
       "root": "root"
      }
     },
     "output_type": "execute_result"
    }
   ],
   "source": [
    "# view a JSON file\n",
    "JSON(yelp_details[0])"
   ]
  },
  {
   "cell_type": "code",
   "execution_count": 143,
   "id": "asian-donor",
   "metadata": {},
   "outputs": [],
   "source": [
    "# Normalize all JSONs into dataframes\n",
    "dataframes = [pd.json_normalize(data=yelp_details[i]) for i in range(len(yelp_details))]"
   ]
  },
  {
   "cell_type": "code",
   "execution_count": 144,
   "id": "motivated-power",
   "metadata": {},
   "outputs": [],
   "source": [
    "# create master dataframe of detailed JSON data\n",
    "complete_df = pd.concat(dataframes)"
   ]
  },
  {
   "cell_type": "code",
   "execution_count": 146,
   "id": "radical-cylinder",
   "metadata": {},
   "outputs": [],
   "source": [
    "# merge desired columns from detailed dataframe to master\n",
    "yelp_master_A = pd.merge(yelp_master, complete_df[['id','review_count','rating']], how='left', left_on='yelp_bus_id', right_on='id').drop(columns='id')"
   ]
  },
  {
   "cell_type": "code",
   "execution_count": 147,
   "id": "brown-height",
   "metadata": {},
   "outputs": [
    {
     "data": {
      "text/html": [
       "<div>\n",
       "<style scoped>\n",
       "    .dataframe tbody tr th:only-of-type {\n",
       "        vertical-align: middle;\n",
       "    }\n",
       "\n",
       "    .dataframe tbody tr th {\n",
       "        vertical-align: top;\n",
       "    }\n",
       "\n",
       "    .dataframe thead th {\n",
       "        text-align: right;\n",
       "    }\n",
       "</style>\n",
       "<table border=\"1\" class=\"dataframe\">\n",
       "  <thead>\n",
       "    <tr style=\"text-align: right;\">\n",
       "      <th></th>\n",
       "      <th>yelp_bus_id</th>\n",
       "      <th>venue</th>\n",
       "      <th>latitude</th>\n",
       "      <th>longitude</th>\n",
       "      <th>distance</th>\n",
       "      <th>city</th>\n",
       "      <th>source</th>\n",
       "      <th>query</th>\n",
       "      <th>category</th>\n",
       "      <th>review_count</th>\n",
       "      <th>rating</th>\n",
       "    </tr>\n",
       "  </thead>\n",
       "  <tbody>\n",
       "    <tr>\n",
       "      <th>0</th>\n",
       "      <td>LD40feOYdj_dOcYN7hRhhw</td>\n",
       "      <td>Anvil Centre</td>\n",
       "      <td>49.201501</td>\n",
       "      <td>-122.911348</td>\n",
       "      <td>462.557651</td>\n",
       "      <td>new westminster</td>\n",
       "      <td>yelp</td>\n",
       "      <td>museums</td>\n",
       "      <td>museums</td>\n",
       "      <td>4</td>\n",
       "      <td>4.5</td>\n",
       "    </tr>\n",
       "    <tr>\n",
       "      <th>1</th>\n",
       "      <td>J7o-oykZz6bbq7jmfm4wzQ</td>\n",
       "      <td>Irving House</td>\n",
       "      <td>49.207882</td>\n",
       "      <td>-122.906235</td>\n",
       "      <td>418.95253</td>\n",
       "      <td>new westminster</td>\n",
       "      <td>yelp</td>\n",
       "      <td>museums</td>\n",
       "      <td>museums</td>\n",
       "      <td>4</td>\n",
       "      <td>5.0</td>\n",
       "    </tr>\n",
       "    <tr>\n",
       "      <th>2</th>\n",
       "      <td>ABw5g-La8fRWPV-7JSpyTw</td>\n",
       "      <td>The Fraser River Discovery Centre</td>\n",
       "      <td>49.200296</td>\n",
       "      <td>-122.911552</td>\n",
       "      <td>584.607287</td>\n",
       "      <td>new westminster</td>\n",
       "      <td>yelp</td>\n",
       "      <td>museums</td>\n",
       "      <td>museums</td>\n",
       "      <td>1</td>\n",
       "      <td>5.0</td>\n",
       "    </tr>\n",
       "    <tr>\n",
       "      <th>3</th>\n",
       "      <td>ByfeSlhDDEngYlEXcR-71A</td>\n",
       "      <td>New Westminster Museum and Archives</td>\n",
       "      <td>49.201501</td>\n",
       "      <td>-122.911348</td>\n",
       "      <td>462.557651</td>\n",
       "      <td>new westminster</td>\n",
       "      <td>yelp</td>\n",
       "      <td>museums</td>\n",
       "      <td>museums</td>\n",
       "      <td>1</td>\n",
       "      <td>3.0</td>\n",
       "    </tr>\n",
       "    <tr>\n",
       "      <th>4</th>\n",
       "      <td>zJU7VoaU8i1xpPw_Qmxaqw</td>\n",
       "      <td>New Westminster Museum and Archives</td>\n",
       "      <td>49.207922</td>\n",
       "      <td>-122.906401</td>\n",
       "      <td>411.77859</td>\n",
       "      <td>new westminster</td>\n",
       "      <td>yelp</td>\n",
       "      <td>museums</td>\n",
       "      <td>museums</td>\n",
       "      <td>1</td>\n",
       "      <td>3.0</td>\n",
       "    </tr>\n",
       "  </tbody>\n",
       "</table>\n",
       "</div>"
      ],
      "text/plain": [
       "              yelp_bus_id                                venue   latitude  \\\n",
       "0  LD40feOYdj_dOcYN7hRhhw                         Anvil Centre  49.201501   \n",
       "1  J7o-oykZz6bbq7jmfm4wzQ                         Irving House  49.207882   \n",
       "2  ABw5g-La8fRWPV-7JSpyTw    The Fraser River Discovery Centre  49.200296   \n",
       "3  ByfeSlhDDEngYlEXcR-71A  New Westminster Museum and Archives  49.201501   \n",
       "4  zJU7VoaU8i1xpPw_Qmxaqw  New Westminster Museum and Archives  49.207922   \n",
       "\n",
       "    longitude    distance             city source    query category  \\\n",
       "0 -122.911348  462.557651  new westminster   yelp  museums  museums   \n",
       "1 -122.906235   418.95253  new westminster   yelp  museums  museums   \n",
       "2 -122.911552  584.607287  new westminster   yelp  museums  museums   \n",
       "3 -122.911348  462.557651  new westminster   yelp  museums  museums   \n",
       "4 -122.906401   411.77859  new westminster   yelp  museums  museums   \n",
       "\n",
       "   review_count  rating  \n",
       "0             4     4.5  \n",
       "1             4     5.0  \n",
       "2             1     5.0  \n",
       "3             1     3.0  \n",
       "4             1     3.0  "
      ]
     },
     "execution_count": 147,
     "metadata": {},
     "output_type": "execute_result"
    }
   ],
   "source": [
    "#check dataframe\n",
    "yelp_master_A.head()"
   ]
  },
  {
   "cell_type": "code",
   "execution_count": 149,
   "id": "sticky-anthropology",
   "metadata": {},
   "outputs": [
    {
     "data": {
      "text/plain": [
       "True"
      ]
     },
     "execution_count": 149,
     "metadata": {},
     "output_type": "execute_result"
    }
   ],
   "source": [
    "len(yelp_master_A) == len(yelp_master) # check to make sure no data was lost"
   ]
  },
  {
   "cell_type": "code",
   "execution_count": 162,
   "id": "social-queensland",
   "metadata": {},
   "outputs": [
    {
     "name": "stdout",
     "output_type": "stream",
     "text": [
      "False\n",
      "False\n"
     ]
    }
   ],
   "source": [
    "# check for missing values\n",
    "print(yelp_master_A['review_count'].isnull().values.any())\n",
    "print(yelp_master_A['rating'].isnull().values.any())"
   ]
  },
  {
   "cell_type": "code",
   "execution_count": 165,
   "id": "prescription-south",
   "metadata": {},
   "outputs": [
    {
     "name": "stdout",
     "output_type": "stream",
     "text": [
      "662       1\n",
      "134       1\n",
      "135       1\n",
      "445       1\n",
      "633       1\n",
      "       ... \n",
      "563    2904\n",
      "583    2904\n",
      "777    2904\n",
      "463    6136\n",
      "449    6268\n",
      "Name: review_count, Length: 1173, dtype: int64\n",
      "345     1.0\n",
      "197     1.0\n",
      "374     1.0\n",
      "717     1.0\n",
      "448     1.0\n",
      "       ... \n",
      "167     5.0\n",
      "168     5.0\n",
      "181     5.0\n",
      "992     5.0\n",
      "1012    5.0\n",
      "Name: rating, Length: 1173, dtype: float64\n"
     ]
    }
   ],
   "source": [
    "# check contents\n",
    "print(yelp_master_A['review_count'].sort_values())\n",
    "print(yelp_master_A['rating'].sort_values())"
   ]
  },
  {
   "cell_type": "code",
   "execution_count": 166,
   "id": "silver-phenomenon",
   "metadata": {},
   "outputs": [],
   "source": [
    "# save resulting master dataframe to file\n",
    "yelp_master_A.to_csv('./yelp_master_A.csv')"
   ]
  },
  {
   "cell_type": "markdown",
   "id": "photographic-spine",
   "metadata": {},
   "source": [
    "#### FSQ: Adding review count and ratings from FSQ is more challenging, so first I will store our current dataframes in a SQLite database."
   ]
  },
  {
   "cell_type": "markdown",
   "id": "suspended-great",
   "metadata": {},
   "source": [
    "## Setup SQLite Database"
   ]
  },
  {
   "cell_type": "code",
   "execution_count": 1,
   "id": "daily-summary",
   "metadata": {},
   "outputs": [],
   "source": [
    "import sqlite3\n",
    "from sqlite3 import Error\n",
    "\n",
    "def create_connection(path):\n",
    "    connection = None\n",
    "    try:\n",
    "        connection = sqlite3.connect(path)\n",
    "        print(\"Connection to SQLite DB successful\")\n",
    "    except Error as e:\n",
    "        print(f\"The error '{e}' occurred\")\n",
    "\n",
    "    return connection"
   ]
  },
  {
   "cell_type": "code",
   "execution_count": 2,
   "id": "after-ireland",
   "metadata": {},
   "outputs": [
    {
     "name": "stdout",
     "output_type": "stream",
     "text": [
      "Connection to SQLite DB successful\n"
     ]
    }
   ],
   "source": [
    "connection = create_connection(\"./sm_app.sqlite\")"
   ]
  },
  {
   "cell_type": "code",
   "execution_count": 169,
   "id": "confused-damage",
   "metadata": {},
   "outputs": [],
   "source": [
    "def execute_query(connection, query):\n",
    "    cursor = connection.cursor()\n",
    "    try:\n",
    "        cursor.execute(query)\n",
    "        connection.commit()\n",
    "        print(\"Query executed successfully\")\n",
    "    except Error as e:\n",
    "        print(f\"The error '{e}' occurred\")"
   ]
  },
  {
   "cell_type": "code",
   "execution_count": 170,
   "id": "passing-clearing",
   "metadata": {},
   "outputs": [],
   "source": [
    "def execute_read_query(connection, query):\n",
    "    cursor = connection.cursor()\n",
    "    result = None\n",
    "    try:\n",
    "        cursor.execute(query)\n",
    "        result = cursor.fetchall()\n",
    "        return result\n",
    "    except Error as e:\n",
    "        print(f\"The error '{e}' occurred\")"
   ]
  },
  {
   "cell_type": "code",
   "execution_count": 171,
   "id": "voluntary-directory",
   "metadata": {},
   "outputs": [],
   "source": [
    "# save dataframes to database\n",
    "yelp_master_A.to_sql('yelp', connection, if_exists='replace')"
   ]
  },
  {
   "cell_type": "code",
   "execution_count": 172,
   "id": "irish-official",
   "metadata": {},
   "outputs": [],
   "source": [
    "fsq_master.to_sql('fsq', connection, if_exists='replace')"
   ]
  },
  {
   "cell_type": "code",
   "execution_count": 179,
   "id": "unlikely-reception",
   "metadata": {},
   "outputs": [],
   "source": [
    "connection.close()"
   ]
  },
  {
   "cell_type": "code",
   "execution_count": 633,
   "id": "arabic-slovenia",
   "metadata": {},
   "outputs": [],
   "source": [
    "# create DB\n",
    "from sqlalchemy import create_engine"
   ]
  },
  {
   "cell_type": "markdown",
   "id": "prospective-chamber",
   "metadata": {},
   "source": [
    "# FSQ: Add Rating and Review Count\n",
    "A free Foursquare account can only make 50 requests a day to the premium endpoint: venues/VENUE_ID\n",
    "\n",
    "Therefore, I created 3 free FSQ accounts, and a function to send 50 get requests per account per day. Therefore I'll collect 150 JSON files per day (that's 1 JSON per unique business ID), until all 858 unique business IDs contained in our fsq dataframe have been accounted for.\n",
    "\n",
    "This will take 858/150 ~= 6 days.\n",
    "\n",
    "**See script created for this purpose called 'fsq_collect.py'**\n",
    "\n",
    "Once script done collecting data, the following is processed..."
   ]
  },
  {
   "cell_type": "code",
   "execution_count": 205,
   "id": "catholic-reality",
   "metadata": {},
   "outputs": [
    {
     "name": "stdout",
     "output_type": "stream",
     "text": [
      "Connection to SQLite DB successful\n"
     ]
    }
   ],
   "source": [
    "# establish sql connection\n",
    "connection = create_connection(\"./sm_app.sqlite\")"
   ]
  },
  {
   "cell_type": "code",
   "execution_count": 4,
   "id": "classified-woman",
   "metadata": {},
   "outputs": [],
   "source": [
    "# read in fsq dataframe\n",
    "fsq_master = pd.read_sql(\"SELECT * from fsq\", connection, index_col='index')"
   ]
  },
  {
   "cell_type": "code",
   "execution_count": 5,
   "id": "suspected-support",
   "metadata": {},
   "outputs": [],
   "source": [
    "# read in fsq details\n",
    "with open('fsq_details860.txt') as f:\n",
    "    fsq_jd = json.load(f)"
   ]
  },
  {
   "cell_type": "code",
   "execution_count": 6,
   "id": "desirable-jacob",
   "metadata": {},
   "outputs": [
    {
     "data": {
      "text/plain": [
       "860"
      ]
     },
     "execution_count": 6,
     "metadata": {},
     "output_type": "execute_result"
    }
   ],
   "source": [
    "len(fsq_jd)"
   ]
  },
  {
   "cell_type": "code",
   "execution_count": 7,
   "id": "acting-shopping",
   "metadata": {},
   "outputs": [
    {
     "data": {
      "text/plain": [
       "1216"
      ]
     },
     "execution_count": 7,
     "metadata": {},
     "output_type": "execute_result"
    }
   ],
   "source": [
    "# check read\n",
    "len(fsq_master)"
   ]
  },
  {
   "cell_type": "code",
   "execution_count": 8,
   "id": "weird-waterproof",
   "metadata": {},
   "outputs": [
    {
     "data": {
      "text/html": [
       "<div>\n",
       "<style scoped>\n",
       "    .dataframe tbody tr th:only-of-type {\n",
       "        vertical-align: middle;\n",
       "    }\n",
       "\n",
       "    .dataframe tbody tr th {\n",
       "        vertical-align: top;\n",
       "    }\n",
       "\n",
       "    .dataframe thead th {\n",
       "        text-align: right;\n",
       "    }\n",
       "</style>\n",
       "<table border=\"1\" class=\"dataframe\">\n",
       "  <thead>\n",
       "    <tr style=\"text-align: right;\">\n",
       "      <th></th>\n",
       "      <th>fsq_bus_id</th>\n",
       "      <th>venue</th>\n",
       "      <th>latitude</th>\n",
       "      <th>longitude</th>\n",
       "      <th>distance</th>\n",
       "      <th>city</th>\n",
       "      <th>source</th>\n",
       "      <th>query</th>\n",
       "      <th>category</th>\n",
       "    </tr>\n",
       "    <tr>\n",
       "      <th>index</th>\n",
       "      <th></th>\n",
       "      <th></th>\n",
       "      <th></th>\n",
       "      <th></th>\n",
       "      <th></th>\n",
       "      <th></th>\n",
       "      <th></th>\n",
       "      <th></th>\n",
       "      <th></th>\n",
       "    </tr>\n",
       "  </thead>\n",
       "  <tbody>\n",
       "    <tr>\n",
       "      <th>0</th>\n",
       "      <td>4e879627f9f4b60d1a6dcef4</td>\n",
       "      <td>Zoomies, Dog Daycare and Training Centre</td>\n",
       "      <td>49.202584</td>\n",
       "      <td>-122.913966</td>\n",
       "      <td>411</td>\n",
       "      <td>new westminster</td>\n",
       "      <td>fsq</td>\n",
       "      <td>zoos</td>\n",
       "      <td>None</td>\n",
       "    </tr>\n",
       "    <tr>\n",
       "      <th>1</th>\n",
       "      <td>51435bade4b03a1cf03b53cd</td>\n",
       "      <td>Zoom Hair Studio</td>\n",
       "      <td>49.203674</td>\n",
       "      <td>-122.908447</td>\n",
       "      <td>291</td>\n",
       "      <td>new westminster</td>\n",
       "      <td>fsq</td>\n",
       "      <td>zoos</td>\n",
       "      <td>None</td>\n",
       "    </tr>\n",
       "    <tr>\n",
       "      <th>0</th>\n",
       "      <td>4baffc7ff964a52041303ce3</td>\n",
       "      <td>Stefano's Restaurant</td>\n",
       "      <td>49.205335</td>\n",
       "      <td>-122.904190</td>\n",
       "      <td>494</td>\n",
       "      <td>new westminster</td>\n",
       "      <td>fsq</td>\n",
       "      <td>restaurants</td>\n",
       "      <td>None</td>\n",
       "    </tr>\n",
       "    <tr>\n",
       "      <th>1</th>\n",
       "      <td>4b5545ebf964a5207ee027e3</td>\n",
       "      <td>The BoatHouse Restaurant</td>\n",
       "      <td>49.199736</td>\n",
       "      <td>-122.912409</td>\n",
       "      <td>674</td>\n",
       "      <td>new westminster</td>\n",
       "      <td>fsq</td>\n",
       "      <td>restaurants</td>\n",
       "      <td>None</td>\n",
       "    </tr>\n",
       "    <tr>\n",
       "      <th>2</th>\n",
       "      <td>4c65fbd88e9120a18bfbd664</td>\n",
       "      <td>The Old Bavaria Haus Restaurant</td>\n",
       "      <td>49.208352</td>\n",
       "      <td>-122.914272</td>\n",
       "      <td>379</td>\n",
       "      <td>new westminster</td>\n",
       "      <td>fsq</td>\n",
       "      <td>restaurants</td>\n",
       "      <td>None</td>\n",
       "    </tr>\n",
       "  </tbody>\n",
       "</table>\n",
       "</div>"
      ],
      "text/plain": [
       "                     fsq_bus_id                                     venue  \\\n",
       "index                                                                       \n",
       "0      4e879627f9f4b60d1a6dcef4  Zoomies, Dog Daycare and Training Centre   \n",
       "1      51435bade4b03a1cf03b53cd                          Zoom Hair Studio   \n",
       "0      4baffc7ff964a52041303ce3                      Stefano's Restaurant   \n",
       "1      4b5545ebf964a5207ee027e3                  The BoatHouse Restaurant   \n",
       "2      4c65fbd88e9120a18bfbd664           The Old Bavaria Haus Restaurant   \n",
       "\n",
       "        latitude   longitude  distance             city source        query  \\\n",
       "index                                                                         \n",
       "0      49.202584 -122.913966       411  new westminster    fsq         zoos   \n",
       "1      49.203674 -122.908447       291  new westminster    fsq         zoos   \n",
       "0      49.205335 -122.904190       494  new westminster    fsq  restaurants   \n",
       "1      49.199736 -122.912409       674  new westminster    fsq  restaurants   \n",
       "2      49.208352 -122.914272       379  new westminster    fsq  restaurants   \n",
       "\n",
       "      category  \n",
       "index           \n",
       "0         None  \n",
       "1         None  \n",
       "0         None  \n",
       "1         None  \n",
       "2         None  "
      ]
     },
     "execution_count": 8,
     "metadata": {},
     "output_type": "execute_result"
    }
   ],
   "source": [
    "fsq_master.head()"
   ]
  },
  {
   "cell_type": "code",
   "execution_count": 9,
   "id": "improved-thought",
   "metadata": {},
   "outputs": [
    {
     "data": {
      "application/json": {
       "venue": {
        "allowMenuUrlEdit": true,
        "attributes": {
         "groups": [
          {
           "count": 5,
           "items": [
            {
             "displayName": "Credit Cards",
             "displayValue": "Yes"
            }
           ],
           "name": "Credit Cards",
           "summary": "Credit Cards",
           "type": "payments"
          }
         ]
        },
        "beenHere": {
         "count": 0,
         "lastCheckinExpiredAt": 0,
         "marked": false,
         "unconfirmedCount": 0
        },
        "canonicalUrl": "https://foursquare.com/v/zoomies-dog-daycare-and-training-centre/4e879627f9f4b60d1a6dcef4",
        "categories": [
         {
          "icon": {
           "prefix": "https://ss3.4sqi.net/img/categories_v2/shops/pet_store_",
           "suffix": ".png"
          },
          "id": "5032897c91d4c4b30a586d69",
          "name": "Pet Service",
          "pluralName": "Pet Services",
          "primary": true,
          "shortName": "Pet Service"
         }
        ],
        "contact": {
         "formattedPhone": "(778) 397-3217",
         "phone": "7783973217",
         "twitter": "zoomiesdogs"
        },
        "createdAt": 1317508647,
        "dislike": false,
        "hereNow": {
         "count": 0,
         "groups": [],
         "summary": "Nobody here"
        },
        "id": "4e879627f9f4b60d1a6dcef4",
        "inbox": {
         "count": 0,
         "items": []
        },
        "likes": {
         "count": 1,
         "groups": [
          {
           "count": 1,
           "items": [
            {
             "countryCode": "CA",
             "firstName": "Chris",
             "lastName": "T"
            }
           ],
           "type": "others"
          }
         ],
         "summary": "1 Like"
        },
        "listed": {
         "count": 0,
         "groups": [
          {
           "count": 0,
           "items": [],
           "name": "Lists from other people",
           "type": "others"
          }
         ]
        },
        "location": {
         "address": "804 Agnes Street",
         "cc": "CA",
         "city": "New Westminster",
         "country": "Canada",
         "crossStreet": "8th Street",
         "formattedAddress": [
          "804 Agnes Street (8th Street)",
          "New Westminster BC V3M 5T8",
          "Canada"
         ],
         "labeledLatLngs": [
          {
           "label": "display",
           "lat": 49.20258380139928,
           "lng": -122.91396617889404
          }
         ],
         "lat": 49.20258380139928,
         "lng": -122.91396617889404,
         "postalCode": "V3M 5T8",
         "state": "BC"
        },
        "name": "Zoomies, Dog Daycare and Training Centre",
        "ok": false,
        "pageUpdates": {
         "count": 0,
         "items": []
        },
        "photos": {
         "count": 0,
         "groups": []
        },
        "reasons": {
         "count": 0,
         "items": []
        },
        "seasonalHours": [],
        "shortUrl": "http://4sq.com/uV1lUm",
        "specials": {
         "count": 0,
         "items": []
        },
        "stats": {
         "tipCount": 0
        },
        "storeId": "",
        "timeZone": "America/Vancouver",
        "tips": {
         "count": 0,
         "groups": []
        },
        "url": "http://www.zoomies.ca",
        "verified": true
       }
      },
      "text/plain": [
       "<IPython.core.display.JSON object>"
      ]
     },
     "execution_count": 9,
     "metadata": {
      "application/json": {
       "expanded": false,
       "root": "root"
      }
     },
     "output_type": "execute_result"
    }
   ],
   "source": [
    "# view a JSON file\n",
    "JSON(fsq_jd[0])"
   ]
  },
  {
   "cell_type": "code",
   "execution_count": 10,
   "id": "grave-combine",
   "metadata": {},
   "outputs": [],
   "source": [
    "# Normalize all JSONs into dataframes\n",
    "dataframes = [pd.json_normalize(data=fsq_jd[i]) for i in range(len(fsq_jd))]"
   ]
  },
  {
   "cell_type": "code",
   "execution_count": 11,
   "id": "endless-jewelry",
   "metadata": {},
   "outputs": [],
   "source": [
    "# create master dataframe of detailed JSON data\n",
    "complete_df = pd.concat(dataframes)"
   ]
  },
  {
   "cell_type": "code",
   "execution_count": 12,
   "id": "protected-alexander",
   "metadata": {},
   "outputs": [],
   "source": [
    "# extract needed data from detailed DF\n",
    "df_segment = complete_df[['venue.id','venue.ratingSignals','venue.rating']].rename(columns={'venue.id':'fsq_bus_id','venue.ratingSignals':'review_count', 'venue.rating':'rating'})"
   ]
  },
  {
   "cell_type": "code",
   "execution_count": 14,
   "id": "southeast-meditation",
   "metadata": {},
   "outputs": [],
   "source": [
    "# merge desired columns from detailed dataframe to master\n",
    "fsq_master_A = pd.merge(fsq_master, df_segment, how='left', on='fsq_bus_id')"
   ]
  },
  {
   "cell_type": "code",
   "execution_count": 16,
   "id": "stopped-alcohol",
   "metadata": {},
   "outputs": [
    {
     "data": {
      "text/html": [
       "<div>\n",
       "<style scoped>\n",
       "    .dataframe tbody tr th:only-of-type {\n",
       "        vertical-align: middle;\n",
       "    }\n",
       "\n",
       "    .dataframe tbody tr th {\n",
       "        vertical-align: top;\n",
       "    }\n",
       "\n",
       "    .dataframe thead th {\n",
       "        text-align: right;\n",
       "    }\n",
       "</style>\n",
       "<table border=\"1\" class=\"dataframe\">\n",
       "  <thead>\n",
       "    <tr style=\"text-align: right;\">\n",
       "      <th></th>\n",
       "      <th>fsq_bus_id</th>\n",
       "      <th>venue</th>\n",
       "      <th>latitude</th>\n",
       "      <th>longitude</th>\n",
       "      <th>distance</th>\n",
       "      <th>city</th>\n",
       "      <th>source</th>\n",
       "      <th>query</th>\n",
       "      <th>category</th>\n",
       "      <th>review_count</th>\n",
       "      <th>rating</th>\n",
       "    </tr>\n",
       "  </thead>\n",
       "  <tbody>\n",
       "    <tr>\n",
       "      <th>0</th>\n",
       "      <td>4e879627f9f4b60d1a6dcef4</td>\n",
       "      <td>Zoomies, Dog Daycare and Training Centre</td>\n",
       "      <td>49.202584</td>\n",
       "      <td>-122.913966</td>\n",
       "      <td>411</td>\n",
       "      <td>new westminster</td>\n",
       "      <td>fsq</td>\n",
       "      <td>zoos</td>\n",
       "      <td>None</td>\n",
       "      <td>NaN</td>\n",
       "      <td>NaN</td>\n",
       "    </tr>\n",
       "    <tr>\n",
       "      <th>1</th>\n",
       "      <td>51435bade4b03a1cf03b53cd</td>\n",
       "      <td>Zoom Hair Studio</td>\n",
       "      <td>49.203674</td>\n",
       "      <td>-122.908447</td>\n",
       "      <td>291</td>\n",
       "      <td>new westminster</td>\n",
       "      <td>fsq</td>\n",
       "      <td>zoos</td>\n",
       "      <td>None</td>\n",
       "      <td>NaN</td>\n",
       "      <td>NaN</td>\n",
       "    </tr>\n",
       "    <tr>\n",
       "      <th>2</th>\n",
       "      <td>4baffc7ff964a52041303ce3</td>\n",
       "      <td>Stefano's Restaurant</td>\n",
       "      <td>49.205335</td>\n",
       "      <td>-122.904190</td>\n",
       "      <td>494</td>\n",
       "      <td>new westminster</td>\n",
       "      <td>fsq</td>\n",
       "      <td>restaurants</td>\n",
       "      <td>None</td>\n",
       "      <td>18.0</td>\n",
       "      <td>6.1</td>\n",
       "    </tr>\n",
       "    <tr>\n",
       "      <th>3</th>\n",
       "      <td>4b5545ebf964a5207ee027e3</td>\n",
       "      <td>The BoatHouse Restaurant</td>\n",
       "      <td>49.199736</td>\n",
       "      <td>-122.912409</td>\n",
       "      <td>674</td>\n",
       "      <td>new westminster</td>\n",
       "      <td>fsq</td>\n",
       "      <td>restaurants</td>\n",
       "      <td>None</td>\n",
       "      <td>51.0</td>\n",
       "      <td>6.5</td>\n",
       "    </tr>\n",
       "    <tr>\n",
       "      <th>4</th>\n",
       "      <td>4c65fbd88e9120a18bfbd664</td>\n",
       "      <td>The Old Bavaria Haus Restaurant</td>\n",
       "      <td>49.208352</td>\n",
       "      <td>-122.914272</td>\n",
       "      <td>379</td>\n",
       "      <td>new westminster</td>\n",
       "      <td>fsq</td>\n",
       "      <td>restaurants</td>\n",
       "      <td>None</td>\n",
       "      <td>25.0</td>\n",
       "      <td>7.9</td>\n",
       "    </tr>\n",
       "  </tbody>\n",
       "</table>\n",
       "</div>"
      ],
      "text/plain": [
       "                 fsq_bus_id                                     venue  \\\n",
       "0  4e879627f9f4b60d1a6dcef4  Zoomies, Dog Daycare and Training Centre   \n",
       "1  51435bade4b03a1cf03b53cd                          Zoom Hair Studio   \n",
       "2  4baffc7ff964a52041303ce3                      Stefano's Restaurant   \n",
       "3  4b5545ebf964a5207ee027e3                  The BoatHouse Restaurant   \n",
       "4  4c65fbd88e9120a18bfbd664           The Old Bavaria Haus Restaurant   \n",
       "\n",
       "    latitude   longitude  distance             city source        query  \\\n",
       "0  49.202584 -122.913966       411  new westminster    fsq         zoos   \n",
       "1  49.203674 -122.908447       291  new westminster    fsq         zoos   \n",
       "2  49.205335 -122.904190       494  new westminster    fsq  restaurants   \n",
       "3  49.199736 -122.912409       674  new westminster    fsq  restaurants   \n",
       "4  49.208352 -122.914272       379  new westminster    fsq  restaurants   \n",
       "\n",
       "  category  review_count  rating  \n",
       "0     None           NaN     NaN  \n",
       "1     None           NaN     NaN  \n",
       "2     None          18.0     6.1  \n",
       "3     None          51.0     6.5  \n",
       "4     None          25.0     7.9  "
      ]
     },
     "execution_count": 16,
     "metadata": {},
     "output_type": "execute_result"
    }
   ],
   "source": [
    "#check dataframe\n",
    "fsq_master_A.head()"
   ]
  },
  {
   "cell_type": "code",
   "execution_count": 17,
   "id": "binary-mathematics",
   "metadata": {},
   "outputs": [
    {
     "data": {
      "text/plain": [
       "True"
      ]
     },
     "execution_count": 17,
     "metadata": {},
     "output_type": "execute_result"
    }
   ],
   "source": [
    "len(fsq_master) == len(fsq_master_A) # check to make sure no data was lost"
   ]
  },
  {
   "cell_type": "code",
   "execution_count": 18,
   "id": "preliminary-limit",
   "metadata": {},
   "outputs": [
    {
     "name": "stdout",
     "output_type": "stream",
     "text": [
      "True\n",
      "True\n"
     ]
    }
   ],
   "source": [
    "# check for missing values\n",
    "print(fsq_master_A['review_count'].isnull().values.any())\n",
    "print(fsq_master_A['rating'].isnull().values.any())"
   ]
  },
  {
   "cell_type": "code",
   "execution_count": 19,
   "id": "available-sapphire",
   "metadata": {},
   "outputs": [
    {
     "name": "stdout",
     "output_type": "stream",
     "text": [
      "792     0.0\n",
      "14      0.0\n",
      "381     0.0\n",
      "787     2.0\n",
      "213     3.0\n",
      "       ... \n",
      "1193    NaN\n",
      "1196    NaN\n",
      "1197    NaN\n",
      "1198    NaN\n",
      "1214    NaN\n",
      "Name: review_count, Length: 1216, dtype: float64\n",
      "618     4.6\n",
      "786     4.9\n",
      "1106    4.9\n",
      "803     4.9\n",
      "919     4.9\n",
      "       ... \n",
      "1193    NaN\n",
      "1196    NaN\n",
      "1197    NaN\n",
      "1198    NaN\n",
      "1214    NaN\n",
      "Name: rating, Length: 1216, dtype: float64\n"
     ]
    }
   ],
   "source": [
    "# check contents\n",
    "print(fsq_master_A['review_count'].sort_values())\n",
    "print(fsq_master_A['rating'].sort_values())"
   ]
  },
  {
   "cell_type": "code",
   "execution_count": 22,
   "id": "about-preliminary",
   "metadata": {},
   "outputs": [
    {
     "data": {
      "text/plain": [
       "False    691\n",
       "True     525\n",
       "Name: rating, dtype: int64"
      ]
     },
     "execution_count": 22,
     "metadata": {},
     "output_type": "execute_result"
    }
   ],
   "source": [
    "fsq_master_A.rating.isnull().value_counts()"
   ]
  },
  {
   "cell_type": "code",
   "execution_count": 23,
   "id": "aerial-coating",
   "metadata": {},
   "outputs": [],
   "source": [
    "# save resulting dataframe to file\n",
    "fsq_master_A.to_csv('./fsq_master_A.csv')"
   ]
  },
  {
   "cell_type": "code",
   "execution_count": 24,
   "id": "adaptive-passing",
   "metadata": {},
   "outputs": [],
   "source": [
    "# export to database as well\n",
    "fsq_master_A.to_sql('fsq', connection, if_exists='replace')"
   ]
  },
  {
   "cell_type": "markdown",
   "id": "controlled-flush",
   "metadata": {},
   "source": [
    "# Data Analysis"
   ]
  },
  {
   "cell_type": "code",
   "execution_count": 27,
   "id": "authentic-deadline",
   "metadata": {},
   "outputs": [],
   "source": [
    "fdb = pd.read_sql_query(\"SELECT * from fsq\", connection, index_col='index')\n",
    "ydb = pd.read_sql_query(\"SELECT * from yelp\", connection, index_col='index')"
   ]
  },
  {
   "cell_type": "code",
   "execution_count": 28,
   "id": "illegal-stone",
   "metadata": {},
   "outputs": [
    {
     "data": {
      "text/html": [
       "<div>\n",
       "<style scoped>\n",
       "    .dataframe tbody tr th:only-of-type {\n",
       "        vertical-align: middle;\n",
       "    }\n",
       "\n",
       "    .dataframe tbody tr th {\n",
       "        vertical-align: top;\n",
       "    }\n",
       "\n",
       "    .dataframe thead th {\n",
       "        text-align: right;\n",
       "    }\n",
       "</style>\n",
       "<table border=\"1\" class=\"dataframe\">\n",
       "  <thead>\n",
       "    <tr style=\"text-align: right;\">\n",
       "      <th></th>\n",
       "      <th>fsq_bus_id</th>\n",
       "      <th>venue</th>\n",
       "      <th>latitude</th>\n",
       "      <th>longitude</th>\n",
       "      <th>distance</th>\n",
       "      <th>city</th>\n",
       "      <th>source</th>\n",
       "      <th>query</th>\n",
       "      <th>category</th>\n",
       "      <th>review_count</th>\n",
       "      <th>rating</th>\n",
       "    </tr>\n",
       "    <tr>\n",
       "      <th>index</th>\n",
       "      <th></th>\n",
       "      <th></th>\n",
       "      <th></th>\n",
       "      <th></th>\n",
       "      <th></th>\n",
       "      <th></th>\n",
       "      <th></th>\n",
       "      <th></th>\n",
       "      <th></th>\n",
       "      <th></th>\n",
       "      <th></th>\n",
       "    </tr>\n",
       "  </thead>\n",
       "  <tbody>\n",
       "    <tr>\n",
       "      <th>0</th>\n",
       "      <td>4e879627f9f4b60d1a6dcef4</td>\n",
       "      <td>Zoomies, Dog Daycare and Training Centre</td>\n",
       "      <td>49.202584</td>\n",
       "      <td>-122.913966</td>\n",
       "      <td>411</td>\n",
       "      <td>new westminster</td>\n",
       "      <td>fsq</td>\n",
       "      <td>zoos</td>\n",
       "      <td>None</td>\n",
       "      <td>NaN</td>\n",
       "      <td>NaN</td>\n",
       "    </tr>\n",
       "    <tr>\n",
       "      <th>1</th>\n",
       "      <td>51435bade4b03a1cf03b53cd</td>\n",
       "      <td>Zoom Hair Studio</td>\n",
       "      <td>49.203674</td>\n",
       "      <td>-122.908447</td>\n",
       "      <td>291</td>\n",
       "      <td>new westminster</td>\n",
       "      <td>fsq</td>\n",
       "      <td>zoos</td>\n",
       "      <td>None</td>\n",
       "      <td>NaN</td>\n",
       "      <td>NaN</td>\n",
       "    </tr>\n",
       "    <tr>\n",
       "      <th>2</th>\n",
       "      <td>4baffc7ff964a52041303ce3</td>\n",
       "      <td>Stefano's Restaurant</td>\n",
       "      <td>49.205335</td>\n",
       "      <td>-122.904190</td>\n",
       "      <td>494</td>\n",
       "      <td>new westminster</td>\n",
       "      <td>fsq</td>\n",
       "      <td>restaurants</td>\n",
       "      <td>None</td>\n",
       "      <td>18.0</td>\n",
       "      <td>6.1</td>\n",
       "    </tr>\n",
       "    <tr>\n",
       "      <th>3</th>\n",
       "      <td>4b5545ebf964a5207ee027e3</td>\n",
       "      <td>The BoatHouse Restaurant</td>\n",
       "      <td>49.199736</td>\n",
       "      <td>-122.912409</td>\n",
       "      <td>674</td>\n",
       "      <td>new westminster</td>\n",
       "      <td>fsq</td>\n",
       "      <td>restaurants</td>\n",
       "      <td>None</td>\n",
       "      <td>51.0</td>\n",
       "      <td>6.5</td>\n",
       "    </tr>\n",
       "    <tr>\n",
       "      <th>4</th>\n",
       "      <td>4c65fbd88e9120a18bfbd664</td>\n",
       "      <td>The Old Bavaria Haus Restaurant</td>\n",
       "      <td>49.208352</td>\n",
       "      <td>-122.914272</td>\n",
       "      <td>379</td>\n",
       "      <td>new westminster</td>\n",
       "      <td>fsq</td>\n",
       "      <td>restaurants</td>\n",
       "      <td>None</td>\n",
       "      <td>25.0</td>\n",
       "      <td>7.9</td>\n",
       "    </tr>\n",
       "  </tbody>\n",
       "</table>\n",
       "</div>"
      ],
      "text/plain": [
       "                     fsq_bus_id                                     venue  \\\n",
       "index                                                                       \n",
       "0      4e879627f9f4b60d1a6dcef4  Zoomies, Dog Daycare and Training Centre   \n",
       "1      51435bade4b03a1cf03b53cd                          Zoom Hair Studio   \n",
       "2      4baffc7ff964a52041303ce3                      Stefano's Restaurant   \n",
       "3      4b5545ebf964a5207ee027e3                  The BoatHouse Restaurant   \n",
       "4      4c65fbd88e9120a18bfbd664           The Old Bavaria Haus Restaurant   \n",
       "\n",
       "        latitude   longitude  distance             city source        query  \\\n",
       "index                                                                         \n",
       "0      49.202584 -122.913966       411  new westminster    fsq         zoos   \n",
       "1      49.203674 -122.908447       291  new westminster    fsq         zoos   \n",
       "2      49.205335 -122.904190       494  new westminster    fsq  restaurants   \n",
       "3      49.199736 -122.912409       674  new westminster    fsq  restaurants   \n",
       "4      49.208352 -122.914272       379  new westminster    fsq  restaurants   \n",
       "\n",
       "      category  review_count  rating  \n",
       "index                                 \n",
       "0         None           NaN     NaN  \n",
       "1         None           NaN     NaN  \n",
       "2         None          18.0     6.1  \n",
       "3         None          51.0     6.5  \n",
       "4         None          25.0     7.9  "
      ]
     },
     "execution_count": 28,
     "metadata": {},
     "output_type": "execute_result"
    }
   ],
   "source": [
    "fdb.head()"
   ]
  },
  {
   "cell_type": "code",
   "execution_count": 25,
   "id": "activated-atlantic",
   "metadata": {},
   "outputs": [
    {
     "ename": "NameError",
     "evalue": "name 'ydb' is not defined",
     "output_type": "error",
     "traceback": [
      "\u001b[0;31m---------------------------------------------------------------------------\u001b[0m",
      "\u001b[0;31mNameError\u001b[0m                                 Traceback (most recent call last)",
      "\u001b[0;32m<ipython-input-25-7fc83f39655f>\u001b[0m in \u001b[0;36m<module>\u001b[0;34m\u001b[0m\n\u001b[0;32m----> 1\u001b[0;31m \u001b[0mydb\u001b[0m\u001b[0;34m.\u001b[0m\u001b[0mhead\u001b[0m\u001b[0;34m(\u001b[0m\u001b[0;34m)\u001b[0m\u001b[0;34m\u001b[0m\u001b[0;34m\u001b[0m\u001b[0m\n\u001b[0m",
      "\u001b[0;31mNameError\u001b[0m: name 'ydb' is not defined"
     ]
    }
   ],
   "source": [
    "ydb.head()"
   ]
  },
  {
   "cell_type": "markdown",
   "id": "functional-enzyme",
   "metadata": {},
   "source": [
    "## Search by query, with category (count)"
   ]
  },
  {
   "cell_type": "markdown",
   "id": "mechanical-maximum",
   "metadata": {},
   "source": [
    "#### FSQ"
   ]
  },
  {
   "cell_type": "code",
   "execution_count": 103,
   "id": "casual-calculator",
   "metadata": {},
   "outputs": [],
   "source": [
    "# vancouver\n"
   ]
  },
  {
   "cell_type": "code",
   "execution_count": 104,
   "id": "precious-supplier",
   "metadata": {},
   "outputs": [],
   "source": [
    "# toronto"
   ]
  },
  {
   "cell_type": "code",
   "execution_count": 105,
   "id": "minus-gender",
   "metadata": {},
   "outputs": [],
   "source": [
    "# new westminster"
   ]
  },
  {
   "cell_type": "code",
   "execution_count": 106,
   "id": "private-weather",
   "metadata": {},
   "outputs": [],
   "source": [
    "# nyc"
   ]
  },
  {
   "cell_type": "code",
   "execution_count": 107,
   "id": "neural-fellow",
   "metadata": {},
   "outputs": [],
   "source": [
    "# overall (regardless of city)"
   ]
  },
  {
   "cell_type": "markdown",
   "id": "hidden-childhood",
   "metadata": {},
   "source": [
    "#### YELP"
   ]
  },
  {
   "cell_type": "code",
   "execution_count": 103,
   "id": "daily-vinyl",
   "metadata": {},
   "outputs": [],
   "source": [
    "# vancouver"
   ]
  },
  {
   "cell_type": "code",
   "execution_count": 104,
   "id": "inappropriate-reconstruction",
   "metadata": {},
   "outputs": [],
   "source": [
    "# toronto"
   ]
  },
  {
   "cell_type": "code",
   "execution_count": 105,
   "id": "selected-papua",
   "metadata": {},
   "outputs": [],
   "source": [
    "# new westminster"
   ]
  },
  {
   "cell_type": "code",
   "execution_count": 106,
   "id": "passive-communications",
   "metadata": {},
   "outputs": [],
   "source": [
    "# nyc"
   ]
  },
  {
   "cell_type": "code",
   "execution_count": 107,
   "id": "alone-rubber",
   "metadata": {},
   "outputs": [],
   "source": [
    "# overall (regardless of city)"
   ]
  },
  {
   "cell_type": "markdown",
   "id": "republican-wealth",
   "metadata": {},
   "source": [
    "## Search by query, without category (count)"
   ]
  },
  {
   "cell_type": "markdown",
   "id": "vital-greenhouse",
   "metadata": {},
   "source": [
    "#### FSQ"
   ]
  },
  {
   "cell_type": "code",
   "execution_count": 103,
   "id": "convenient-chick",
   "metadata": {},
   "outputs": [],
   "source": [
    "# vancouver"
   ]
  },
  {
   "cell_type": "code",
   "execution_count": 104,
   "id": "small-logging",
   "metadata": {},
   "outputs": [],
   "source": [
    "# toronto"
   ]
  },
  {
   "cell_type": "code",
   "execution_count": 105,
   "id": "brutal-thesaurus",
   "metadata": {},
   "outputs": [],
   "source": [
    "# new westminster"
   ]
  },
  {
   "cell_type": "code",
   "execution_count": 106,
   "id": "practical-section",
   "metadata": {},
   "outputs": [],
   "source": [
    "# nyc"
   ]
  },
  {
   "cell_type": "code",
   "execution_count": 107,
   "id": "hybrid-sandwich",
   "metadata": {},
   "outputs": [],
   "source": [
    "# overall (regardless of city)"
   ]
  },
  {
   "cell_type": "markdown",
   "id": "bronze-necessity",
   "metadata": {},
   "source": [
    "#### YELP"
   ]
  },
  {
   "cell_type": "code",
   "execution_count": 103,
   "id": "isolated-concrete",
   "metadata": {},
   "outputs": [],
   "source": [
    "# vancouver"
   ]
  },
  {
   "cell_type": "code",
   "execution_count": 104,
   "id": "stretch-ukraine",
   "metadata": {},
   "outputs": [],
   "source": [
    "# toronto"
   ]
  },
  {
   "cell_type": "code",
   "execution_count": 105,
   "id": "developmental-circulation",
   "metadata": {},
   "outputs": [],
   "source": [
    "# new westminster"
   ]
  },
  {
   "cell_type": "code",
   "execution_count": 106,
   "id": "geological-advocacy",
   "metadata": {},
   "outputs": [],
   "source": [
    "# nyc"
   ]
  },
  {
   "cell_type": "code",
   "execution_count": 107,
   "id": "typical-pollution",
   "metadata": {},
   "outputs": [],
   "source": [
    "# overall (regardless of city)"
   ]
  },
  {
   "cell_type": "markdown",
   "id": "equivalent-moldova",
   "metadata": {},
   "source": [
    "## Search by category, without query (count)"
   ]
  },
  {
   "cell_type": "markdown",
   "id": "dynamic-pathology",
   "metadata": {},
   "source": [
    "#### FSQ"
   ]
  },
  {
   "cell_type": "code",
   "execution_count": 103,
   "id": "labeled-nightlife",
   "metadata": {},
   "outputs": [],
   "source": [
    "# vancouver\n"
   ]
  },
  {
   "cell_type": "code",
   "execution_count": 104,
   "id": "endless-civilian",
   "metadata": {},
   "outputs": [],
   "source": [
    "# toronto"
   ]
  },
  {
   "cell_type": "code",
   "execution_count": 105,
   "id": "friendly-distinction",
   "metadata": {},
   "outputs": [],
   "source": [
    "# new westminster"
   ]
  },
  {
   "cell_type": "code",
   "execution_count": 106,
   "id": "executed-jacksonville",
   "metadata": {},
   "outputs": [],
   "source": [
    "# nyc"
   ]
  },
  {
   "cell_type": "code",
   "execution_count": 107,
   "id": "sporting-diagram",
   "metadata": {},
   "outputs": [],
   "source": [
    "# overall (regardless of city)"
   ]
  },
  {
   "cell_type": "markdown",
   "id": "addressed-exhibition",
   "metadata": {},
   "source": [
    "#### YELP"
   ]
  },
  {
   "cell_type": "code",
   "execution_count": 103,
   "id": "written-evans",
   "metadata": {},
   "outputs": [],
   "source": [
    "# vancouver"
   ]
  },
  {
   "cell_type": "code",
   "execution_count": 104,
   "id": "dominican-sharing",
   "metadata": {},
   "outputs": [],
   "source": [
    "# toronto"
   ]
  },
  {
   "cell_type": "code",
   "execution_count": 105,
   "id": "extended-management",
   "metadata": {},
   "outputs": [],
   "source": [
    "# new westminster"
   ]
  },
  {
   "cell_type": "code",
   "execution_count": 106,
   "id": "primary-constant",
   "metadata": {},
   "outputs": [],
   "source": [
    "# nyc"
   ]
  },
  {
   "cell_type": "code",
   "execution_count": 107,
   "id": "binding-thumb",
   "metadata": {},
   "outputs": [],
   "source": [
    "# overall (regardless of city)"
   ]
  },
  {
   "cell_type": "markdown",
   "id": "framed-eugene",
   "metadata": {},
   "source": [
    "## Search by category, without query (count)"
   ]
  },
  {
   "cell_type": "markdown",
   "id": "regular-marina",
   "metadata": {},
   "source": [
    "## Top 10 POIs based on popularity"
   ]
  },
  {
   "cell_type": "markdown",
   "id": "muslim-power",
   "metadata": {},
   "source": [
    "## Compare APIs, Summary table\n",
    "result counts\n",
    "1. query alone        - cities - total  ----avg distance\n",
    "2. category alone\n",
    "3. query and category\n",
    "4. overall\n",
    "\n",
    "avg distance to location\n",
    "1. fsq v yelp\n",
    "\n"
   ]
  },
  {
   "cell_type": "markdown",
   "id": "structural-taxation",
   "metadata": {},
   "source": [
    "## Challenges\n",
    "1. API limits\n",
    "* fsq limit, sleeper function, not realizing the venue (by id) endpoint is premium\n",
    "* incredibly paranoid i wouldn't get results. Rarely ran code\n",
    "* would go with yelp - details endpoint not premium\n",
    "2. Not reading instructions clearly\n",
    "* Did not see 'missed the top 10 POIs based on popularity' part\n",
    "3. Understanding JSON file structure\n",
    "4. "
   ]
  },
  {
   "cell_type": "code",
   "execution_count": null,
   "id": "detected-pride",
   "metadata": {},
   "outputs": [],
   "source": []
  },
  {
   "cell_type": "code",
   "execution_count": null,
   "id": "static-cornell",
   "metadata": {},
   "outputs": [],
   "source": []
  },
  {
   "cell_type": "code",
   "execution_count": null,
   "id": "identical-colonial",
   "metadata": {},
   "outputs": [],
   "source": []
  },
  {
   "cell_type": "code",
   "execution_count": null,
   "id": "correct-tutorial",
   "metadata": {},
   "outputs": [],
   "source": []
  },
  {
   "cell_type": "code",
   "execution_count": null,
   "id": "helpful-integrity",
   "metadata": {},
   "outputs": [],
   "source": []
  },
  {
   "cell_type": "code",
   "execution_count": null,
   "id": "embedded-telling",
   "metadata": {},
   "outputs": [],
   "source": []
  },
  {
   "cell_type": "code",
   "execution_count": null,
   "id": "whole-norman",
   "metadata": {},
   "outputs": [],
   "source": []
  },
  {
   "cell_type": "code",
   "execution_count": null,
   "id": "still-mountain",
   "metadata": {},
   "outputs": [],
   "source": []
  },
  {
   "cell_type": "code",
   "execution_count": null,
   "id": "lonely-sessions",
   "metadata": {},
   "outputs": [],
   "source": []
  },
  {
   "cell_type": "code",
   "execution_count": 629,
   "id": "pointed-mauritius",
   "metadata": {},
   "outputs": [
    {
     "ename": "ArgumentError",
     "evalue": "Could not parse rfc1738 URL from string './sm_app.sqlite'",
     "output_type": "error",
     "traceback": [
      "\u001b[0;31m---------------------------------------------------------------------------\u001b[0m",
      "\u001b[0;31mArgumentError\u001b[0m                             Traceback (most recent call last)",
      "\u001b[0;32m<ipython-input-629-f8964fbd117b>\u001b[0m in \u001b[0;36m<module>\u001b[0;34m\u001b[0m\n\u001b[0;32m----> 1\u001b[0;31m \u001b[0mengine\u001b[0m \u001b[0;34m=\u001b[0m \u001b[0mcreate_engine\u001b[0m\u001b[0;34m(\u001b[0m\u001b[0;34m'./sm_app.sqlite'\u001b[0m\u001b[0;34m,\u001b[0m \u001b[0mecho\u001b[0m\u001b[0;34m=\u001b[0m\u001b[0;32mTrue\u001b[0m\u001b[0;34m)\u001b[0m\u001b[0;34m\u001b[0m\u001b[0;34m\u001b[0m\u001b[0m\n\u001b[0m",
      "\u001b[0;32m~/miniconda3/envs/lhl/lib/python3.9/site-packages/sqlalchemy/engine/__init__.py\u001b[0m in \u001b[0;36mcreate_engine\u001b[0;34m(*args, **kwargs)\u001b[0m\n\u001b[1;32m    518\u001b[0m     \u001b[0mstrategy\u001b[0m \u001b[0;34m=\u001b[0m \u001b[0mkwargs\u001b[0m\u001b[0;34m.\u001b[0m\u001b[0mpop\u001b[0m\u001b[0;34m(\u001b[0m\u001b[0;34m\"strategy\"\u001b[0m\u001b[0;34m,\u001b[0m \u001b[0mdefault_strategy\u001b[0m\u001b[0;34m)\u001b[0m\u001b[0;34m\u001b[0m\u001b[0;34m\u001b[0m\u001b[0m\n\u001b[1;32m    519\u001b[0m     \u001b[0mstrategy\u001b[0m \u001b[0;34m=\u001b[0m \u001b[0mstrategies\u001b[0m\u001b[0;34m.\u001b[0m\u001b[0mstrategies\u001b[0m\u001b[0;34m[\u001b[0m\u001b[0mstrategy\u001b[0m\u001b[0;34m]\u001b[0m\u001b[0;34m\u001b[0m\u001b[0;34m\u001b[0m\u001b[0m\n\u001b[0;32m--> 520\u001b[0;31m     \u001b[0;32mreturn\u001b[0m \u001b[0mstrategy\u001b[0m\u001b[0;34m.\u001b[0m\u001b[0mcreate\u001b[0m\u001b[0;34m(\u001b[0m\u001b[0;34m*\u001b[0m\u001b[0margs\u001b[0m\u001b[0;34m,\u001b[0m \u001b[0;34m**\u001b[0m\u001b[0mkwargs\u001b[0m\u001b[0;34m)\u001b[0m\u001b[0;34m\u001b[0m\u001b[0;34m\u001b[0m\u001b[0m\n\u001b[0m\u001b[1;32m    521\u001b[0m \u001b[0;34m\u001b[0m\u001b[0m\n\u001b[1;32m    522\u001b[0m \u001b[0;34m\u001b[0m\u001b[0m\n",
      "\u001b[0;32m~/miniconda3/envs/lhl/lib/python3.9/site-packages/sqlalchemy/engine/strategies.py\u001b[0m in \u001b[0;36mcreate\u001b[0;34m(self, name_or_url, **kwargs)\u001b[0m\n\u001b[1;32m     52\u001b[0m     \u001b[0;32mdef\u001b[0m \u001b[0mcreate\u001b[0m\u001b[0;34m(\u001b[0m\u001b[0mself\u001b[0m\u001b[0;34m,\u001b[0m \u001b[0mname_or_url\u001b[0m\u001b[0;34m,\u001b[0m \u001b[0;34m**\u001b[0m\u001b[0mkwargs\u001b[0m\u001b[0;34m)\u001b[0m\u001b[0;34m:\u001b[0m\u001b[0;34m\u001b[0m\u001b[0;34m\u001b[0m\u001b[0m\n\u001b[1;32m     53\u001b[0m         \u001b[0;31m# create url.URL object\u001b[0m\u001b[0;34m\u001b[0m\u001b[0;34m\u001b[0m\u001b[0;34m\u001b[0m\u001b[0m\n\u001b[0;32m---> 54\u001b[0;31m         \u001b[0mu\u001b[0m \u001b[0;34m=\u001b[0m \u001b[0murl\u001b[0m\u001b[0;34m.\u001b[0m\u001b[0mmake_url\u001b[0m\u001b[0;34m(\u001b[0m\u001b[0mname_or_url\u001b[0m\u001b[0;34m)\u001b[0m\u001b[0;34m\u001b[0m\u001b[0;34m\u001b[0m\u001b[0m\n\u001b[0m\u001b[1;32m     55\u001b[0m \u001b[0;34m\u001b[0m\u001b[0m\n\u001b[1;32m     56\u001b[0m         \u001b[0mplugins\u001b[0m \u001b[0;34m=\u001b[0m \u001b[0mu\u001b[0m\u001b[0;34m.\u001b[0m\u001b[0m_instantiate_plugins\u001b[0m\u001b[0;34m(\u001b[0m\u001b[0mkwargs\u001b[0m\u001b[0;34m)\u001b[0m\u001b[0;34m\u001b[0m\u001b[0;34m\u001b[0m\u001b[0m\n",
      "\u001b[0;32m~/miniconda3/envs/lhl/lib/python3.9/site-packages/sqlalchemy/engine/url.py\u001b[0m in \u001b[0;36mmake_url\u001b[0;34m(name_or_url)\u001b[0m\n\u001b[1;32m    227\u001b[0m \u001b[0;34m\u001b[0m\u001b[0m\n\u001b[1;32m    228\u001b[0m     \u001b[0;32mif\u001b[0m \u001b[0misinstance\u001b[0m\u001b[0;34m(\u001b[0m\u001b[0mname_or_url\u001b[0m\u001b[0;34m,\u001b[0m \u001b[0mutil\u001b[0m\u001b[0;34m.\u001b[0m\u001b[0mstring_types\u001b[0m\u001b[0;34m)\u001b[0m\u001b[0;34m:\u001b[0m\u001b[0;34m\u001b[0m\u001b[0;34m\u001b[0m\u001b[0m\n\u001b[0;32m--> 229\u001b[0;31m         \u001b[0;32mreturn\u001b[0m \u001b[0m_parse_rfc1738_args\u001b[0m\u001b[0;34m(\u001b[0m\u001b[0mname_or_url\u001b[0m\u001b[0;34m)\u001b[0m\u001b[0;34m\u001b[0m\u001b[0;34m\u001b[0m\u001b[0m\n\u001b[0m\u001b[1;32m    230\u001b[0m     \u001b[0;32melse\u001b[0m\u001b[0;34m:\u001b[0m\u001b[0;34m\u001b[0m\u001b[0;34m\u001b[0m\u001b[0m\n\u001b[1;32m    231\u001b[0m         \u001b[0;32mreturn\u001b[0m \u001b[0mname_or_url\u001b[0m\u001b[0;34m\u001b[0m\u001b[0;34m\u001b[0m\u001b[0m\n",
      "\u001b[0;32m~/miniconda3/envs/lhl/lib/python3.9/site-packages/sqlalchemy/engine/url.py\u001b[0m in \u001b[0;36m_parse_rfc1738_args\u001b[0;34m(name)\u001b[0m\n\u001b[1;32m    288\u001b[0m         \u001b[0;32mreturn\u001b[0m \u001b[0mURL\u001b[0m\u001b[0;34m(\u001b[0m\u001b[0mname\u001b[0m\u001b[0;34m,\u001b[0m \u001b[0;34m**\u001b[0m\u001b[0mcomponents\u001b[0m\u001b[0;34m)\u001b[0m\u001b[0;34m\u001b[0m\u001b[0;34m\u001b[0m\u001b[0m\n\u001b[1;32m    289\u001b[0m     \u001b[0;32melse\u001b[0m\u001b[0;34m:\u001b[0m\u001b[0;34m\u001b[0m\u001b[0;34m\u001b[0m\u001b[0m\n\u001b[0;32m--> 290\u001b[0;31m         raise exc.ArgumentError(\n\u001b[0m\u001b[1;32m    291\u001b[0m             \u001b[0;34m\"Could not parse rfc1738 URL from string '%s'\"\u001b[0m \u001b[0;34m%\u001b[0m \u001b[0mname\u001b[0m\u001b[0;34m\u001b[0m\u001b[0;34m\u001b[0m\u001b[0m\n\u001b[1;32m    292\u001b[0m         )\n",
      "\u001b[0;31mArgumentError\u001b[0m: Could not parse rfc1738 URL from string './sm_app.sqlite'"
     ]
    }
   ],
   "source": [
    "engine = create_engine('sqlite:./sm_app.sqlite', echo=True)"
   ]
  },
  {
   "cell_type": "code",
   "execution_count": null,
   "id": "prerequisite-phenomenon",
   "metadata": {},
   "outputs": [],
   "source": [
    "create_engine()"
   ]
  },
  {
   "cell_type": "code",
   "execution_count": 501,
   "id": "secondary-slave",
   "metadata": {},
   "outputs": [
    {
     "data": {
      "text/html": [
       "<div>\n",
       "<style scoped>\n",
       "    .dataframe tbody tr th:only-of-type {\n",
       "        vertical-align: middle;\n",
       "    }\n",
       "\n",
       "    .dataframe tbody tr th {\n",
       "        vertical-align: top;\n",
       "    }\n",
       "\n",
       "    .dataframe thead th {\n",
       "        text-align: right;\n",
       "    }\n",
       "</style>\n",
       "<table border=\"1\" class=\"dataframe\">\n",
       "  <thead>\n",
       "    <tr style=\"text-align: right;\">\n",
       "      <th></th>\n",
       "      <th>f_cat</th>\n",
       "      <th>fsq_bus_id</th>\n",
       "      <th>venue</th>\n",
       "      <th>latitude</th>\n",
       "      <th>longitude</th>\n",
       "      <th>distance</th>\n",
       "      <th>city</th>\n",
       "      <th>source</th>\n",
       "      <th>query</th>\n",
       "      <th>category</th>\n",
       "    </tr>\n",
       "  </thead>\n",
       "  <tbody>\n",
       "    <tr>\n",
       "      <th>0</th>\n",
       "      <td>Italian Restaurants</td>\n",
       "      <td>4d306dd82748b60c62b6dba0</td>\n",
       "      <td>Trattoria Mercatto</td>\n",
       "      <td>43.654453</td>\n",
       "      <td>-79.380974</td>\n",
       "      <td>224</td>\n",
       "      <td>toronto</td>\n",
       "      <td>fsq</td>\n",
       "      <td>NaN</td>\n",
       "      <td>bars</td>\n",
       "    </tr>\n",
       "    <tr>\n",
       "      <th>1</th>\n",
       "      <td>Pubs</td>\n",
       "      <td>4ade47b7f964a520997421e3</td>\n",
       "      <td>Duke of Richmond</td>\n",
       "      <td>43.652267</td>\n",
       "      <td>-79.381009</td>\n",
       "      <td>205</td>\n",
       "      <td>toronto</td>\n",
       "      <td>fsq</td>\n",
       "      <td>NaN</td>\n",
       "      <td>bars</td>\n",
       "    </tr>\n",
       "    <tr>\n",
       "      <th>2</th>\n",
       "      <td>Bars</td>\n",
       "      <td>4c747ea4604a370462548049</td>\n",
       "      <td>Trios Bistro</td>\n",
       "      <td>43.654910</td>\n",
       "      <td>-79.382987</td>\n",
       "      <td>188</td>\n",
       "      <td>toronto</td>\n",
       "      <td>fsq</td>\n",
       "      <td>NaN</td>\n",
       "      <td>bars</td>\n",
       "    </tr>\n",
       "    <tr>\n",
       "      <th>3</th>\n",
       "      <td>Hotel Bars</td>\n",
       "      <td>4cdc78defc9737042ba2d505</td>\n",
       "      <td>Club Lounge</td>\n",
       "      <td>43.651257</td>\n",
       "      <td>-79.383926</td>\n",
       "      <td>227</td>\n",
       "      <td>toronto</td>\n",
       "      <td>fsq</td>\n",
       "      <td>NaN</td>\n",
       "      <td>bars</td>\n",
       "    </tr>\n",
       "    <tr>\n",
       "      <th>4</th>\n",
       "      <td>Bars</td>\n",
       "      <td>4f23983ee4b0476578d9c52f</td>\n",
       "      <td>The Supermarket</td>\n",
       "      <td>43.653247</td>\n",
       "      <td>-79.381865</td>\n",
       "      <td>106</td>\n",
       "      <td>toronto</td>\n",
       "      <td>fsq</td>\n",
       "      <td>NaN</td>\n",
       "      <td>bars</td>\n",
       "    </tr>\n",
       "  </tbody>\n",
       "</table>\n",
       "</div>"
      ],
      "text/plain": [
       "                 f_cat                fsq_bus_id               venue  \\\n",
       "0  Italian Restaurants  4d306dd82748b60c62b6dba0  Trattoria Mercatto   \n",
       "1                 Pubs  4ade47b7f964a520997421e3    Duke of Richmond   \n",
       "2                 Bars  4c747ea4604a370462548049        Trios Bistro   \n",
       "3           Hotel Bars  4cdc78defc9737042ba2d505         Club Lounge   \n",
       "4                 Bars  4f23983ee4b0476578d9c52f     The Supermarket   \n",
       "\n",
       "    latitude  longitude  distance     city source  query category  \n",
       "0  43.654453 -79.380974       224  toronto    fsq    NaN     bars  \n",
       "1  43.652267 -79.381009       205  toronto    fsq    NaN     bars  \n",
       "2  43.654910 -79.382987       188  toronto    fsq    NaN     bars  \n",
       "3  43.651257 -79.383926       227  toronto    fsq    NaN     bars  \n",
       "4  43.653247 -79.381865       106  toronto    fsq    NaN     bars  "
      ]
     },
     "execution_count": 501,
     "metadata": {},
     "output_type": "execute_result"
    }
   ],
   "source": [
    "y[1]"
   ]
  },
  {
   "cell_type": "code",
   "execution_count": 4,
   "id": "acknowledged-airfare",
   "metadata": {},
   "outputs": [],
   "source": [
    "create_fsq_table = \"\"\"\n",
    "CREATE TABLE IF NOT EXISTS users (\n",
    "  id INTEGER PRIMARY KEY AUTOINCREMENT,\n",
    "  venue TEXT NOT NULL,\n",
    "  latitude REAL,\n",
    "  longitude REAL,\n",
    "  distance INTEGER,\n",
    "  city TEXT NOT NULL,\n",
    "  nationality TEXT\n",
    ");\n",
    "\"\"\""
   ]
  },
  {
   "cell_type": "code",
   "execution_count": 5,
   "id": "abandoned-ticket",
   "metadata": {},
   "outputs": [
    {
     "name": "stdout",
     "output_type": "stream",
     "text": [
      "Query executed successfully\n"
     ]
    }
   ],
   "source": [
    "execute_query(connection, create_users_table)  "
   ]
  },
  {
   "cell_type": "code",
   "execution_count": 9,
   "id": "temporal-marshall",
   "metadata": {},
   "outputs": [],
   "source": [
    "create_posts_table = \"\"\"\n",
    "CREATE TABLE IF NOT EXISTS posts(\n",
    "  id INTEGER PRIMARY KEY AUTOINCREMENT, \n",
    "  title TEXT NOT NULL, \n",
    "  description TEXT NOT NULL, \n",
    "  user_id INTEGER NOT NULL, \n",
    "  FOREIGN KEY (user_id) REFERENCES users (id)\n",
    ");\n",
    "\"\"\""
   ]
  },
  {
   "cell_type": "code",
   "execution_count": 10,
   "id": "finite-northwest",
   "metadata": {},
   "outputs": [
    {
     "name": "stdout",
     "output_type": "stream",
     "text": [
      "Query executed successfully\n"
     ]
    }
   ],
   "source": [
    "execute_query(connection, create_posts_table)"
   ]
  },
  {
   "cell_type": "code",
   "execution_count": 6,
   "id": "cultural-catering",
   "metadata": {},
   "outputs": [
    {
     "name": "stdout",
     "output_type": "stream",
     "text": [
      "Query executed successfully\n",
      "Query executed successfully\n"
     ]
    }
   ],
   "source": [
    "create_comments_table = \"\"\"\n",
    "CREATE TABLE IF NOT EXISTS comments (\n",
    "  id INTEGER PRIMARY KEY AUTOINCREMENT, \n",
    "  text TEXT NOT NULL, \n",
    "  user_id INTEGER NOT NULL, \n",
    "  post_id INTEGER NOT NULL, \n",
    "  FOREIGN KEY (user_id) REFERENCES users (id) FOREIGN KEY (post_id) REFERENCES posts (id)\n",
    ");\n",
    "\"\"\"\n",
    "\n",
    "create_likes_table = \"\"\"\n",
    "CREATE TABLE IF NOT EXISTS likes (\n",
    "  id INTEGER PRIMARY KEY AUTOINCREMENT, \n",
    "  user_id INTEGER NOT NULL, \n",
    "  post_id integer NOT NULL, \n",
    "  FOREIGN KEY (user_id) REFERENCES users (id) FOREIGN KEY (post_id) REFERENCES posts (id)\n",
    ");\n",
    "\"\"\"\n",
    "\n",
    "execute_query(connection, create_comments_table)  \n",
    "execute_query(connection, create_likes_table) "
   ]
  },
  {
   "cell_type": "code",
   "execution_count": 7,
   "id": "structural-reality",
   "metadata": {},
   "outputs": [
    {
     "name": "stdout",
     "output_type": "stream",
     "text": [
      "Query executed successfully\n"
     ]
    }
   ],
   "source": [
    "create_users = \"\"\"\n",
    "INSERT INTO\n",
    "  users (name, age, gender, nationality)\n",
    "VALUES\n",
    "  ('James', 25, 'male', 'USA'),\n",
    "  ('Leila', 32, 'female', 'France'),\n",
    "  ('Brigitte', 35, 'female', 'England'),\n",
    "  ('Mike', 40, 'male', 'Denmark'),\n",
    "  ('Elizabeth', 21, 'female', 'Canada');\n",
    "\"\"\"\n",
    "\n",
    "execute_query(connection, create_users)   "
   ]
  },
  {
   "cell_type": "code",
   "execution_count": 11,
   "id": "speaking-commission",
   "metadata": {},
   "outputs": [
    {
     "name": "stdout",
     "output_type": "stream",
     "text": [
      "Query executed successfully\n"
     ]
    }
   ],
   "source": [
    "create_posts = \"\"\"\n",
    "INSERT INTO\n",
    "  posts (title, description, user_id)\n",
    "VALUES\n",
    "  (\"Happy\", \"I am feeling very happy today\", 1),\n",
    "  (\"Hot Weather\", \"The weather is very hot today\", 2),\n",
    "  (\"Help\", \"I need some help with my work\", 2),\n",
    "  (\"Great News\", \"I am getting married\", 1),\n",
    "  (\"Interesting Game\", \"It was a fantastic game of tennis\", 5),\n",
    "  (\"Party\", \"Anyone up for a late-night party today?\", 3);\n",
    "\"\"\"\n",
    "\n",
    "execute_query(connection, create_posts)  "
   ]
  },
  {
   "cell_type": "code",
   "execution_count": 12,
   "id": "retained-price",
   "metadata": {},
   "outputs": [
    {
     "name": "stdout",
     "output_type": "stream",
     "text": [
      "Query executed successfully\n"
     ]
    }
   ],
   "source": [
    "create_posts = \"\"\"\n",
    "INSERT INTO\n",
    "  posts (title, description, user_id)\n",
    "VALUES\n",
    "  (\"Happy\", \"I am feeling very happy today\", 1),\n",
    "  (\"Hot Weather\", \"The weather is very hot today\", 2),\n",
    "  (\"Help\", \"I need some help with my work\", 2),\n",
    "  (\"Great News\", \"I am getting married\", 1),\n",
    "  (\"Interesting Game\", \"It was a fantastic game of tennis\", 5),\n",
    "  (\"Party\", \"Anyone up for a late-night party today?\", 3);\n",
    "\"\"\"\n",
    "\n",
    "execute_query(connection, create_posts)  "
   ]
  },
  {
   "cell_type": "code",
   "execution_count": 13,
   "id": "hollow-canal",
   "metadata": {},
   "outputs": [
    {
     "name": "stdout",
     "output_type": "stream",
     "text": [
      "Query executed successfully\n",
      "Query executed successfully\n"
     ]
    }
   ],
   "source": [
    "create_comments = \"\"\"\n",
    "INSERT INTO\n",
    "  comments (text, user_id, post_id)\n",
    "VALUES\n",
    "  ('Count me in', 1, 6),\n",
    "  ('What sort of help?', 5, 3),\n",
    "  ('Congrats buddy', 2, 4),\n",
    "  ('I was rooting for Nadal though', 4, 5),\n",
    "  ('Help with your thesis?', 2, 3),\n",
    "  ('Many congratulations', 5, 4);\n",
    "\"\"\"\n",
    "\n",
    "create_likes = \"\"\"\n",
    "INSERT INTO\n",
    "  likes (user_id, post_id)\n",
    "VALUES\n",
    "  (1, 6),\n",
    "  (2, 3),\n",
    "  (1, 5),\n",
    "  (5, 4),\n",
    "  (2, 4),\n",
    "  (4, 2),\n",
    "  (3, 6);\n",
    "\"\"\"\n",
    "\n",
    "execute_query(connection, create_comments)\n",
    "execute_query(connection, create_likes) "
   ]
  },
  {
   "cell_type": "code",
   "execution_count": 14,
   "id": "caring-biodiversity",
   "metadata": {},
   "outputs": [],
   "source": [
    "def execute_read_query(connection, query):\n",
    "    cursor = connection.cursor()\n",
    "    result = None\n",
    "    try:\n",
    "        cursor.execute(query)\n",
    "        result = cursor.fetchall()\n",
    "        return result\n",
    "    except Error as e:\n",
    "        print(f\"The error '{e}' occurred\")"
   ]
  },
  {
   "cell_type": "code",
   "execution_count": 15,
   "id": "double-warren",
   "metadata": {},
   "outputs": [
    {
     "name": "stdout",
     "output_type": "stream",
     "text": [
      "(1, 'James', 25, 'male', 'USA')\n",
      "(2, 'Leila', 32, 'female', 'France')\n",
      "(3, 'Brigitte', 35, 'female', 'England')\n",
      "(4, 'Mike', 40, 'male', 'Denmark')\n",
      "(5, 'Elizabeth', 21, 'female', 'Canada')\n"
     ]
    }
   ],
   "source": [
    "select_users = \"SELECT * from users\"\n",
    "users = execute_read_query(connection, select_users)\n",
    "\n",
    "for user in users:\n",
    "    print(user)"
   ]
  },
  {
   "cell_type": "code",
   "execution_count": 16,
   "id": "above-employee",
   "metadata": {},
   "outputs": [
    {
     "name": "stdout",
     "output_type": "stream",
     "text": [
      "Query executed successfully\n"
     ]
    }
   ],
   "source": [
    "update_post_description = \"\"\"\n",
    "UPDATE\n",
    "  posts\n",
    "SET\n",
    "  description = \"The weather has become pleasant now\"\n",
    "WHERE\n",
    "  id = 2\n",
    "\"\"\"\n",
    "\n",
    "execute_query(connection, update_post_description)"
   ]
  },
  {
   "cell_type": "code",
   "execution_count": 17,
   "id": "minimal-birthday",
   "metadata": {},
   "outputs": [
    {
     "name": "stdout",
     "output_type": "stream",
     "text": [
      "Query executed successfully\n"
     ]
    }
   ],
   "source": [
    "delete_comment = \"DELETE FROM comments WHERE id = 5\"\n",
    "execute_query(connection, delete_comment)"
   ]
  },
  {
   "cell_type": "markdown",
   "id": "mature-wrapping",
   "metadata": {},
   "source": [
    "# MISC"
   ]
  },
  {
   "cell_type": "code",
   "execution_count": 13,
   "id": "original-forward",
   "metadata": {},
   "outputs": [],
   "source": [
    "# test Foursquare credentials\n",
    "test_url = 'https://api.foursquare.com/v2/venues/search'\n",
    "test_fsq = re.get(test_url, \n",
    "                  params={'client_id':fsq_id, \n",
    "                          'client_secret':fsq_secret,\n",
    "                          'll':'40.7,-74',\n",
    "                          'v':'20210302'})"
   ]
  },
  {
   "cell_type": "code",
   "execution_count": 321,
   "id": "hawaiian-disorder",
   "metadata": {},
   "outputs": [
    {
     "ename": "NameError",
     "evalue": "name 'test_fsq' is not defined",
     "output_type": "error",
     "traceback": [
      "\u001b[0;31m---------------------------------------------------------------------------\u001b[0m",
      "\u001b[0;31mNameError\u001b[0m                                 Traceback (most recent call last)",
      "\u001b[0;32m<ipython-input-321-1b948d32afa1>\u001b[0m in \u001b[0;36m<module>\u001b[0;34m\u001b[0m\n\u001b[0;32m----> 1\u001b[0;31m \u001b[0mtest_fsq\u001b[0m\u001b[0;34m.\u001b[0m\u001b[0mstatus_code\u001b[0m\u001b[0;34m\u001b[0m\u001b[0;34m\u001b[0m\u001b[0m\n\u001b[0m",
      "\u001b[0;31mNameError\u001b[0m: name 'test_fsq' is not defined"
     ]
    }
   ],
   "source": [
    "test_fsq.status_code"
   ]
  },
  {
   "cell_type": "code",
   "execution_count": null,
   "id": "fabulous-massage",
   "metadata": {},
   "outputs": [],
   "source": []
  },
  {
   "cell_type": "markdown",
   "id": "understood-passion",
   "metadata": {},
   "source": [
    "#### Build SQLite DB"
   ]
  },
  {
   "cell_type": "code",
   "execution_count": 7,
   "id": "white-entrance",
   "metadata": {},
   "outputs": [],
   "source": [
    "def Create_Pandas(data_json):\n",
    "    data = pd.read_json(json.dumps(data_json[list(data_json.keys())[1]])).T\n",
    "    data.index = pd.to_datetime(data.index)\n",
    "    \n",
    "    return data\n",
    "\n",
    "def Get_TimeSeries(stock, period):\n",
    "    \"\"\"\n",
    "    A wrapper function to obtain the the time series of a the desired stock from the Alpha Vantage API.\n",
    "    \n",
    "    Parameters:\n",
    "    -----------\n",
    "    stock: the desired stock symbol (e.g., \"GOOG\", \"AMD\", \"FB\", \"INTC\").\n",
    "    period: \"daily\", \"weekly\", \"monthly\"\n",
    "    \n",
    "    Returns:\n",
    "    --------\n",
    "    A pandas dataframe with the columns `open`, `high`, `low`, `close`, and `volume`.\n",
    "    \"\"\"\n",
    "    \n",
    "    # Let's process the period parameter \n",
    "    # which affects the function parameter in the API\n",
    "    # (I'm using a dictionary here so if the user try a period different from\n",
    "    # daily, weekly or monthly, an exception will be raised)\n",
    "    ts_string = \"TIME_SERIES_\"\n",
    "    _function = {'DAILY': ts_string + \"DAILY\",\n",
    "                 'WEEKLY': ts_string + \"WEEKLY\",\n",
    "                 'MONTHLY': ts_string + \"MONTHLY\"}\n",
    "    \n",
    "    # Now let's create a dictionary to hold the parameters of \n",
    "    # our request.\n",
    "    params = {\"function\": _function[period.upper()],\n",
    "              \"symbol\": stock.upper(),\n",
    "              \"outputsize\": \"full\"}\n",
    "    \n",
    "    # Requesting the data\n",
    "    response = data_request(params)\n",
    "    \n",
    "    # Check the result of the request\n",
    "    if response.status_code != 200:\n",
    "        raise Exception(response.reason)\n",
    "    if \"Error Message\" in response.json():\n",
    "        raise ValueError(response.json()[\"Error Message\"])\n",
    "        \n",
    "    # Create the pandas dataframe\n",
    "    data_json = response.json()\n",
    "    data = Create_Pandas(data_json)\n",
    "    data.Stock = data_json['Meta Data']['2. Symbol']\n",
    "    data.LastUpdate = pd.Period(data_json['Meta Data']['3. Last Refreshed'], freq='D')\n",
    "    data.columns = [re.split(\"[1-9]*\\. \", column)[1] for column in data.columns] \n",
    "    \n",
    "    return data"
   ]
  },
  {
   "cell_type": "code",
   "execution_count": null,
   "id": "designing-thread",
   "metadata": {},
   "outputs": [],
   "source": []
  },
  {
   "cell_type": "code",
   "execution_count": null,
   "id": "twenty-couple",
   "metadata": {},
   "outputs": [],
   "source": []
  },
  {
   "cell_type": "code",
   "execution_count": null,
   "id": "amino-austin",
   "metadata": {},
   "outputs": [],
   "source": []
  },
  {
   "cell_type": "code",
   "execution_count": 313,
   "id": "addressed-incidence",
   "metadata": {},
   "outputs": [],
   "source": [
    "def get_data(source, city, query=None, category=None):\n",
    "    \n",
    "    c = {'vancouver':('49.282730','-123.120735'),\n",
    "    'toronto':('43.653225','-79.383186'),\n",
    "    'nyc':('40.712776','-74.005974'),\n",
    "    'new westminster':('49.205719','-122.910957')}\n",
    "    \n",
    "    try:     \n",
    "        latitude, longitude = c[city.lower()]\n",
    "        if source == 'yelp':\n",
    "            \n",
    "            p={'latitude':latitude,\n",
    "               'longitude':longitude,\n",
    "               'radius':'250',\n",
    "               'limit':'5'} #remove for ACTUAL run\n",
    "            \n",
    "            if (category != None):\n",
    "                p['categories'] = ol_categories[ol_categories['overlap']==category]['yelp_name'].iat[0]\n",
    "            if (query != None):\n",
    "                p['term'] = query\n",
    "            \n",
    "            data = re.get('https://api.yelp.com/v3/businesses/search',\n",
    "                         headers={'Authorization':f'Bearer {yelp_key}'},\n",
    "                         params=p)\n",
    "            \n",
    "            data = data.json()\n",
    "            \n",
    "        elif source == 'fsq':\n",
    "            \n",
    "            p = {'ll':f'{latitude},{longitude}',\n",
    "                'radius':'250',\n",
    "                'limit':'5'} #remove for ACTUAL run}\n",
    "            \n",
    "            if (category != None):\n",
    "                p['category'] = ol_categories[ol_categories['overlap']==category]['fsq_id'].iat[0]\n",
    "            if (query != None):\n",
    "                p['query'] = ol_categories[ol_categories['overlap']==query]['fsq_name'].iat[0]\n",
    "            \n",
    "            data = client.venues.search(params=p)\n",
    "\n",
    "        else:\n",
    "            print('try different source (yelp or fsq)')\n",
    "    except:\n",
    "        print('some error occurred')\n",
    "    \n",
    "    return data, city.lower(), source.lower(), query.lower()"
   ]
  }
 ],
 "metadata": {
  "kernelspec": {
   "display_name": "lhl",
   "language": "python",
   "name": "lhl"
  },
  "language_info": {
   "codemirror_mode": {
    "name": "ipython",
    "version": 3
   },
   "file_extension": ".py",
   "mimetype": "text/x-python",
   "name": "python",
   "nbconvert_exporter": "python",
   "pygments_lexer": "ipython3",
   "version": "3.9.4"
  }
 },
 "nbformat": 4,
 "nbformat_minor": 5
}
